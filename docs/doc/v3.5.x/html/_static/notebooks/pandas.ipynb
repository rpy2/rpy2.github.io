{
 "cells": [
  {
   "cell_type": "code",
   "execution_count": 1,
   "id": "40aeb4b6",
   "metadata": {
    "execution": {
     "iopub.execute_input": "2022-04-09T19:54:25.631263Z",
     "iopub.status.busy": "2022-04-09T19:54:25.630905Z",
     "iopub.status.idle": "2022-04-09T19:54:26.502820Z",
     "shell.execute_reply": "2022-04-09T19:54:26.502212Z"
    }
   },
   "outputs": [],
   "source": [
    "from functools import partial\n",
    "from rpy2.ipython import html\n",
    "html.html_rdataframe=partial(html.html_rdataframe, table_class=\"docutils\")"
   ]
  },
  {
   "cell_type": "markdown",
   "id": "a7ad7a4c",
   "metadata": {},
   "source": [
    "# `R` and `pandas` data frames\n",
    "\n",
    "R `data.frame` and :class:`pandas.DataFrame` objects share a lot of\n",
    "conceptual similarities, and :mod:`pandas` chose to use the class name\n",
    "`DataFrame` after R objects.\n",
    "\n",
    "In a nutshell, both are sequences of vectors (or arrays) of consistent\n",
    "length or size for the first dimension (the \"number of rows\").\n",
    "if coming from the database world, an other way to look at them is\n",
    "column-oriented data tables, or data table API.\n",
    "\n",
    "rpy2 is providing an interface between Python and R, and a convenience\n",
    "conversion layer between :class:`rpy2.robjects.vectors.DataFrame` and\n",
    ":class:`pandas.DataFrame` objects, implemented in\n",
    ":mod:`rpy2.robjects.pandas2ri`."
   ]
  },
  {
   "cell_type": "code",
   "execution_count": 2,
   "id": "58189b96",
   "metadata": {
    "execution": {
     "iopub.execute_input": "2022-04-09T19:54:26.506239Z",
     "iopub.status.busy": "2022-04-09T19:54:26.505774Z",
     "iopub.status.idle": "2022-04-09T19:54:26.510393Z",
     "shell.execute_reply": "2022-04-09T19:54:26.509908Z"
    }
   },
   "outputs": [],
   "source": [
    "import pandas as pd\n",
    "import rpy2.robjects as ro\n",
    "from rpy2.robjects.packages import importr \n",
    "from rpy2.robjects import pandas2ri\n",
    "\n",
    "from rpy2.robjects.conversion import localconverter"
   ]
  },
  {
   "cell_type": "markdown",
   "id": "1e873d91",
   "metadata": {},
   "source": [
    "## From `pandas` to `R`\n",
    "\n",
    "Pandas data frame:"
   ]
  },
  {
   "cell_type": "code",
   "execution_count": 3,
   "id": "40122b94",
   "metadata": {
    "execution": {
     "iopub.execute_input": "2022-04-09T19:54:26.513016Z",
     "iopub.status.busy": "2022-04-09T19:54:26.512746Z",
     "iopub.status.idle": "2022-04-09T19:54:26.527993Z",
     "shell.execute_reply": "2022-04-09T19:54:26.527486Z"
    }
   },
   "outputs": [
    {
     "data": {
      "text/html": [
       "<div>\n",
       "<style scoped>\n",
       "    .dataframe tbody tr th:only-of-type {\n",
       "        vertical-align: middle;\n",
       "    }\n",
       "\n",
       "    .dataframe tbody tr th {\n",
       "        vertical-align: top;\n",
       "    }\n",
       "\n",
       "    .dataframe thead th {\n",
       "        text-align: right;\n",
       "    }\n",
       "</style>\n",
       "<table border=\"1\" class=\"dataframe\">\n",
       "  <thead>\n",
       "    <tr style=\"text-align: right;\">\n",
       "      <th></th>\n",
       "      <th>int_values</th>\n",
       "      <th>str_values</th>\n",
       "    </tr>\n",
       "  </thead>\n",
       "  <tbody>\n",
       "    <tr>\n",
       "      <th>0</th>\n",
       "      <td>1</td>\n",
       "      <td>abc</td>\n",
       "    </tr>\n",
       "    <tr>\n",
       "      <th>1</th>\n",
       "      <td>2</td>\n",
       "      <td>def</td>\n",
       "    </tr>\n",
       "    <tr>\n",
       "      <th>2</th>\n",
       "      <td>3</td>\n",
       "      <td>ghi</td>\n",
       "    </tr>\n",
       "  </tbody>\n",
       "</table>\n",
       "</div>"
      ],
      "text/plain": [
       "   int_values str_values\n",
       "0           1        abc\n",
       "1           2        def\n",
       "2           3        ghi"
      ]
     },
     "execution_count": 3,
     "metadata": {},
     "output_type": "execute_result"
    }
   ],
   "source": [
    "pd_df = pd.DataFrame({'int_values': [1,2,3],\n",
    "                      'str_values': ['abc', 'def', 'ghi']})\n",
    "\n",
    "pd_df"
   ]
  },
  {
   "cell_type": "markdown",
   "id": "87edb513",
   "metadata": {},
   "source": [
    "R data frame converted from a `pandas` data frame:"
   ]
  },
  {
   "cell_type": "code",
   "execution_count": 4,
   "id": "6a5c9cf5",
   "metadata": {
    "execution": {
     "iopub.execute_input": "2022-04-09T19:54:26.530763Z",
     "iopub.status.busy": "2022-04-09T19:54:26.530344Z",
     "iopub.status.idle": "2022-04-09T19:54:26.540340Z",
     "shell.execute_reply": "2022-04-09T19:54:26.539846Z"
    }
   },
   "outputs": [
    {
     "data": {
      "text/html": [
       "\n",
       "        <span>R/rpy2 DataFrame (3 x 2)</span>\n",
       "        <table>\n",
       "          <thead>\n",
       "            <tr>\n",
       "              \n",
       "              <th>int_values</th>\n",
       "              \n",
       "              <th>str_values</th>\n",
       "              \n",
       "            </tr>\n",
       "          </thead>\n",
       "          <tbody>\n",
       "          \n",
       "          <tr>\n",
       "            \n",
       "            <td>\n",
       "              ...\n",
       "            </td>\n",
       "            \n",
       "            <td>\n",
       "              ...\n",
       "            </td>\n",
       "            \n",
       "          </tr>\n",
       "          \n",
       "          </tbody>\n",
       "        </table>\n",
       "    "
      ],
      "text/plain": [
       "<rpy2.robjects.vectors.DataFrame object at 0x7f0d3c78e700> [RTYPES.VECSXP]\n",
       "R classes: ('data.frame',)\n",
       "[IntSexpVector, StrSexpVector]\n",
       "  int_values: <class 'rpy2.rinterface.IntSexpVector'>\n",
       "  <rpy2.rinterface.IntSexpVector object at 0x7f0d3c712740> [RTYPES.INTSXP]\n",
       "  str_values: <class 'rpy2.rinterface_lib.sexp.StrSexpVector'>\n",
       "  <rpy2.rinterface_lib.sexp.StrSexpVector object at 0x7f0d3c7685c0> [RTYPES.STRSXP]"
      ]
     },
     "execution_count": 4,
     "metadata": {},
     "output_type": "execute_result"
    }
   ],
   "source": [
    "with localconverter(ro.default_converter + pandas2ri.converter):\n",
    "  r_from_pd_df = ro.conversion.py2rpy(pd_df)\n",
    "\n",
    "r_from_pd_df"
   ]
  },
  {
   "cell_type": "markdown",
   "id": "3bbe4fce",
   "metadata": {},
   "source": [
    "The conversion is automatically happening when calling R functions.\n",
    "For example, when calling the R function `base::summary`:"
   ]
  },
  {
   "cell_type": "code",
   "execution_count": 5,
   "id": "b31aece9",
   "metadata": {
    "execution": {
     "iopub.execute_input": "2022-04-09T19:54:26.543189Z",
     "iopub.status.busy": "2022-04-09T19:54:26.542911Z",
     "iopub.status.idle": "2022-04-09T19:54:27.293861Z",
     "shell.execute_reply": "2022-04-09T19:54:27.293298Z"
    }
   },
   "outputs": [
    {
     "name": "stdout",
     "output_type": "stream",
     "text": [
      "   int_values   str_values       \n",
      " Min.   :1.0   Length:3          \n",
      " 1st Qu.:1.5   Class :character  \n",
      " Median :2.0   Mode  :character  \n",
      " Mean   :2.0                     \n",
      " 3rd Qu.:2.5                     \n",
      " Max.   :3.0                     \n",
      "\n"
     ]
    }
   ],
   "source": [
    "base = importr('base')\n",
    "\n",
    "with localconverter(ro.default_converter + pandas2ri.converter):\n",
    "  df_summary = base.summary(pd_df)\n",
    "print(df_summary)"
   ]
  },
  {
   "cell_type": "markdown",
   "id": "e1c36ffe",
   "metadata": {},
   "source": [
    "Note that a `ContextManager` is used to limit the scope of the\n",
    "conversion. Without it, rpy2 will not know how to convert a pandas\n",
    "data frame:"
   ]
  },
  {
   "cell_type": "code",
   "execution_count": 6,
   "id": "7019763a",
   "metadata": {
    "execution": {
     "iopub.execute_input": "2022-04-09T19:54:27.296823Z",
     "iopub.status.busy": "2022-04-09T19:54:27.296374Z",
     "iopub.status.idle": "2022-04-09T19:54:27.302342Z",
     "shell.execute_reply": "2022-04-09T19:54:27.301837Z"
    }
   },
   "outputs": [
    {
     "name": "stdout",
     "output_type": "stream",
     "text": [
      "NotImplementedError:\n",
      "Conversion 'py2rpy' not defined for objects of type '<class 'pandas.core.frame.DataFrame'>'\n"
     ]
    }
   ],
   "source": [
    "try:\n",
    "  df_summary = base.summary(pd_df)\n",
    "except NotImplementedError as nie:\n",
    "  print('NotImplementedError:')\n",
    "  print(nie)"
   ]
  },
  {
   "cell_type": "markdown",
   "id": "3d0b3b23",
   "metadata": {},
   "source": [
    "## From `R` to `pandas`\n",
    "\n",
    "Starting from an R data frame this time:"
   ]
  },
  {
   "cell_type": "code",
   "execution_count": 7,
   "id": "27c05b57",
   "metadata": {
    "execution": {
     "iopub.execute_input": "2022-04-09T19:54:27.304769Z",
     "iopub.status.busy": "2022-04-09T19:54:27.304609Z",
     "iopub.status.idle": "2022-04-09T19:54:27.312005Z",
     "shell.execute_reply": "2022-04-09T19:54:27.311527Z"
    }
   },
   "outputs": [
    {
     "data": {
      "text/html": [
       "\n",
       "        <span>R/rpy2 DataFrame (3 x 2)</span>\n",
       "        <table>\n",
       "          <thead>\n",
       "            <tr>\n",
       "              \n",
       "              <th>int_values</th>\n",
       "              \n",
       "              <th>str_values</th>\n",
       "              \n",
       "            </tr>\n",
       "          </thead>\n",
       "          <tbody>\n",
       "          \n",
       "          <tr>\n",
       "            \n",
       "            <td>\n",
       "              ...\n",
       "            </td>\n",
       "            \n",
       "            <td>\n",
       "              ...\n",
       "            </td>\n",
       "            \n",
       "          </tr>\n",
       "          \n",
       "          </tbody>\n",
       "        </table>\n",
       "    "
      ],
      "text/plain": [
       "<rpy2.robjects.vectors.DataFrame object at 0x7f0d3c776400> [RTYPES.VECSXP]\n",
       "R classes: ('data.frame',)\n",
       "[IntSexpVector, StrSexpVector]\n",
       "  int_values: <class 'rpy2.rinterface.IntSexpVector'>\n",
       "  <rpy2.rinterface.IntSexpVector object at 0x7f0d3c6a9040> [RTYPES.INTSXP]\n",
       "  str_values: <class 'rpy2.rinterface_lib.sexp.StrSexpVector'>\n",
       "  <rpy2.rinterface_lib.sexp.StrSexpVector object at 0x7f0d3c6a96c0> [RTYPES.STRSXP]"
      ]
     },
     "execution_count": 7,
     "metadata": {},
     "output_type": "execute_result"
    }
   ],
   "source": [
    "r_df = ro.DataFrame({'int_values': ro.IntVector([1,2,3]),\n",
    "                     'str_values': ro.StrVector(['abc', 'def', 'ghi'])})\n",
    "\n",
    "r_df"
   ]
  },
  {
   "cell_type": "markdown",
   "id": "af10a1be",
   "metadata": {},
   "source": [
    "It can be converted to a pandas data frame using the same converter:"
   ]
  },
  {
   "cell_type": "code",
   "execution_count": 8,
   "id": "84b95a42",
   "metadata": {
    "execution": {
     "iopub.execute_input": "2022-04-09T19:54:27.315097Z",
     "iopub.status.busy": "2022-04-09T19:54:27.314687Z",
     "iopub.status.idle": "2022-04-09T19:54:27.325195Z",
     "shell.execute_reply": "2022-04-09T19:54:27.324702Z"
    }
   },
   "outputs": [
    {
     "data": {
      "text/html": [
       "<div>\n",
       "<style scoped>\n",
       "    .dataframe tbody tr th:only-of-type {\n",
       "        vertical-align: middle;\n",
       "    }\n",
       "\n",
       "    .dataframe tbody tr th {\n",
       "        vertical-align: top;\n",
       "    }\n",
       "\n",
       "    .dataframe thead th {\n",
       "        text-align: right;\n",
       "    }\n",
       "</style>\n",
       "<table border=\"1\" class=\"dataframe\">\n",
       "  <thead>\n",
       "    <tr style=\"text-align: right;\">\n",
       "      <th></th>\n",
       "      <th>int_values</th>\n",
       "      <th>str_values</th>\n",
       "    </tr>\n",
       "  </thead>\n",
       "  <tbody>\n",
       "    <tr>\n",
       "      <th>1</th>\n",
       "      <td>1</td>\n",
       "      <td>abc</td>\n",
       "    </tr>\n",
       "    <tr>\n",
       "      <th>2</th>\n",
       "      <td>2</td>\n",
       "      <td>def</td>\n",
       "    </tr>\n",
       "    <tr>\n",
       "      <th>3</th>\n",
       "      <td>3</td>\n",
       "      <td>ghi</td>\n",
       "    </tr>\n",
       "  </tbody>\n",
       "</table>\n",
       "</div>"
      ],
      "text/plain": [
       "   int_values str_values\n",
       "1           1        abc\n",
       "2           2        def\n",
       "3           3        ghi"
      ]
     },
     "execution_count": 8,
     "metadata": {},
     "output_type": "execute_result"
    }
   ],
   "source": [
    "with localconverter(ro.default_converter + pandas2ri.converter):\n",
    "  pd_from_r_df = ro.conversion.rpy2py(r_df)\n",
    "\n",
    "pd_from_r_df"
   ]
  },
  {
   "cell_type": "markdown",
   "id": "2d51ab6f",
   "metadata": {},
   "source": [
    "## Date and time objects"
   ]
  },
  {
   "cell_type": "code",
   "execution_count": 9,
   "id": "34301774",
   "metadata": {
    "execution": {
     "iopub.execute_input": "2022-04-09T19:54:27.327664Z",
     "iopub.status.busy": "2022-04-09T19:54:27.327440Z",
     "iopub.status.idle": "2022-04-09T19:54:27.336933Z",
     "shell.execute_reply": "2022-04-09T19:54:27.336437Z"
    }
   },
   "outputs": [
    {
     "data": {
      "text/html": [
       "<div>\n",
       "<style scoped>\n",
       "    .dataframe tbody tr th:only-of-type {\n",
       "        vertical-align: middle;\n",
       "    }\n",
       "\n",
       "    .dataframe tbody tr th {\n",
       "        vertical-align: top;\n",
       "    }\n",
       "\n",
       "    .dataframe thead th {\n",
       "        text-align: right;\n",
       "    }\n",
       "</style>\n",
       "<table border=\"1\" class=\"dataframe\">\n",
       "  <thead>\n",
       "    <tr style=\"text-align: right;\">\n",
       "      <th></th>\n",
       "      <th>Timestamp</th>\n",
       "    </tr>\n",
       "  </thead>\n",
       "  <tbody>\n",
       "    <tr>\n",
       "      <th>0</th>\n",
       "      <td>2017-01-01 00:00:00</td>\n",
       "    </tr>\n",
       "    <tr>\n",
       "      <th>1</th>\n",
       "      <td>2017-01-01 00:00:01</td>\n",
       "    </tr>\n",
       "    <tr>\n",
       "      <th>2</th>\n",
       "      <td>2017-01-01 00:00:02</td>\n",
       "    </tr>\n",
       "    <tr>\n",
       "      <th>3</th>\n",
       "      <td>2017-01-01 00:00:03</td>\n",
       "    </tr>\n",
       "    <tr>\n",
       "      <th>4</th>\n",
       "      <td>2017-01-01 00:00:04</td>\n",
       "    </tr>\n",
       "    <tr>\n",
       "      <th>5</th>\n",
       "      <td>2017-01-01 00:00:05</td>\n",
       "    </tr>\n",
       "    <tr>\n",
       "      <th>6</th>\n",
       "      <td>2017-01-01 00:00:06</td>\n",
       "    </tr>\n",
       "    <tr>\n",
       "      <th>7</th>\n",
       "      <td>2017-01-01 00:00:07</td>\n",
       "    </tr>\n",
       "    <tr>\n",
       "      <th>8</th>\n",
       "      <td>2017-01-01 00:00:08</td>\n",
       "    </tr>\n",
       "    <tr>\n",
       "      <th>9</th>\n",
       "      <td>2017-01-01 00:00:09</td>\n",
       "    </tr>\n",
       "  </tbody>\n",
       "</table>\n",
       "</div>"
      ],
      "text/plain": [
       "            Timestamp\n",
       "0 2017-01-01 00:00:00\n",
       "1 2017-01-01 00:00:01\n",
       "2 2017-01-01 00:00:02\n",
       "3 2017-01-01 00:00:03\n",
       "4 2017-01-01 00:00:04\n",
       "5 2017-01-01 00:00:05\n",
       "6 2017-01-01 00:00:06\n",
       "7 2017-01-01 00:00:07\n",
       "8 2017-01-01 00:00:08\n",
       "9 2017-01-01 00:00:09"
      ]
     },
     "execution_count": 9,
     "metadata": {},
     "output_type": "execute_result"
    }
   ],
   "source": [
    "pd_df = pd.DataFrame({\n",
    "    'Timestamp': pd.date_range('2017-01-01 00:00:00', periods=10, freq='s')\n",
    "    })\n",
    "    \n",
    "pd_df"
   ]
  },
  {
   "cell_type": "code",
   "execution_count": 10,
   "id": "2bb01d29",
   "metadata": {
    "execution": {
     "iopub.execute_input": "2022-04-09T19:54:27.339820Z",
     "iopub.status.busy": "2022-04-09T19:54:27.339414Z",
     "iopub.status.idle": "2022-04-09T19:54:27.348899Z",
     "shell.execute_reply": "2022-04-09T19:54:27.348399Z"
    }
   },
   "outputs": [
    {
     "data": {
      "text/html": [
       "\n",
       "        <span>R/rpy2 DataFrame (10 x 1)</span>\n",
       "        <table>\n",
       "          <thead>\n",
       "            <tr>\n",
       "              \n",
       "              <th>Timestamp</th>\n",
       "              \n",
       "            </tr>\n",
       "          </thead>\n",
       "          <tbody>\n",
       "          \n",
       "          <tr>\n",
       "            \n",
       "            <td>\n",
       "              ...\n",
       "            </td>\n",
       "            \n",
       "          </tr>\n",
       "          \n",
       "          </tbody>\n",
       "        </table>\n",
       "    "
      ],
      "text/plain": [
       "<rpy2.robjects.vectors.DataFrame object at 0x7f0d3c787240> [RTYPES.VECSXP]\n",
       "R classes: ('data.frame',)\n",
       "[FloatSexpVector]\n",
       "  Timestamp: <class 'rpy2.rinterface.FloatSexpVector'>\n",
       "  <rpy2.rinterface.FloatSexpVector object at 0x7f0d709ab600> [RTYPES.REALSXP]"
      ]
     },
     "execution_count": 10,
     "metadata": {},
     "output_type": "execute_result"
    }
   ],
   "source": [
    "with localconverter(ro.default_converter + pandas2ri.converter):\n",
    "  r_from_pd_df = ro.conversion.py2rpy(pd_df)\n",
    "\n",
    "r_from_pd_df"
   ]
  },
  {
   "cell_type": "markdown",
   "id": "d524eab0",
   "metadata": {},
   "source": [
    "The timezone used for conversion is the system's default timezone unless `pandas2ri.default_timezone`\n",
    "is specified... or unless the time zone is specified in the original time object:"
   ]
  },
  {
   "cell_type": "code",
   "execution_count": 11,
   "id": "7bed6e70",
   "metadata": {
    "execution": {
     "iopub.execute_input": "2022-04-09T19:54:27.351815Z",
     "iopub.status.busy": "2022-04-09T19:54:27.351424Z",
     "iopub.status.idle": "2022-04-09T19:54:27.362065Z",
     "shell.execute_reply": "2022-04-09T19:54:27.361580Z"
    }
   },
   "outputs": [
    {
     "data": {
      "text/html": [
       "\n",
       "        <span>R/rpy2 DataFrame (10 x 1)</span>\n",
       "        <table>\n",
       "          <thead>\n",
       "            <tr>\n",
       "              \n",
       "              <th>Timestamp</th>\n",
       "              \n",
       "            </tr>\n",
       "          </thead>\n",
       "          <tbody>\n",
       "          \n",
       "          <tr>\n",
       "            \n",
       "            <td>\n",
       "              ...\n",
       "            </td>\n",
       "            \n",
       "          </tr>\n",
       "          \n",
       "          </tbody>\n",
       "        </table>\n",
       "    "
      ],
      "text/plain": [
       "<rpy2.robjects.vectors.DataFrame object at 0x7f0d3c5ae4c0> [RTYPES.VECSXP]\n",
       "R classes: ('data.frame',)\n",
       "[FloatSexpVector]\n",
       "  Timestamp: <class 'rpy2.rinterface.FloatSexpVector'>\n",
       "  <rpy2.rinterface.FloatSexpVector object at 0x7f0d3c607540> [RTYPES.REALSXP]"
      ]
     },
     "execution_count": 11,
     "metadata": {},
     "output_type": "execute_result"
    }
   ],
   "source": [
    "pd_tz_df = pd.DataFrame({\n",
    "    'Timestamp': pd.date_range('2017-01-01 00:00:00', periods=10, freq='s',\n",
    "                               tz='UTC')\n",
    "    })\n",
    "    \n",
    "with localconverter(ro.default_converter + pandas2ri.converter):\n",
    "  r_from_pd_tz_df = ro.conversion.py2rpy(pd_tz_df)\n",
    "\n",
    "r_from_pd_tz_df"
   ]
  }
 ],
 "metadata": {
  "language_info": {
   "codemirror_mode": {
    "name": "ipython",
    "version": 3
   },
   "file_extension": ".py",
   "mimetype": "text/x-python",
   "name": "python",
   "nbconvert_exporter": "python",
   "pygments_lexer": "ipython3",
   "version": "3.8.10"
  }
 },
 "nbformat": 4,
 "nbformat_minor": 5
}

{
 "cells": [
  {
   "cell_type": "code",
   "execution_count": 1,
   "id": "cbc2f866",
   "metadata": {
    "execution": {
     "iopub.execute_input": "2023-01-07T20:04:13.472517Z",
     "iopub.status.busy": "2023-01-07T20:04:13.472087Z",
     "iopub.status.idle": "2023-01-07T20:04:14.360035Z",
     "shell.execute_reply": "2023-01-07T20:04:14.358462Z"
    }
   },
   "outputs": [],
   "source": [
    "from functools import partial\n",
    "from rpy2.ipython import html\n",
    "html.html_rdataframe=partial(html.html_rdataframe, table_class=\"docutils\")"
   ]
  },
  {
   "cell_type": "markdown",
   "id": "87e8b599",
   "metadata": {},
   "source": [
    "# tidyr in Python"
   ]
  },
  {
   "cell_type": "code",
   "execution_count": 2,
   "id": "4667748e",
   "metadata": {
    "execution": {
     "iopub.execute_input": "2023-01-07T20:04:14.364256Z",
     "iopub.status.busy": "2023-01-07T20:04:14.363697Z",
     "iopub.status.idle": "2023-01-07T20:04:16.397552Z",
     "shell.execute_reply": "2023-01-07T20:04:16.395645Z"
    }
   },
   "outputs": [
    {
     "name": "stderr",
     "output_type": "stream",
     "text": [
      "/opt/hostedtoolcache/Python/3.9.16/x64/lib/python3.9/site-packages/rpy2/robjects/lib/tidyr.py:12: UserWarning: This was designed againt tidyr versions starting with 1.1. but you have 1.2.1\n",
      "  warnings.warn(\n"
     ]
    }
   ],
   "source": [
    "from rpy2.robjects.lib.tidyr import DataFrame"
   ]
  },
  {
   "cell_type": "markdown",
   "id": "e2e74983",
   "metadata": {},
   "source": [
    "(note: `dplyr` is implicitly used by `tidyr`.)\n",
    "\n",
    "In addition to that, and because this tutorial is in a notebook,\n",
    "we initialize HTML rendering for R objects (pretty display of\n",
    "R data frames)."
   ]
  },
  {
   "cell_type": "code",
   "execution_count": 3,
   "id": "f3ed0f73",
   "metadata": {
    "execution": {
     "iopub.execute_input": "2023-01-07T20:04:16.400971Z",
     "iopub.status.busy": "2023-01-07T20:04:16.400481Z",
     "iopub.status.idle": "2023-01-07T20:04:16.406649Z",
     "shell.execute_reply": "2023-01-07T20:04:16.405991Z"
    }
   },
   "outputs": [],
   "source": [
    "import rpy2.ipython.html\n",
    "rpy2.ipython.html.init_printing()"
   ]
  },
  {
   "cell_type": "code",
   "execution_count": 4,
   "id": "b6ab8b6e",
   "metadata": {
    "execution": {
     "iopub.execute_input": "2023-01-07T20:04:16.409510Z",
     "iopub.status.busy": "2023-01-07T20:04:16.409134Z",
     "iopub.status.idle": "2023-01-07T20:04:16.421145Z",
     "shell.execute_reply": "2023-01-07T20:04:16.420499Z"
    }
   },
   "outputs": [
    {
     "data": {
      "text/html": [
       "\n",
       "<emph>DataFrame</emph> with 3 rows and\n",
       "  3 columns:\n",
       "<table class=\"docutils\">\n",
       "  <thead>\n",
       "    <tr class=\"rpy2_names\">\n",
       "      <th></th>\n",
       "      <th></th>\n",
       "      <th>x</th>\n",
       "      <th>y</th>\n",
       "      <th>z</th>\n",
       "    </tr>\n",
       "  </thead>\n",
       "  <tbody>\n",
       "    <tr>\n",
       "      <td class=\"rpy2_rowname\">0</td>\n",
       "        <td class=\"rpy2_names\">1</td>\n",
       "      <td>a</td>\n",
       "      <td>3</td>\n",
       "      <td>6</td>\n",
       "    </tr>\n",
       "    <tr>\n",
       "      <td class=\"rpy2_rowname\">1</td>\n",
       "        <td class=\"rpy2_names\">2</td>\n",
       "      <td>b</td>\n",
       "      <td>4</td>\n",
       "      <td>7</td>\n",
       "    </tr>\n",
       "    <tr>\n",
       "      <td class=\"rpy2_rowname\">2</td>\n",
       "        <td class=\"rpy2_names\">3</td>\n",
       "      <td>b</td>\n",
       "      <td>5</td>\n",
       "      <td>8</td>\n",
       "    </tr>\n",
       "  </tbody>\n",
       "</table>"
      ],
      "text/plain": [
       "<rpy2.robjects.lib.tidyr.DataFrame object at 0x7f0cbea77380> [RTYPES.VECSXP]\n",
       "R classes: ('data.frame',)\n",
       "[StrSexpVector, IntSexpVector, IntSexpVector]\n",
       "  x: <class 'rpy2.rinterface_lib.sexp.StrSexpVector'>\n",
       "  <rpy2.rinterface_lib.sexp.StrSexpVector object at 0x7f0cbea727c0> [RTYPES.STRSXP]\n",
       "  y: <class 'rpy2.rinterface.IntSexpVector'>\n",
       "  <rpy2.rinterface.IntSexpVector object at 0x7f0cbea72300> [RTYPES.INTSXP]\n",
       "  z: <class 'rpy2.rinterface.IntSexpVector'>\n",
       "  <rpy2.rinterface.IntSexpVector object at 0x7f0cbea72200> [RTYPES.INTSXP]"
      ]
     },
     "execution_count": 4,
     "metadata": {},
     "output_type": "execute_result"
    }
   ],
   "source": [
    "from collections import OrderedDict\n",
    "from rpy2.robjects.vectors import (StrVector,\n",
    "                                   IntVector)\n",
    "dataf = DataFrame(OrderedDict(x=StrVector((\"a\", \"b\", \"b\")),\n",
    "                              y=IntVector((3, 4, 5)),\n",
    "\t\t              z=IntVector((6, 7, 8))))\n",
    "dataf"
   ]
  },
  {
   "cell_type": "code",
   "execution_count": 5,
   "id": "f87598af",
   "metadata": {
    "execution": {
     "iopub.execute_input": "2023-01-07T20:04:16.424314Z",
     "iopub.status.busy": "2023-01-07T20:04:16.424091Z",
     "iopub.status.idle": "2023-01-07T20:04:16.442083Z",
     "shell.execute_reply": "2023-01-07T20:04:16.441430Z"
    }
   },
   "outputs": [
    {
     "data": {
      "text/html": [
       "\n",
       "<emph>DataFrame</emph> with 3 rows and\n",
       "  3 columns:\n",
       "<table class=\"docutils\">\n",
       "  <thead>\n",
       "    <tr class=\"rpy2_names\">\n",
       "      <th></th>\n",
       "      <th></th>\n",
       "      <th>z</th>\n",
       "      <th>a</th>\n",
       "      <th>b</th>\n",
       "    </tr>\n",
       "  </thead>\n",
       "  <tbody>\n",
       "    <tr>\n",
       "      <td class=\"rpy2_rowname\">0</td>\n",
       "        <td class=\"rpy2_names\">1</td>\n",
       "      <td>6</td>\n",
       "      <td>3</td>\n",
       "      <td>NA_integer_</td>\n",
       "    </tr>\n",
       "    <tr>\n",
       "      <td class=\"rpy2_rowname\">1</td>\n",
       "        <td class=\"rpy2_names\">2</td>\n",
       "      <td>7</td>\n",
       "      <td>NA_integer_</td>\n",
       "      <td>4</td>\n",
       "    </tr>\n",
       "    <tr>\n",
       "      <td class=\"rpy2_rowname\">2</td>\n",
       "        <td class=\"rpy2_names\">3</td>\n",
       "      <td>8</td>\n",
       "      <td>NA_integer_</td>\n",
       "      <td>5</td>\n",
       "    </tr>\n",
       "  </tbody>\n",
       "</table>"
      ],
      "text/plain": [
       "<rpy2.robjects.lib.tidyr.DataFrame object at 0x7f0ce83bf180> [RTYPES.VECSXP]\n",
       "R classes: ('data.frame',)\n",
       "[IntSexpVector, IntSexpVector, IntSexpVector]\n",
       "  z: <class 'rpy2.rinterface.IntSexpVector'>\n",
       "  <rpy2.rinterface.IntSexpVector object at 0x7f0d04689c80> [RTYPES.INTSXP]\n",
       "  a: <class 'rpy2.rinterface.IntSexpVector'>\n",
       "  <rpy2.rinterface.IntSexpVector object at 0x7f0cbec0bf40> [RTYPES.INTSXP]\n",
       "  b: <class 'rpy2.rinterface.IntSexpVector'>\n",
       "  <rpy2.rinterface.IntSexpVector object at 0x7f0cbea77980> [RTYPES.INTSXP]"
      ]
     },
     "execution_count": 5,
     "metadata": {},
     "output_type": "execute_result"
    }
   ],
   "source": [
    "dataf.spread('x', 'y')"
   ]
  },
  {
   "cell_type": "markdown",
   "id": "7bdef0fb",
   "metadata": {},
   "source": [
    "**Reuse. Get things done. Don't reimplement.**"
   ]
  }
 ],
 "metadata": {
  "language_info": {
   "codemirror_mode": {
    "name": "ipython",
    "version": 3
   },
   "file_extension": ".py",
   "mimetype": "text/x-python",
   "name": "python",
   "nbconvert_exporter": "python",
   "pygments_lexer": "ipython3",
   "version": "3.9.16"
  }
 },
 "nbformat": 4,
 "nbformat_minor": 5
}

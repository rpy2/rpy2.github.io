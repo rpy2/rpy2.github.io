{
 "cells": [
  {
   "cell_type": "code",
   "execution_count": 1,
   "id": "dc49a746",
   "metadata": {
    "execution": {
     "iopub.execute_input": "2023-03-05T22:42:21.334484Z",
     "iopub.status.busy": "2023-03-05T22:42:21.332982Z",
     "iopub.status.idle": "2023-03-05T22:42:22.398080Z",
     "shell.execute_reply": "2023-03-05T22:42:22.396999Z"
    }
   },
   "outputs": [],
   "source": [
    "from functools import partial\n",
    "from rpy2.ipython import html\n",
    "html.html_rdataframe=partial(html.html_rdataframe, table_class=\"docutils\")"
   ]
  },
  {
   "cell_type": "markdown",
   "id": "39445d2a",
   "metadata": {},
   "source": [
    "# tidyr in Python"
   ]
  },
  {
   "cell_type": "code",
   "execution_count": 2,
   "id": "dc7ea819",
   "metadata": {
    "execution": {
     "iopub.execute_input": "2023-03-05T22:42:22.402579Z",
     "iopub.status.busy": "2023-03-05T22:42:22.402206Z",
     "iopub.status.idle": "2023-03-05T22:42:24.896938Z",
     "shell.execute_reply": "2023-03-05T22:42:24.895884Z"
    }
   },
   "outputs": [
    {
     "name": "stderr",
     "output_type": "stream",
     "text": [
      "/opt/hostedtoolcache/Python/3.9.16/x64/lib/python3.9/site-packages/rpy2/robjects/lib/dplyr.py:27: UserWarning: This was designed againt dplyr versions starting with 1.0 but you have 1.1.0\n",
      "  warnings.warn(\n"
     ]
    },
    {
     "name": "stderr",
     "output_type": "stream",
     "text": [
      "/opt/hostedtoolcache/Python/3.9.16/x64/lib/python3.9/site-packages/rpy2/robjects/lib/tidyr.py:12: UserWarning: This was designed againt tidyr versions starting with 1.2. but you have 1.3.0\n",
      "  warnings.warn(\n"
     ]
    }
   ],
   "source": [
    "from rpy2.robjects.lib.tidyr import DataFrame"
   ]
  },
  {
   "cell_type": "markdown",
   "id": "582f471b",
   "metadata": {},
   "source": [
    "(note: `dplyr` is implicitly used by `tidyr`.)\n",
    "\n",
    "In addition to that, and because this tutorial is in a notebook,\n",
    "we initialize HTML rendering for R objects (pretty display of\n",
    "R data frames)."
   ]
  },
  {
   "cell_type": "code",
   "execution_count": 3,
   "id": "5255afbb",
   "metadata": {
    "execution": {
     "iopub.execute_input": "2023-03-05T22:42:24.900526Z",
     "iopub.status.busy": "2023-03-05T22:42:24.900034Z",
     "iopub.status.idle": "2023-03-05T22:42:24.907524Z",
     "shell.execute_reply": "2023-03-05T22:42:24.906812Z"
    }
   },
   "outputs": [],
   "source": [
    "import rpy2.ipython.html\n",
    "rpy2.ipython.html.init_printing()"
   ]
  },
  {
   "cell_type": "code",
   "execution_count": 4,
   "id": "28387e65",
   "metadata": {
    "execution": {
     "iopub.execute_input": "2023-03-05T22:42:24.910474Z",
     "iopub.status.busy": "2023-03-05T22:42:24.910031Z",
     "iopub.status.idle": "2023-03-05T22:42:24.925744Z",
     "shell.execute_reply": "2023-03-05T22:42:24.924979Z"
    }
   },
   "outputs": [
    {
     "data": {
      "text/html": [
       "\n",
       "<emph>DataFrame</emph> with 3 rows and\n",
       "  3 columns:\n",
       "<table class=\"docutils\">\n",
       "  <thead>\n",
       "    <tr class=\"rpy2_names\">\n",
       "      <th></th>\n",
       "      <th></th>\n",
       "      <th>x</th>\n",
       "      <th>y</th>\n",
       "      <th>z</th>\n",
       "    </tr>\n",
       "  </thead>\n",
       "  <tbody>\n",
       "    <tr>\n",
       "      <td class=\"rpy2_rowname\">0</td>\n",
       "        <td class=\"rpy2_names\">1</td>\n",
       "      <td>a</td>\n",
       "      <td>3</td>\n",
       "      <td>6</td>\n",
       "    </tr>\n",
       "    <tr>\n",
       "      <td class=\"rpy2_rowname\">1</td>\n",
       "        <td class=\"rpy2_names\">2</td>\n",
       "      <td>b</td>\n",
       "      <td>4</td>\n",
       "      <td>7</td>\n",
       "    </tr>\n",
       "    <tr>\n",
       "      <td class=\"rpy2_rowname\">2</td>\n",
       "        <td class=\"rpy2_names\">3</td>\n",
       "      <td>b</td>\n",
       "      <td>5</td>\n",
       "      <td>8</td>\n",
       "    </tr>\n",
       "  </tbody>\n",
       "</table>"
      ],
      "text/plain": [
       "<rpy2.robjects.lib.tidyr.DataFrame object at 0x7f7c66427b80> [RTYPES.VECSXP]\n",
       "R classes: ('data.frame',)\n",
       "[StrSexpVector, IntSexpVector, IntSexpVector]\n",
       "  x: <class 'rpy2.rinterface_lib.sexp.StrSexpVector'>\n",
       "  <rpy2.rinterface_lib.sexp.StrSexpVector object at 0x7f7c664b2f40> [RTYPES.STRSXP]\n",
       "  y: <class 'rpy2.rinterface.IntSexpVector'>\n",
       "  <rpy2.rinterface.IntSexpVector object at 0x7f7c664b2b00> [RTYPES.INTSXP]\n",
       "  z: <class 'rpy2.rinterface.IntSexpVector'>\n",
       "  <rpy2.rinterface.IntSexpVector object at 0x7f7c664b2ac0> [RTYPES.INTSXP]"
      ]
     },
     "execution_count": 4,
     "metadata": {},
     "output_type": "execute_result"
    }
   ],
   "source": [
    "from collections import OrderedDict\n",
    "from rpy2.robjects.vectors import (StrVector,\n",
    "                                   IntVector)\n",
    "dataf = DataFrame(OrderedDict(x=StrVector((\"a\", \"b\", \"b\")),\n",
    "                              y=IntVector((3, 4, 5)),\n",
    "\t\t              z=IntVector((6, 7, 8))))\n",
    "dataf"
   ]
  },
  {
   "cell_type": "code",
   "execution_count": 5,
   "id": "b8e631fa",
   "metadata": {
    "execution": {
     "iopub.execute_input": "2023-03-05T22:42:24.929630Z",
     "iopub.status.busy": "2023-03-05T22:42:24.928975Z",
     "iopub.status.idle": "2023-03-05T22:42:24.952709Z",
     "shell.execute_reply": "2023-03-05T22:42:24.951892Z"
    }
   },
   "outputs": [
    {
     "data": {
      "text/html": [
       "\n",
       "<emph>DataFrame</emph> with 3 rows and\n",
       "  3 columns:\n",
       "<table class=\"docutils\">\n",
       "  <thead>\n",
       "    <tr class=\"rpy2_names\">\n",
       "      <th></th>\n",
       "      <th></th>\n",
       "      <th>z</th>\n",
       "      <th>a</th>\n",
       "      <th>b</th>\n",
       "    </tr>\n",
       "  </thead>\n",
       "  <tbody>\n",
       "    <tr>\n",
       "      <td class=\"rpy2_rowname\">0</td>\n",
       "        <td class=\"rpy2_names\">1</td>\n",
       "      <td>6</td>\n",
       "      <td>3</td>\n",
       "      <td>NA_integer_</td>\n",
       "    </tr>\n",
       "    <tr>\n",
       "      <td class=\"rpy2_rowname\">1</td>\n",
       "        <td class=\"rpy2_names\">2</td>\n",
       "      <td>7</td>\n",
       "      <td>NA_integer_</td>\n",
       "      <td>4</td>\n",
       "    </tr>\n",
       "    <tr>\n",
       "      <td class=\"rpy2_rowname\">2</td>\n",
       "        <td class=\"rpy2_names\">3</td>\n",
       "      <td>8</td>\n",
       "      <td>NA_integer_</td>\n",
       "      <td>5</td>\n",
       "    </tr>\n",
       "  </tbody>\n",
       "</table>"
      ],
      "text/plain": [
       "<rpy2.robjects.lib.tidyr.DataFrame object at 0x7f7c66429dc0> [RTYPES.VECSXP]\n",
       "R classes: ('data.frame',)\n",
       "[IntSexpVector, IntSexpVector, IntSexpVector]\n",
       "  z: <class 'rpy2.rinterface.IntSexpVector'>\n",
       "  <rpy2.rinterface.IntSexpVector object at 0x7f7ca8077d40> [RTYPES.INTSXP]\n",
       "  a: <class 'rpy2.rinterface.IntSexpVector'>\n",
       "  <rpy2.rinterface.IntSexpVector object at 0x7f7c666ba600> [RTYPES.INTSXP]\n",
       "  b: <class 'rpy2.rinterface.IntSexpVector'>\n",
       "  <rpy2.rinterface.IntSexpVector object at 0x7f7c666ba380> [RTYPES.INTSXP]"
      ]
     },
     "execution_count": 5,
     "metadata": {},
     "output_type": "execute_result"
    }
   ],
   "source": [
    "dataf.spread('x', 'y')"
   ]
  },
  {
   "cell_type": "markdown",
   "id": "75dff76d",
   "metadata": {},
   "source": [
    "**Reuse. Get things done. Don't reimplement.**"
   ]
  }
 ],
 "metadata": {
  "language_info": {
   "codemirror_mode": {
    "name": "ipython",
    "version": 3
   },
   "file_extension": ".py",
   "mimetype": "text/x-python",
   "name": "python",
   "nbconvert_exporter": "python",
   "pygments_lexer": "ipython3",
   "version": "3.9.16"
  }
 },
 "nbformat": 4,
 "nbformat_minor": 5
}

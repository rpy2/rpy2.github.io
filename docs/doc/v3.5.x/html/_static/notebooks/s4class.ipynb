{
 "cells": [
  {
   "cell_type": "code",
   "execution_count": 1,
   "id": "aa215f12",
   "metadata": {
    "execution": {
     "iopub.execute_input": "2023-05-20T15:09:46.926170Z",
     "iopub.status.busy": "2023-05-20T15:09:46.925626Z",
     "iopub.status.idle": "2023-05-20T15:09:47.869239Z",
     "shell.execute_reply": "2023-05-20T15:09:47.868409Z"
    }
   },
   "outputs": [],
   "source": [
    "from functools import partial\n",
    "from rpy2.ipython import html\n",
    "html.html_rdataframe=partial(html.html_rdataframe, table_class=\"docutils\")"
   ]
  },
  {
   "cell_type": "markdown",
   "id": "6a85b7b2",
   "metadata": {},
   "source": [
    "# Basic handling\n",
    "\n",
    "The S4 system is one the OOP systems in R.\n",
    "Its largest use might be in the Bioconductor collection of packages\n",
    "for bioinformatics and computational biology.\n",
    "\n",
    "We use the bioconductor `Biobase`:"
   ]
  },
  {
   "cell_type": "code",
   "execution_count": 2,
   "id": "cf9ae71d",
   "metadata": {
    "execution": {
     "iopub.execute_input": "2023-05-20T15:09:47.873754Z",
     "iopub.status.busy": "2023-05-20T15:09:47.873120Z",
     "iopub.status.idle": "2023-05-20T15:09:48.385981Z",
     "shell.execute_reply": "2023-05-20T15:09:48.385214Z"
    }
   },
   "outputs": [],
   "source": [
    "from rpy2.robjects.packages import importr\n",
    "biobase = importr('Biobase')"
   ]
  },
  {
   "cell_type": "markdown",
   "id": "da44dcff",
   "metadata": {},
   "source": [
    "The R package contains constructors for the S4 classes defined. They\n",
    "are simply functions, and can be used as such through `rpy2`:"
   ]
  },
  {
   "cell_type": "code",
   "execution_count": 3,
   "id": "9e6abd78",
   "metadata": {
    "execution": {
     "iopub.execute_input": "2023-05-20T15:09:48.390102Z",
     "iopub.status.busy": "2023-05-20T15:09:48.389452Z",
     "iopub.status.idle": "2023-05-20T15:09:48.472771Z",
     "shell.execute_reply": "2023-05-20T15:09:48.471947Z"
    }
   },
   "outputs": [],
   "source": [
    "eset = biobase.ExpressionSet() "
   ]
  },
  {
   "cell_type": "markdown",
   "id": "06782d2b",
   "metadata": {},
   "source": [
    "The object `eset` is an R object of type `S4`:"
   ]
  },
  {
   "cell_type": "code",
   "execution_count": 4,
   "id": "147fe0ab",
   "metadata": {
    "execution": {
     "iopub.execute_input": "2023-05-20T15:09:48.476993Z",
     "iopub.status.busy": "2023-05-20T15:09:48.476331Z",
     "iopub.status.idle": "2023-05-20T15:09:48.484011Z",
     "shell.execute_reply": "2023-05-20T15:09:48.483309Z"
    }
   },
   "outputs": [
    {
     "data": {
      "text/plain": [
       "rpy2.robjects.methods.RS4"
      ]
     },
     "execution_count": 4,
     "metadata": {},
     "output_type": "execute_result"
    }
   ],
   "source": [
    "type(eset)"
   ]
  },
  {
   "cell_type": "markdown",
   "id": "bf354cc3",
   "metadata": {},
   "source": [
    "It has a class as well:"
   ]
  },
  {
   "cell_type": "code",
   "execution_count": 5,
   "id": "abbe2cf0",
   "metadata": {
    "execution": {
     "iopub.execute_input": "2023-05-20T15:09:48.487943Z",
     "iopub.status.busy": "2023-05-20T15:09:48.487347Z",
     "iopub.status.idle": "2023-05-20T15:09:48.492218Z",
     "shell.execute_reply": "2023-05-20T15:09:48.491514Z"
    }
   },
   "outputs": [
    {
     "data": {
      "text/plain": [
       "('ExpressionSet',)"
      ]
     },
     "execution_count": 5,
     "metadata": {},
     "output_type": "execute_result"
    }
   ],
   "source": [
    "tuple(eset.rclass)"
   ]
  },
  {
   "cell_type": "markdown",
   "id": "c8ad2f9a",
   "metadata": {},
   "source": [
    "In R, objects attributes are also known as slots. The attribute names\n",
    "can be listed with:"
   ]
  },
  {
   "cell_type": "code",
   "execution_count": 6,
   "id": "c1554233",
   "metadata": {
    "execution": {
     "iopub.execute_input": "2023-05-20T15:09:48.495527Z",
     "iopub.status.busy": "2023-05-20T15:09:48.495142Z",
     "iopub.status.idle": "2023-05-20T15:09:48.500274Z",
     "shell.execute_reply": "2023-05-20T15:09:48.499579Z"
    }
   },
   "outputs": [
    {
     "data": {
      "text/plain": [
       "('experimentData',\n",
       " 'assayData',\n",
       " 'phenoData',\n",
       " 'featureData',\n",
       " 'annotation',\n",
       " 'protocolData',\n",
       " '.__classVersion__')"
      ]
     },
     "execution_count": 6,
     "metadata": {},
     "output_type": "execute_result"
    }
   ],
   "source": [
    "tuple(eset.slotnames())"
   ]
  },
  {
   "cell_type": "markdown",
   "id": "ccae5923",
   "metadata": {},
   "source": [
    "The attributes can also be accessed through the `rpy2` property `slots`.\n",
    "`slots` is a mapping between attributes names (keys) and their associated\n",
    "R object (values). It can be used as Python `dict`:"
   ]
  },
  {
   "cell_type": "code",
   "execution_count": 7,
   "id": "5401543e",
   "metadata": {
    "execution": {
     "iopub.execute_input": "2023-05-20T15:09:48.503751Z",
     "iopub.status.busy": "2023-05-20T15:09:48.503144Z",
     "iopub.status.idle": "2023-05-20T15:09:48.509244Z",
     "shell.execute_reply": "2023-05-20T15:09:48.508487Z"
    }
   },
   "outputs": [
    {
     "name": "stdout",
     "output_type": "stream",
     "text": [
      "('.__classVersion__', 'experimentData', 'assayData', 'phenoData', 'featureData', 'annotation', 'protocolData', 'class')\n"
     ]
    }
   ],
   "source": [
    "# print keys\n",
    "print(tuple(eset.slots.keys()))\n",
    "\n",
    "# fetch `phenoData`\n",
    "phdat = eset.slots['phenoData']\n",
    "\n",
    "# phdat is an S4 object itself\n",
    "pheno_dataf = phdat.slots['data']"
   ]
  },
  {
   "cell_type": "markdown",
   "id": "3c9221f0",
   "metadata": {},
   "source": [
    "# Mapping S4 classes to Python classes\n",
    "\n",
    "Writing one's own Python class extending rpy2's `RS4` is straightforward.\n",
    "That class can be used wrap our `eset` object"
   ]
  },
  {
   "cell_type": "code",
   "execution_count": 8,
   "id": "523ef0c6",
   "metadata": {
    "execution": {
     "iopub.execute_input": "2023-05-20T15:09:48.512649Z",
     "iopub.status.busy": "2023-05-20T15:09:48.512069Z",
     "iopub.status.idle": "2023-05-20T15:09:48.516008Z",
     "shell.execute_reply": "2023-05-20T15:09:48.515257Z"
    }
   },
   "outputs": [],
   "source": [
    "\n",
    "from rpy2.robjects.methods import RS4   \n",
    "class ExpressionSet(RS4):\n",
    "    pass\n",
    "\n",
    "eset_myclass = ExpressionSet(eset)"
   ]
  },
  {
   "cell_type": "markdown",
   "id": "bda6cb5c",
   "metadata": {},
   "source": [
    "## Custom conversion\n",
    "\n",
    "The conversion system can also be made aware our new class by customizing\n",
    "the handling of S4 objects.\n",
    "\n",
    "A simple implementation is a factory function that will conditionally wrap\n",
    "the object in our Python class `ExpressionSet`:"
   ]
  },
  {
   "cell_type": "code",
   "execution_count": 9,
   "id": "b1c88f7c",
   "metadata": {
    "execution": {
     "iopub.execute_input": "2023-05-20T15:09:48.519351Z",
     "iopub.status.busy": "2023-05-20T15:09:48.518867Z",
     "iopub.status.idle": "2023-05-20T15:09:48.524846Z",
     "shell.execute_reply": "2023-05-20T15:09:48.524111Z"
    }
   },
   "outputs": [
    {
     "data": {
      "text/plain": [
       "<__main__.ExpressionSet object at 0x7f513b373340> [RTYPES.S4SXP]\n",
       "R classes: ('ExpressionSet',)"
      ]
     },
     "execution_count": 9,
     "metadata": {},
     "output_type": "execute_result"
    }
   ],
   "source": [
    "def rpy2py_s4(obj):\n",
    "    if 'ExpressionSet' in obj.rclass:\n",
    "        res = ExpressionSet(obj)\n",
    "    else:\n",
    "        res = robj\n",
    "    return res\n",
    "\n",
    "# try it\n",
    "rpy2py_s4(eset)"
   ]
  },
  {
   "cell_type": "markdown",
   "id": "cba03cf9",
   "metadata": {},
   "source": [
    "That function can be be register to a `Converter`:"
   ]
  },
  {
   "cell_type": "code",
   "execution_count": 10,
   "id": "0d654535",
   "metadata": {
    "execution": {
     "iopub.execute_input": "2023-05-20T15:09:48.528591Z",
     "iopub.status.busy": "2023-05-20T15:09:48.528103Z",
     "iopub.status.idle": "2023-05-20T15:09:48.533998Z",
     "shell.execute_reply": "2023-05-20T15:09:48.533262Z"
    }
   },
   "outputs": [
    {
     "data": {
      "text/plain": [
       "<function __main__.rpy2py_s4(obj)>"
      ]
     },
     "execution_count": 10,
     "metadata": {},
     "output_type": "execute_result"
    }
   ],
   "source": [
    "from rpy2.robjects import default_converter\n",
    "from rpy2.robjects.conversion import Converter\n",
    "\n",
    "my_converter = Converter('ExpressionSet-aware converter',\n",
    "                         template=default_converter)\n",
    "\n",
    "from rpy2.rinterface import SexpS4\n",
    "my_converter.rpy2py.register(SexpS4, rpy2py_s4)\n"
   ]
  },
  {
   "cell_type": "markdown",
   "id": "b0c7f92d",
   "metadata": {},
   "source": [
    "When using that converter, the matching R objects are returned as\n",
    "instances of our Python class `ExpressionSet`:"
   ]
  },
  {
   "cell_type": "code",
   "execution_count": 11,
   "id": "d494fa85",
   "metadata": {
    "execution": {
     "iopub.execute_input": "2023-05-20T15:09:48.537881Z",
     "iopub.status.busy": "2023-05-20T15:09:48.537387Z",
     "iopub.status.idle": "2023-05-20T15:09:48.588406Z",
     "shell.execute_reply": "2023-05-20T15:09:48.587521Z"
    }
   },
   "outputs": [
    {
     "name": "stdout",
     "output_type": "stream",
     "text": [
      "<class '__main__.ExpressionSet'>\n"
     ]
    }
   ],
   "source": [
    "\n",
    "with my_converter.context() as cv:\n",
    "    eset = biobase.ExpressionSet()\n",
    "    print(type(eset))"
   ]
  },
  {
   "cell_type": "markdown",
   "id": "c6ed65fd",
   "metadata": {},
   "source": [
    "## Class attributes\n",
    "\n",
    "The R attribute `assayData` can be accessed\n",
    "through the accessor method `exprs()` in R.\n",
    "We can make it a property in our Python class:"
   ]
  },
  {
   "cell_type": "code",
   "execution_count": 12,
   "id": "9e68685a",
   "metadata": {
    "execution": {
     "iopub.execute_input": "2023-05-20T15:09:48.592027Z",
     "iopub.status.busy": "2023-05-20T15:09:48.591522Z",
     "iopub.status.idle": "2023-05-20T15:09:48.599025Z",
     "shell.execute_reply": "2023-05-20T15:09:48.598292Z"
    }
   },
   "outputs": [
    {
     "data": {
      "text/plain": [
       "<rpy2.robjects.environments.Environment object at 0x7f513ad35140> [RTYPES.ENVSXP]\n",
       "R classes: ('environment',)\n",
       "n items: 1"
      ]
     },
     "execution_count": 12,
     "metadata": {},
     "output_type": "execute_result"
    }
   ],
   "source": [
    "class ExpressionSet(RS4):\n",
    "    def _exprs_get(self):\n",
    "        return self.slots['assayData']\n",
    "    def _exprs_set(self, value):\n",
    "        self.slots['assayData'] = value\n",
    "    exprs = property(_exprs_get,\n",
    "                     _exprs_set,\n",
    "                     None,\n",
    "                     \"R attribute `exprs`\")\n",
    "eset_myclass = ExpressionSet(eset)\n",
    "\n",
    "eset_myclass.exprs"
   ]
  },
  {
   "cell_type": "markdown",
   "id": "bb1bff28",
   "metadata": {},
   "source": [
    "## Methods\n",
    "\n",
    "In R's S4 methods are generic functions served by a multiple dispatch system.\n",
    "\n",
    "A natural way to expose the S4 method to Python is to use the\n",
    "`multipledispatch` package:"
   ]
  },
  {
   "cell_type": "code",
   "execution_count": 13,
   "id": "18126f5f",
   "metadata": {
    "execution": {
     "iopub.execute_input": "2023-05-20T15:09:48.602481Z",
     "iopub.status.busy": "2023-05-20T15:09:48.602000Z",
     "iopub.status.idle": "2023-05-20T15:09:48.608905Z",
     "shell.execute_reply": "2023-05-20T15:09:48.608257Z"
    }
   },
   "outputs": [],
   "source": [
    "from multipledispatch import dispatch\n",
    "from functools import partial\n",
    "\n",
    "my_namespace = dict()\n",
    "dispatch = partial(dispatch, namespace=my_namespace)\n",
    "\n",
    "@dispatch(ExpressionSet)\n",
    "def rowmedians(eset,\n",
    "               na_rm=False):\n",
    "    res = biobase.rowMedians(eset,\n",
    "                             na_rm=na_rm)\n",
    "    return res\n",
    "\n",
    "res = rowmedians(eset_myclass)"
   ]
  },
  {
   "cell_type": "markdown",
   "id": "e6c3c3bb",
   "metadata": {},
   "source": [
    "The R method `rowMedians` is also defined for matrices, which we can expose\n",
    "on the Python end as well:"
   ]
  },
  {
   "cell_type": "code",
   "execution_count": 14,
   "id": "6becc169",
   "metadata": {
    "execution": {
     "iopub.execute_input": "2023-05-20T15:09:48.611905Z",
     "iopub.status.busy": "2023-05-20T15:09:48.611515Z",
     "iopub.status.idle": "2023-05-20T15:09:48.615589Z",
     "shell.execute_reply": "2023-05-20T15:09:48.614885Z"
    }
   },
   "outputs": [],
   "source": [
    "from rpy2.robjects.vectors import Matrix\n",
    "@dispatch(Matrix)\n",
    "def rowmedians(m,\n",
    "               na_rm=False):\n",
    "    res = biobase.rowMedians(m,\n",
    "                             na_rm=na_rm)\n",
    "    return res"
   ]
  },
  {
   "cell_type": "markdown",
   "id": "64906612",
   "metadata": {},
   "source": [
    "While this is working, one can note that we call the same R function\n",
    "`rowMedians()` in the package `Biobase` in both Python decorated\n",
    "functions. What is happening is that the dispatch is performed by R.\n",
    "\n",
    "If this is ever becoming a performance issue, the specific R function\n",
    "dispatched can be prefetched and explicitly called in the Python\n",
    "function. For example:"
   ]
  },
  {
   "cell_type": "code",
   "execution_count": 15,
   "id": "974e54f7",
   "metadata": {
    "execution": {
     "iopub.execute_input": "2023-05-20T15:09:48.618654Z",
     "iopub.status.busy": "2023-05-20T15:09:48.618212Z",
     "iopub.status.idle": "2023-05-20T15:09:48.623675Z",
     "shell.execute_reply": "2023-05-20T15:09:48.622975Z"
    }
   },
   "outputs": [],
   "source": [
    "from rpy2.robjects.methods import getmethod\n",
    "from rpy2.robjects.vectors import StrVector\n",
    "_rowmedians_matrix = getmethod(StrVector([\"rowMedians\"]),\n",
    "                               signature=StrVector([\"matrix\"]))\n",
    "@dispatch(Matrix)\n",
    "def rowmedians(m,\n",
    "               na_rm=False):\n",
    "    res = _rowmedians_matrix(m,\n",
    "                             na_rm=na_rm)\n",
    "    return res"
   ]
  }
 ],
 "metadata": {
  "language_info": {
   "codemirror_mode": {
    "name": "ipython",
    "version": 3
   },
   "file_extension": ".py",
   "mimetype": "text/x-python",
   "name": "python",
   "nbconvert_exporter": "python",
   "pygments_lexer": "ipython3",
   "version": "3.9.16"
  }
 },
 "nbformat": 4,
 "nbformat_minor": 5
}

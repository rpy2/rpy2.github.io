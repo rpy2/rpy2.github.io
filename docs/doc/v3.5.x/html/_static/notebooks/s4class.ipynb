{
 "cells": [
  {
   "cell_type": "code",
   "execution_count": 1,
   "id": "842ecff1",
   "metadata": {
    "execution": {
     "iopub.execute_input": "2024-03-30T23:54:53.756391Z",
     "iopub.status.busy": "2024-03-30T23:54:53.756171Z",
     "iopub.status.idle": "2024-03-30T23:54:54.593873Z",
     "shell.execute_reply": "2024-03-30T23:54:54.593308Z"
    }
   },
   "outputs": [],
   "source": [
    "from functools import partial\n",
    "from rpy2.ipython import html\n",
    "html.html_rdataframe=partial(html.html_rdataframe, table_class=\"docutils\")"
   ]
  },
  {
   "cell_type": "markdown",
   "id": "0d85ea99",
   "metadata": {},
   "source": [
    "# Basic handling\n",
    "\n",
    "The S4 system is one the OOP systems in R.\n",
    "Its largest use might be in the Bioconductor collection of packages\n",
    "for bioinformatics and computational biology.\n",
    "\n",
    "We use the bioconductor `Biobase`:"
   ]
  },
  {
   "cell_type": "code",
   "execution_count": 2,
   "id": "f55cc1ae",
   "metadata": {
    "execution": {
     "iopub.execute_input": "2024-03-30T23:54:54.596572Z",
     "iopub.status.busy": "2024-03-30T23:54:54.596317Z",
     "iopub.status.idle": "2024-03-30T23:54:54.951199Z",
     "shell.execute_reply": "2024-03-30T23:54:54.950559Z"
    }
   },
   "outputs": [],
   "source": [
    "from rpy2.robjects.packages import importr\n",
    "biobase = importr('Biobase')"
   ]
  },
  {
   "cell_type": "markdown",
   "id": "f8ac24e0",
   "metadata": {},
   "source": [
    "The R package contains constructors for the S4 classes defined. They\n",
    "are simply functions, and can be used as such through `rpy2`:"
   ]
  },
  {
   "cell_type": "code",
   "execution_count": 3,
   "id": "1f48fdb7",
   "metadata": {
    "execution": {
     "iopub.execute_input": "2024-03-30T23:54:54.953871Z",
     "iopub.status.busy": "2024-03-30T23:54:54.953665Z",
     "iopub.status.idle": "2024-03-30T23:54:55.013633Z",
     "shell.execute_reply": "2024-03-30T23:54:55.012982Z"
    }
   },
   "outputs": [],
   "source": [
    "eset = biobase.ExpressionSet() "
   ]
  },
  {
   "cell_type": "markdown",
   "id": "7913aebf",
   "metadata": {},
   "source": [
    "The object `eset` is an R object of type `S4`:"
   ]
  },
  {
   "cell_type": "code",
   "execution_count": 4,
   "id": "ccb3a8a6",
   "metadata": {
    "execution": {
     "iopub.execute_input": "2024-03-30T23:54:55.016222Z",
     "iopub.status.busy": "2024-03-30T23:54:55.016015Z",
     "iopub.status.idle": "2024-03-30T23:54:55.023478Z",
     "shell.execute_reply": "2024-03-30T23:54:55.022873Z"
    }
   },
   "outputs": [
    {
     "data": {
      "text/plain": [
       "rpy2.robjects.methods.RS4"
      ]
     },
     "execution_count": 4,
     "metadata": {},
     "output_type": "execute_result"
    }
   ],
   "source": [
    "type(eset)"
   ]
  },
  {
   "cell_type": "markdown",
   "id": "3e995bcf",
   "metadata": {},
   "source": [
    "It has a class as well:"
   ]
  },
  {
   "cell_type": "code",
   "execution_count": 5,
   "id": "52b0a94b",
   "metadata": {
    "execution": {
     "iopub.execute_input": "2024-03-30T23:54:55.025797Z",
     "iopub.status.busy": "2024-03-30T23:54:55.025601Z",
     "iopub.status.idle": "2024-03-30T23:54:55.029905Z",
     "shell.execute_reply": "2024-03-30T23:54:55.029274Z"
    }
   },
   "outputs": [
    {
     "data": {
      "text/plain": [
       "('ExpressionSet',)"
      ]
     },
     "execution_count": 5,
     "metadata": {},
     "output_type": "execute_result"
    }
   ],
   "source": [
    "tuple(eset.rclass)"
   ]
  },
  {
   "cell_type": "markdown",
   "id": "f89a0723",
   "metadata": {},
   "source": [
    "In R, objects attributes are also known as slots. The attribute names\n",
    "can be listed with:"
   ]
  },
  {
   "cell_type": "code",
   "execution_count": 6,
   "id": "9fb1bb5e",
   "metadata": {
    "execution": {
     "iopub.execute_input": "2024-03-30T23:54:55.032458Z",
     "iopub.status.busy": "2024-03-30T23:54:55.031966Z",
     "iopub.status.idle": "2024-03-30T23:54:55.036379Z",
     "shell.execute_reply": "2024-03-30T23:54:55.035738Z"
    }
   },
   "outputs": [
    {
     "data": {
      "text/plain": [
       "('experimentData',\n",
       " 'assayData',\n",
       " 'phenoData',\n",
       " 'featureData',\n",
       " 'annotation',\n",
       " 'protocolData',\n",
       " '.__classVersion__')"
      ]
     },
     "execution_count": 6,
     "metadata": {},
     "output_type": "execute_result"
    }
   ],
   "source": [
    "tuple(eset.slotnames())"
   ]
  },
  {
   "cell_type": "markdown",
   "id": "c2aaab63",
   "metadata": {},
   "source": [
    "The attributes can also be accessed through the `rpy2` property `slots`.\n",
    "`slots` is a mapping between attributes names (keys) and their associated\n",
    "R object (values). It can be used as Python `dict`:"
   ]
  },
  {
   "cell_type": "code",
   "execution_count": 7,
   "id": "97902982",
   "metadata": {
    "execution": {
     "iopub.execute_input": "2024-03-30T23:54:55.038948Z",
     "iopub.status.busy": "2024-03-30T23:54:55.038487Z",
     "iopub.status.idle": "2024-03-30T23:54:55.043506Z",
     "shell.execute_reply": "2024-03-30T23:54:55.042886Z"
    }
   },
   "outputs": [
    {
     "name": "stdout",
     "output_type": "stream",
     "text": [
      "('.__classVersion__', 'experimentData', 'assayData', 'phenoData', 'featureData', 'annotation', 'protocolData', 'class')\n"
     ]
    }
   ],
   "source": [
    "# print keys\n",
    "print(tuple(eset.slots.keys()))\n",
    "\n",
    "# fetch `phenoData`\n",
    "phdat = eset.slots['phenoData']\n",
    "\n",
    "# phdat is an S4 object itself\n",
    "pheno_dataf = phdat.slots['data']"
   ]
  },
  {
   "cell_type": "markdown",
   "id": "6f1e9a33",
   "metadata": {},
   "source": [
    "# Mapping S4 classes to Python classes\n",
    "\n",
    "Writing one's own Python class extending rpy2's `RS4` is straightforward.\n",
    "That class can be used wrap our `eset` object"
   ]
  },
  {
   "cell_type": "code",
   "execution_count": 8,
   "id": "68655ffa",
   "metadata": {
    "execution": {
     "iopub.execute_input": "2024-03-30T23:54:55.045900Z",
     "iopub.status.busy": "2024-03-30T23:54:55.045515Z",
     "iopub.status.idle": "2024-03-30T23:54:55.048634Z",
     "shell.execute_reply": "2024-03-30T23:54:55.048021Z"
    }
   },
   "outputs": [],
   "source": [
    "\n",
    "from rpy2.robjects.methods import RS4   \n",
    "class ExpressionSet(RS4):\n",
    "    pass\n",
    "\n",
    "eset_myclass = ExpressionSet(eset)"
   ]
  },
  {
   "cell_type": "markdown",
   "id": "bc001917",
   "metadata": {},
   "source": [
    "## Custom conversion\n",
    "\n",
    "The conversion system can also be made aware our new class by customizing\n",
    "the handling of S4 objects.\n",
    "\n",
    "A simple implementation is a factory function that will conditionally wrap\n",
    "the object in our Python class `ExpressionSet`:"
   ]
  },
  {
   "cell_type": "code",
   "execution_count": 9,
   "id": "d36378a7",
   "metadata": {
    "execution": {
     "iopub.execute_input": "2024-03-30T23:54:55.051039Z",
     "iopub.status.busy": "2024-03-30T23:54:55.050634Z",
     "iopub.status.idle": "2024-03-30T23:54:55.055621Z",
     "shell.execute_reply": "2024-03-30T23:54:55.055083Z"
    }
   },
   "outputs": [
    {
     "data": {
      "text/plain": [
       "<__main__.ExpressionSet object at 0x7f35c8d33780> [RTYPES.S4SXP]\n",
       "R classes: ('ExpressionSet',)"
      ]
     },
     "execution_count": 9,
     "metadata": {},
     "output_type": "execute_result"
    }
   ],
   "source": [
    "def rpy2py_s4(obj):\n",
    "    if 'ExpressionSet' in obj.rclass:\n",
    "        res = ExpressionSet(obj)\n",
    "    else:\n",
    "        res = robj\n",
    "    return res\n",
    "\n",
    "# try it\n",
    "rpy2py_s4(eset)"
   ]
  },
  {
   "cell_type": "markdown",
   "id": "04567210",
   "metadata": {},
   "source": [
    "That function can be be register to a `Converter`:"
   ]
  },
  {
   "cell_type": "code",
   "execution_count": 10,
   "id": "232ad609",
   "metadata": {
    "execution": {
     "iopub.execute_input": "2024-03-30T23:54:55.058111Z",
     "iopub.status.busy": "2024-03-30T23:54:55.057733Z",
     "iopub.status.idle": "2024-03-30T23:54:55.062485Z",
     "shell.execute_reply": "2024-03-30T23:54:55.061871Z"
    }
   },
   "outputs": [
    {
     "data": {
      "text/plain": [
       "<function __main__.rpy2py_s4(obj)>"
      ]
     },
     "execution_count": 10,
     "metadata": {},
     "output_type": "execute_result"
    }
   ],
   "source": [
    "from rpy2.robjects import default_converter\n",
    "from rpy2.robjects.conversion import Converter\n",
    "\n",
    "my_converter = Converter('ExpressionSet-aware converter',\n",
    "                         template=default_converter)\n",
    "\n",
    "from rpy2.rinterface import SexpS4\n",
    "my_converter.rpy2py.register(SexpS4, rpy2py_s4)\n"
   ]
  },
  {
   "cell_type": "markdown",
   "id": "95c9caa8",
   "metadata": {},
   "source": [
    "When using that converter, the matching R objects are returned as\n",
    "instances of our Python class `ExpressionSet`:"
   ]
  },
  {
   "cell_type": "code",
   "execution_count": 11,
   "id": "45f66fb9",
   "metadata": {
    "execution": {
     "iopub.execute_input": "2024-03-30T23:54:55.064944Z",
     "iopub.status.busy": "2024-03-30T23:54:55.064494Z",
     "iopub.status.idle": "2024-03-30T23:54:55.100464Z",
     "shell.execute_reply": "2024-03-30T23:54:55.099773Z"
    }
   },
   "outputs": [
    {
     "name": "stdout",
     "output_type": "stream",
     "text": [
      "<class '__main__.ExpressionSet'>\n"
     ]
    }
   ],
   "source": [
    "\n",
    "with my_converter.context() as cv:\n",
    "    eset = biobase.ExpressionSet()\n",
    "    print(type(eset))"
   ]
  },
  {
   "cell_type": "markdown",
   "id": "207e5fd2",
   "metadata": {},
   "source": [
    "## Class attributes\n",
    "\n",
    "The R attribute `assayData` can be accessed\n",
    "through the accessor method `exprs()` in R.\n",
    "We can make it a property in our Python class:"
   ]
  },
  {
   "cell_type": "code",
   "execution_count": 12,
   "id": "36a79572",
   "metadata": {
    "execution": {
     "iopub.execute_input": "2024-03-30T23:54:55.102893Z",
     "iopub.status.busy": "2024-03-30T23:54:55.102520Z",
     "iopub.status.idle": "2024-03-30T23:54:55.108453Z",
     "shell.execute_reply": "2024-03-30T23:54:55.107781Z"
    }
   },
   "outputs": [
    {
     "data": {
      "text/plain": [
       "<rpy2.robjects.environments.Environment object at 0x7f35c8d262c0> [RTYPES.ENVSXP]\n",
       "R classes: ('environment',)\n",
       "n items: 1"
      ]
     },
     "execution_count": 12,
     "metadata": {},
     "output_type": "execute_result"
    }
   ],
   "source": [
    "class ExpressionSet(RS4):\n",
    "    def _exprs_get(self):\n",
    "        return self.slots['assayData']\n",
    "    def _exprs_set(self, value):\n",
    "        self.slots['assayData'] = value\n",
    "    exprs = property(_exprs_get,\n",
    "                     _exprs_set,\n",
    "                     None,\n",
    "                     \"R attribute `exprs`\")\n",
    "eset_myclass = ExpressionSet(eset)\n",
    "\n",
    "eset_myclass.exprs"
   ]
  },
  {
   "cell_type": "markdown",
   "id": "6a82c622",
   "metadata": {},
   "source": [
    "## Methods\n",
    "\n",
    "In R's S4 methods are generic functions served by a multiple dispatch system.\n",
    "\n",
    "A natural way to expose the S4 method to Python is to use the\n",
    "`multipledispatch` package:"
   ]
  },
  {
   "cell_type": "code",
   "execution_count": 13,
   "id": "d62d8054",
   "metadata": {
    "execution": {
     "iopub.execute_input": "2024-03-30T23:54:55.110840Z",
     "iopub.status.busy": "2024-03-30T23:54:55.110485Z",
     "iopub.status.idle": "2024-03-30T23:54:55.116243Z",
     "shell.execute_reply": "2024-03-30T23:54:55.115623Z"
    }
   },
   "outputs": [],
   "source": [
    "from multipledispatch import dispatch\n",
    "from functools import partial\n",
    "\n",
    "my_namespace = dict()\n",
    "dispatch = partial(dispatch, namespace=my_namespace)\n",
    "\n",
    "@dispatch(ExpressionSet)\n",
    "def rowmedians(eset,\n",
    "               na_rm=False):\n",
    "    res = biobase.rowMedians(eset,\n",
    "                             na_rm=na_rm)\n",
    "    return res\n",
    "\n",
    "res = rowmedians(eset_myclass)"
   ]
  },
  {
   "cell_type": "markdown",
   "id": "83a3bfaa",
   "metadata": {},
   "source": [
    "The R method `rowMedians` is also defined for matrices, which we can expose\n",
    "on the Python end as well:"
   ]
  },
  {
   "cell_type": "code",
   "execution_count": 14,
   "id": "5d3c1149",
   "metadata": {
    "execution": {
     "iopub.execute_input": "2024-03-30T23:54:55.118772Z",
     "iopub.status.busy": "2024-03-30T23:54:55.118331Z",
     "iopub.status.idle": "2024-03-30T23:54:55.122032Z",
     "shell.execute_reply": "2024-03-30T23:54:55.121484Z"
    }
   },
   "outputs": [],
   "source": [
    "from rpy2.robjects.vectors import Matrix\n",
    "@dispatch(Matrix)\n",
    "def rowmedians(m,\n",
    "               na_rm=False):\n",
    "    res = biobase.rowMedians(m,\n",
    "                             na_rm=na_rm)\n",
    "    return res"
   ]
  },
  {
   "cell_type": "markdown",
   "id": "8b90f4c5",
   "metadata": {},
   "source": [
    "While this is working, one can note that we call the same R function\n",
    "`rowMedians()` in the package `Biobase` in both Python decorated\n",
    "functions. What is happening is that the dispatch is performed by R.\n",
    "\n",
    "If this is ever becoming a performance issue, the specific R function\n",
    "dispatched can be prefetched and explicitly called in the Python\n",
    "function. For example:"
   ]
  },
  {
   "cell_type": "code",
   "execution_count": 15,
   "id": "365782cb",
   "metadata": {
    "execution": {
     "iopub.execute_input": "2024-03-30T23:54:55.124318Z",
     "iopub.status.busy": "2024-03-30T23:54:55.124092Z",
     "iopub.status.idle": "2024-03-30T23:54:55.128510Z",
     "shell.execute_reply": "2024-03-30T23:54:55.127960Z"
    }
   },
   "outputs": [],
   "source": [
    "from rpy2.robjects.methods import getmethod\n",
    "from rpy2.robjects.vectors import StrVector\n",
    "_rowmedians_matrix = getmethod(StrVector([\"rowMedians\"]),\n",
    "                               signature=StrVector([\"matrix\"]))\n",
    "@dispatch(Matrix)\n",
    "def rowmedians(m,\n",
    "               na_rm=False):\n",
    "    res = _rowmedians_matrix(m,\n",
    "                             na_rm=na_rm)\n",
    "    return res"
   ]
  }
 ],
 "metadata": {
  "language_info": {
   "codemirror_mode": {
    "name": "ipython",
    "version": 3
   },
   "file_extension": ".py",
   "mimetype": "text/x-python",
   "name": "python",
   "nbconvert_exporter": "python",
   "pygments_lexer": "ipython3",
   "version": "3.10.12"
  }
 },
 "nbformat": 4,
 "nbformat_minor": 5
}

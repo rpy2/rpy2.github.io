{
 "cells": [
  {
   "cell_type": "code",
   "execution_count": 1,
   "id": "fcf4ce8d",
   "metadata": {
    "execution": {
     "iopub.execute_input": "2023-04-16T20:05:18.305518Z",
     "iopub.status.busy": "2023-04-16T20:05:18.304979Z",
     "iopub.status.idle": "2023-04-16T20:05:19.206331Z",
     "shell.execute_reply": "2023-04-16T20:05:19.205488Z"
    }
   },
   "outputs": [],
   "source": [
    "from functools import partial\n",
    "from rpy2.ipython import html\n",
    "html.html_rdataframe=partial(html.html_rdataframe, table_class=\"docutils\")"
   ]
  },
  {
   "cell_type": "markdown",
   "id": "8e29b268",
   "metadata": {},
   "source": [
    "# Basic handling\n",
    "\n",
    "The S4 system is one the OOP systems in R.\n",
    "Its largest use might be in the Bioconductor collection of packages\n",
    "for bioinformatics and computational biology.\n",
    "\n",
    "We use the bioconductor `Biobase`:"
   ]
  },
  {
   "cell_type": "code",
   "execution_count": 2,
   "id": "85925fa8",
   "metadata": {
    "execution": {
     "iopub.execute_input": "2023-04-16T20:05:19.210880Z",
     "iopub.status.busy": "2023-04-16T20:05:19.210297Z",
     "iopub.status.idle": "2023-04-16T20:05:19.711896Z",
     "shell.execute_reply": "2023-04-16T20:05:19.711163Z"
    }
   },
   "outputs": [],
   "source": [
    "from rpy2.robjects.packages import importr\n",
    "biobase = importr('Biobase')"
   ]
  },
  {
   "cell_type": "markdown",
   "id": "ce4869ab",
   "metadata": {},
   "source": [
    "The R package contains constructors for the S4 classes defined. They\n",
    "are simply functions, and can be used as such through `rpy2`:"
   ]
  },
  {
   "cell_type": "code",
   "execution_count": 3,
   "id": "4607feef",
   "metadata": {
    "execution": {
     "iopub.execute_input": "2023-04-16T20:05:19.716130Z",
     "iopub.status.busy": "2023-04-16T20:05:19.715707Z",
     "iopub.status.idle": "2023-04-16T20:05:19.795782Z",
     "shell.execute_reply": "2023-04-16T20:05:19.795030Z"
    }
   },
   "outputs": [],
   "source": [
    "eset = biobase.ExpressionSet() "
   ]
  },
  {
   "cell_type": "markdown",
   "id": "50c83c78",
   "metadata": {},
   "source": [
    "The object `eset` is an R object of type `S4`:"
   ]
  },
  {
   "cell_type": "code",
   "execution_count": 4,
   "id": "f7ea88bb",
   "metadata": {
    "execution": {
     "iopub.execute_input": "2023-04-16T20:05:19.799497Z",
     "iopub.status.busy": "2023-04-16T20:05:19.798914Z",
     "iopub.status.idle": "2023-04-16T20:05:19.808460Z",
     "shell.execute_reply": "2023-04-16T20:05:19.807839Z"
    }
   },
   "outputs": [
    {
     "data": {
      "text/plain": [
       "rpy2.robjects.methods.RS4"
      ]
     },
     "execution_count": 4,
     "metadata": {},
     "output_type": "execute_result"
    }
   ],
   "source": [
    "type(eset)"
   ]
  },
  {
   "cell_type": "markdown",
   "id": "e627f4ef",
   "metadata": {},
   "source": [
    "It has a class as well:"
   ]
  },
  {
   "cell_type": "code",
   "execution_count": 5,
   "id": "5913ab96",
   "metadata": {
    "execution": {
     "iopub.execute_input": "2023-04-16T20:05:19.811707Z",
     "iopub.status.busy": "2023-04-16T20:05:19.811247Z",
     "iopub.status.idle": "2023-04-16T20:05:19.817697Z",
     "shell.execute_reply": "2023-04-16T20:05:19.817057Z"
    }
   },
   "outputs": [
    {
     "data": {
      "text/plain": [
       "('ExpressionSet',)"
      ]
     },
     "execution_count": 5,
     "metadata": {},
     "output_type": "execute_result"
    }
   ],
   "source": [
    "tuple(eset.rclass)"
   ]
  },
  {
   "cell_type": "markdown",
   "id": "ef08fd83",
   "metadata": {},
   "source": [
    "In R, objects attributes are also known as slots. The attribute names\n",
    "can be listed with:"
   ]
  },
  {
   "cell_type": "code",
   "execution_count": 6,
   "id": "38b74c3e",
   "metadata": {
    "execution": {
     "iopub.execute_input": "2023-04-16T20:05:19.820851Z",
     "iopub.status.busy": "2023-04-16T20:05:19.820476Z",
     "iopub.status.idle": "2023-04-16T20:05:19.827335Z",
     "shell.execute_reply": "2023-04-16T20:05:19.826749Z"
    }
   },
   "outputs": [
    {
     "data": {
      "text/plain": [
       "('experimentData',\n",
       " 'assayData',\n",
       " 'phenoData',\n",
       " 'featureData',\n",
       " 'annotation',\n",
       " 'protocolData',\n",
       " '.__classVersion__')"
      ]
     },
     "execution_count": 6,
     "metadata": {},
     "output_type": "execute_result"
    }
   ],
   "source": [
    "tuple(eset.slotnames())"
   ]
  },
  {
   "cell_type": "markdown",
   "id": "2629a337",
   "metadata": {},
   "source": [
    "The attributes can also be accessed through the `rpy2` property `slots`.\n",
    "`slots` is a mapping between attributes names (keys) and their associated\n",
    "R object (values). It can be used as Python `dict`:"
   ]
  },
  {
   "cell_type": "code",
   "execution_count": 7,
   "id": "9a332381",
   "metadata": {
    "execution": {
     "iopub.execute_input": "2023-04-16T20:05:19.830205Z",
     "iopub.status.busy": "2023-04-16T20:05:19.829761Z",
     "iopub.status.idle": "2023-04-16T20:05:19.836472Z",
     "shell.execute_reply": "2023-04-16T20:05:19.835845Z"
    }
   },
   "outputs": [
    {
     "name": "stdout",
     "output_type": "stream",
     "text": [
      "('.__classVersion__', 'experimentData', 'assayData', 'phenoData', 'featureData', 'annotation', 'protocolData', 'class')\n"
     ]
    }
   ],
   "source": [
    "# print keys\n",
    "print(tuple(eset.slots.keys()))\n",
    "\n",
    "# fetch `phenoData`\n",
    "phdat = eset.slots['phenoData']\n",
    "\n",
    "# phdat is an S4 object itself\n",
    "pheno_dataf = phdat.slots['data']"
   ]
  },
  {
   "cell_type": "markdown",
   "id": "55591496",
   "metadata": {},
   "source": [
    "# Mapping S4 classes to Python classes\n",
    "\n",
    "Writing one's own Python class extending rpy2's `RS4` is straightforward.\n",
    "That class can be used wrap our `eset` object"
   ]
  },
  {
   "cell_type": "code",
   "execution_count": 8,
   "id": "4e0a0ed1",
   "metadata": {
    "execution": {
     "iopub.execute_input": "2023-04-16T20:05:19.839638Z",
     "iopub.status.busy": "2023-04-16T20:05:19.839144Z",
     "iopub.status.idle": "2023-04-16T20:05:19.843729Z",
     "shell.execute_reply": "2023-04-16T20:05:19.843118Z"
    }
   },
   "outputs": [],
   "source": [
    "\n",
    "from rpy2.robjects.methods import RS4   \n",
    "class ExpressionSet(RS4):\n",
    "    pass\n",
    "\n",
    "eset_myclass = ExpressionSet(eset)"
   ]
  },
  {
   "cell_type": "markdown",
   "id": "fcc647a7",
   "metadata": {},
   "source": [
    "## Custom conversion\n",
    "\n",
    "The conversion system can also be made aware our new class by customizing\n",
    "the handling of S4 objects.\n",
    "\n",
    "A simple implementation is a factory function that will conditionally wrap\n",
    "the object in our Python class `ExpressionSet`:"
   ]
  },
  {
   "cell_type": "code",
   "execution_count": 9,
   "id": "e1cb93bf",
   "metadata": {
    "execution": {
     "iopub.execute_input": "2023-04-16T20:05:19.846813Z",
     "iopub.status.busy": "2023-04-16T20:05:19.846472Z",
     "iopub.status.idle": "2023-04-16T20:05:19.853838Z",
     "shell.execute_reply": "2023-04-16T20:05:19.853210Z"
    }
   },
   "outputs": [
    {
     "data": {
      "text/plain": [
       "<__main__.ExpressionSet object at 0x7f9edbd51640> [RTYPES.S4SXP]\n",
       "R classes: ('ExpressionSet',)"
      ]
     },
     "execution_count": 9,
     "metadata": {},
     "output_type": "execute_result"
    }
   ],
   "source": [
    "def rpy2py_s4(obj):\n",
    "    if 'ExpressionSet' in obj.rclass:\n",
    "        res = ExpressionSet(obj)\n",
    "    else:\n",
    "        res = robj\n",
    "    return res\n",
    "\n",
    "# try it\n",
    "rpy2py_s4(eset)"
   ]
  },
  {
   "cell_type": "markdown",
   "id": "87ef695d",
   "metadata": {},
   "source": [
    "That function can be be register to a `Converter`:"
   ]
  },
  {
   "cell_type": "code",
   "execution_count": 10,
   "id": "b8f8cc46",
   "metadata": {
    "execution": {
     "iopub.execute_input": "2023-04-16T20:05:19.856934Z",
     "iopub.status.busy": "2023-04-16T20:05:19.856578Z",
     "iopub.status.idle": "2023-04-16T20:05:19.864030Z",
     "shell.execute_reply": "2023-04-16T20:05:19.863420Z"
    }
   },
   "outputs": [
    {
     "data": {
      "text/plain": [
       "<function __main__.rpy2py_s4(obj)>"
      ]
     },
     "execution_count": 10,
     "metadata": {},
     "output_type": "execute_result"
    }
   ],
   "source": [
    "from rpy2.robjects import default_converter\n",
    "from rpy2.robjects.conversion import Converter\n",
    "\n",
    "my_converter = Converter('ExpressionSet-aware converter',\n",
    "                         template=default_converter)\n",
    "\n",
    "from rpy2.rinterface import SexpS4\n",
    "my_converter.rpy2py.register(SexpS4, rpy2py_s4)\n"
   ]
  },
  {
   "cell_type": "markdown",
   "id": "aa95dba2",
   "metadata": {},
   "source": [
    "When using that converter, the matching R objects are returned as\n",
    "instances of our Python class `ExpressionSet`:"
   ]
  },
  {
   "cell_type": "code",
   "execution_count": 11,
   "id": "f6ae46ff",
   "metadata": {
    "execution": {
     "iopub.execute_input": "2023-04-16T20:05:19.866863Z",
     "iopub.status.busy": "2023-04-16T20:05:19.866424Z",
     "iopub.status.idle": "2023-04-16T20:05:19.920338Z",
     "shell.execute_reply": "2023-04-16T20:05:19.919247Z"
    }
   },
   "outputs": [
    {
     "name": "stdout",
     "output_type": "stream",
     "text": [
      "<class '__main__.ExpressionSet'>\n"
     ]
    }
   ],
   "source": [
    "\n",
    "with my_converter.context() as cv:\n",
    "    eset = biobase.ExpressionSet()\n",
    "    print(type(eset))"
   ]
  },
  {
   "cell_type": "markdown",
   "id": "5ea6c555",
   "metadata": {},
   "source": [
    "## Class attributes\n",
    "\n",
    "The R attribute `assayData` can be accessed\n",
    "through the accessor method `exprs()` in R.\n",
    "We can make it a property in our Python class:"
   ]
  },
  {
   "cell_type": "code",
   "execution_count": 12,
   "id": "f6e71d0d",
   "metadata": {
    "execution": {
     "iopub.execute_input": "2023-04-16T20:05:19.923738Z",
     "iopub.status.busy": "2023-04-16T20:05:19.923255Z",
     "iopub.status.idle": "2023-04-16T20:05:19.930210Z",
     "shell.execute_reply": "2023-04-16T20:05:19.929521Z"
    }
   },
   "outputs": [
    {
     "data": {
      "text/plain": [
       "<rpy2.robjects.environments.Environment object at 0x7f9edbd63f80> [RTYPES.ENVSXP]\n",
       "R classes: ('environment',)\n",
       "n items: 1"
      ]
     },
     "execution_count": 12,
     "metadata": {},
     "output_type": "execute_result"
    }
   ],
   "source": [
    "class ExpressionSet(RS4):\n",
    "    def _exprs_get(self):\n",
    "        return self.slots['assayData']\n",
    "    def _exprs_set(self, value):\n",
    "        self.slots['assayData'] = value\n",
    "    exprs = property(_exprs_get,\n",
    "                     _exprs_set,\n",
    "                     None,\n",
    "                     \"R attribute `exprs`\")\n",
    "eset_myclass = ExpressionSet(eset)\n",
    "\n",
    "eset_myclass.exprs"
   ]
  },
  {
   "cell_type": "markdown",
   "id": "d930740b",
   "metadata": {},
   "source": [
    "## Methods\n",
    "\n",
    "In R's S4 methods are generic functions served by a multiple dispatch system.\n",
    "\n",
    "A natural way to expose the S4 method to Python is to use the\n",
    "`multipledispatch` package:"
   ]
  },
  {
   "cell_type": "code",
   "execution_count": 13,
   "id": "ed596c76",
   "metadata": {
    "execution": {
     "iopub.execute_input": "2023-04-16T20:05:19.933899Z",
     "iopub.status.busy": "2023-04-16T20:05:19.933442Z",
     "iopub.status.idle": "2023-04-16T20:05:19.940263Z",
     "shell.execute_reply": "2023-04-16T20:05:19.939664Z"
    }
   },
   "outputs": [],
   "source": [
    "from multipledispatch import dispatch\n",
    "from functools import partial\n",
    "\n",
    "my_namespace = dict()\n",
    "dispatch = partial(dispatch, namespace=my_namespace)\n",
    "\n",
    "@dispatch(ExpressionSet)\n",
    "def rowmedians(eset,\n",
    "               na_rm=False):\n",
    "    res = biobase.rowMedians(eset,\n",
    "                             na_rm=na_rm)\n",
    "    return res\n",
    "\n",
    "res = rowmedians(eset_myclass)"
   ]
  },
  {
   "cell_type": "markdown",
   "id": "b44a6905",
   "metadata": {},
   "source": [
    "The R method `rowMedians` is also defined for matrices, which we can expose\n",
    "on the Python end as well:"
   ]
  },
  {
   "cell_type": "code",
   "execution_count": 14,
   "id": "0fe33242",
   "metadata": {
    "execution": {
     "iopub.execute_input": "2023-04-16T20:05:19.943208Z",
     "iopub.status.busy": "2023-04-16T20:05:19.942767Z",
     "iopub.status.idle": "2023-04-16T20:05:19.946684Z",
     "shell.execute_reply": "2023-04-16T20:05:19.946005Z"
    }
   },
   "outputs": [],
   "source": [
    "from rpy2.robjects.vectors import Matrix\n",
    "@dispatch(Matrix)\n",
    "def rowmedians(m,\n",
    "               na_rm=False):\n",
    "    res = biobase.rowMedians(m,\n",
    "                             na_rm=na_rm)\n",
    "    return res"
   ]
  },
  {
   "cell_type": "markdown",
   "id": "7bd139e5",
   "metadata": {},
   "source": [
    "While this is working, one can note that we call the same R function\n",
    "`rowMedians()` in the package `Biobase` in both Python decorated\n",
    "functions. What is happening is that the dispatch is performed by R.\n",
    "\n",
    "If this is ever becoming a performance issue, the specific R function\n",
    "dispatched can be prefetched and explicitly called in the Python\n",
    "function. For example:"
   ]
  },
  {
   "cell_type": "code",
   "execution_count": 15,
   "id": "72e92336",
   "metadata": {
    "execution": {
     "iopub.execute_input": "2023-04-16T20:05:19.949808Z",
     "iopub.status.busy": "2023-04-16T20:05:19.949337Z",
     "iopub.status.idle": "2023-04-16T20:05:19.954736Z",
     "shell.execute_reply": "2023-04-16T20:05:19.954035Z"
    }
   },
   "outputs": [],
   "source": [
    "from rpy2.robjects.methods import getmethod\n",
    "from rpy2.robjects.vectors import StrVector\n",
    "_rowmedians_matrix = getmethod(StrVector([\"rowMedians\"]),\n",
    "                               signature=StrVector([\"matrix\"]))\n",
    "@dispatch(Matrix)\n",
    "def rowmedians(m,\n",
    "               na_rm=False):\n",
    "    res = _rowmedians_matrix(m,\n",
    "                             na_rm=na_rm)\n",
    "    return res"
   ]
  }
 ],
 "metadata": {
  "language_info": {
   "codemirror_mode": {
    "name": "ipython",
    "version": 3
   },
   "file_extension": ".py",
   "mimetype": "text/x-python",
   "name": "python",
   "nbconvert_exporter": "python",
   "pygments_lexer": "ipython3",
   "version": "3.9.16"
  }
 },
 "nbformat": 4,
 "nbformat_minor": 5
}

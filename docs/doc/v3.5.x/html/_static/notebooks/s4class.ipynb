{
 "cells": [
  {
   "cell_type": "code",
   "execution_count": 1,
   "id": "93f4857d",
   "metadata": {
    "execution": {
     "iopub.execute_input": "2022-07-23T17:25:39.446208Z",
     "iopub.status.busy": "2022-07-23T17:25:39.445820Z",
     "iopub.status.idle": "2022-07-23T17:25:40.591703Z",
     "shell.execute_reply": "2022-07-23T17:25:40.590406Z"
    }
   },
   "outputs": [],
   "source": [
    "from functools import partial\n",
    "from rpy2.ipython import html\n",
    "html.html_rdataframe=partial(html.html_rdataframe, table_class=\"docutils\")"
   ]
  },
  {
   "cell_type": "markdown",
   "id": "919ea5d4",
   "metadata": {},
   "source": [
    "# Basic handling\n",
    "\n",
    "The S4 system is one the OOP systems in R.\n",
    "Its largest use might in the Bioconductor collection of packages\n",
    "for bioinformatics and computational biology.\n",
    "\n",
    "We use the bioconductor `Biobase`:"
   ]
  },
  {
   "cell_type": "code",
   "execution_count": 2,
   "id": "f9a4ce93",
   "metadata": {
    "execution": {
     "iopub.execute_input": "2022-07-23T17:25:40.596555Z",
     "iopub.status.busy": "2022-07-23T17:25:40.596167Z",
     "iopub.status.idle": "2022-07-23T17:25:41.234583Z",
     "shell.execute_reply": "2022-07-23T17:25:41.233431Z"
    }
   },
   "outputs": [],
   "source": [
    "from rpy2.robjects.packages import importr\n",
    "biobase = importr('Biobase')"
   ]
  },
  {
   "cell_type": "markdown",
   "id": "415e51bf",
   "metadata": {},
   "source": [
    "The R package contains constructors for the S4 classes defined. They\n",
    "are simply functions, and can be used as such through `rpy2`:"
   ]
  },
  {
   "cell_type": "code",
   "execution_count": 3,
   "id": "18bef7b4",
   "metadata": {
    "execution": {
     "iopub.execute_input": "2022-07-23T17:25:41.239344Z",
     "iopub.status.busy": "2022-07-23T17:25:41.239063Z",
     "iopub.status.idle": "2022-07-23T17:25:41.339286Z",
     "shell.execute_reply": "2022-07-23T17:25:41.338251Z"
    }
   },
   "outputs": [],
   "source": [
    "eset = biobase.ExpressionSet() "
   ]
  },
  {
   "cell_type": "markdown",
   "id": "e33326ea",
   "metadata": {},
   "source": [
    "The object `eset` is an R object of type `S4`:"
   ]
  },
  {
   "cell_type": "code",
   "execution_count": 4,
   "id": "e1017bb3",
   "metadata": {
    "execution": {
     "iopub.execute_input": "2022-07-23T17:25:41.343983Z",
     "iopub.status.busy": "2022-07-23T17:25:41.343695Z",
     "iopub.status.idle": "2022-07-23T17:25:41.355807Z",
     "shell.execute_reply": "2022-07-23T17:25:41.354842Z"
    }
   },
   "outputs": [
    {
     "data": {
      "text/plain": [
       "rpy2.robjects.methods.RS4"
      ]
     },
     "execution_count": 4,
     "metadata": {},
     "output_type": "execute_result"
    }
   ],
   "source": [
    "type(eset)"
   ]
  },
  {
   "cell_type": "markdown",
   "id": "e47b911c",
   "metadata": {},
   "source": [
    "It has a class as well:"
   ]
  },
  {
   "cell_type": "code",
   "execution_count": 5,
   "id": "c16dc2e2",
   "metadata": {
    "execution": {
     "iopub.execute_input": "2022-07-23T17:25:41.361637Z",
     "iopub.status.busy": "2022-07-23T17:25:41.361352Z",
     "iopub.status.idle": "2022-07-23T17:25:41.367137Z",
     "shell.execute_reply": "2022-07-23T17:25:41.366057Z"
    }
   },
   "outputs": [
    {
     "data": {
      "text/plain": [
       "('ExpressionSet',)"
      ]
     },
     "execution_count": 5,
     "metadata": {},
     "output_type": "execute_result"
    }
   ],
   "source": [
    "tuple(eset.rclass)"
   ]
  },
  {
   "cell_type": "markdown",
   "id": "41d444b3",
   "metadata": {},
   "source": [
    "In R, objects attributes are also known as slots. The attribute names\n",
    "can be listed with:"
   ]
  },
  {
   "cell_type": "code",
   "execution_count": 6,
   "id": "d415edcf",
   "metadata": {
    "execution": {
     "iopub.execute_input": "2022-07-23T17:25:41.372358Z",
     "iopub.status.busy": "2022-07-23T17:25:41.372030Z",
     "iopub.status.idle": "2022-07-23T17:25:41.383036Z",
     "shell.execute_reply": "2022-07-23T17:25:41.380755Z"
    }
   },
   "outputs": [
    {
     "data": {
      "text/plain": [
       "('experimentData',\n",
       " 'assayData',\n",
       " 'phenoData',\n",
       " 'featureData',\n",
       " 'annotation',\n",
       " 'protocolData',\n",
       " '.__classVersion__')"
      ]
     },
     "execution_count": 6,
     "metadata": {},
     "output_type": "execute_result"
    }
   ],
   "source": [
    "tuple(eset.slotnames())"
   ]
  },
  {
   "cell_type": "markdown",
   "id": "53d2ae65",
   "metadata": {},
   "source": [
    "The attributes can also be accessed through the `rpy2` property `slots`.\n",
    "`slots` is a mapping between attributes names (keys) and their associated\n",
    "R object (values). It can be used as Python `dict`:"
   ]
  },
  {
   "cell_type": "code",
   "execution_count": 7,
   "id": "4e3ab305",
   "metadata": {
    "execution": {
     "iopub.execute_input": "2022-07-23T17:25:41.387194Z",
     "iopub.status.busy": "2022-07-23T17:25:41.386819Z",
     "iopub.status.idle": "2022-07-23T17:25:41.393896Z",
     "shell.execute_reply": "2022-07-23T17:25:41.392909Z"
    }
   },
   "outputs": [
    {
     "name": "stdout",
     "output_type": "stream",
     "text": [
      "('.__classVersion__', 'experimentData', 'assayData', 'phenoData', 'featureData', 'annotation', 'protocolData', 'class')\n"
     ]
    }
   ],
   "source": [
    "# print keys\n",
    "print(tuple(eset.slots.keys()))\n",
    "\n",
    "# fetch `phenoData`\n",
    "phdat = eset.slots['phenoData']\n",
    "\n",
    "# phdat is an S4 object itself\n",
    "pheno_dataf = phdat.slots['data']"
   ]
  },
  {
   "cell_type": "markdown",
   "id": "4752cf36",
   "metadata": {},
   "source": [
    "# Mapping S4 classes to Python classes\n",
    "\n",
    "Writing one's own Python class extending rpy2's `RS4` is straightforward.\n",
    "That class can be used wrap our `eset` object"
   ]
  },
  {
   "cell_type": "code",
   "execution_count": 8,
   "id": "2b494ca4",
   "metadata": {
    "execution": {
     "iopub.execute_input": "2022-07-23T17:25:41.397869Z",
     "iopub.status.busy": "2022-07-23T17:25:41.397568Z",
     "iopub.status.idle": "2022-07-23T17:25:41.402027Z",
     "shell.execute_reply": "2022-07-23T17:25:41.401061Z"
    }
   },
   "outputs": [],
   "source": [
    "\n",
    "from rpy2.robjects.methods import RS4   \n",
    "class ExpressionSet(RS4):\n",
    "    pass\n",
    "\n",
    "eset_myclass = ExpressionSet(eset)"
   ]
  },
  {
   "cell_type": "markdown",
   "id": "c457b260",
   "metadata": {},
   "source": [
    "## Custom conversion\n",
    "\n",
    "The conversion system can also be made aware our new class by customizing\n",
    "the handling of S4 objects.\n",
    "\n",
    "A simple implementation is a factory function that will conditionally wrap\n",
    "the object in our Python class `ExpressionSet`:"
   ]
  },
  {
   "cell_type": "code",
   "execution_count": 9,
   "id": "507cd57d",
   "metadata": {
    "execution": {
     "iopub.execute_input": "2022-07-23T17:25:41.406247Z",
     "iopub.status.busy": "2022-07-23T17:25:41.405935Z",
     "iopub.status.idle": "2022-07-23T17:25:41.413105Z",
     "shell.execute_reply": "2022-07-23T17:25:41.412106Z"
    }
   },
   "outputs": [
    {
     "data": {
      "text/plain": [
       "<__main__.ExpressionSet object at 0x7fd818478780> [RTYPES.S4SXP]\n",
       "R classes: ('ExpressionSet',)"
      ]
     },
     "execution_count": 9,
     "metadata": {},
     "output_type": "execute_result"
    }
   ],
   "source": [
    "def rpy2py_s4(obj):\n",
    "    if 'ExpressionSet' in obj.rclass:\n",
    "        res = ExpressionSet(obj)\n",
    "    else:\n",
    "        res = robj\n",
    "    return res\n",
    "\n",
    "# try it\n",
    "rpy2py_s4(eset)"
   ]
  },
  {
   "cell_type": "markdown",
   "id": "c811f8c3",
   "metadata": {},
   "source": [
    "That function can be be register to a `Converter`:"
   ]
  },
  {
   "cell_type": "code",
   "execution_count": 10,
   "id": "935bf446",
   "metadata": {
    "execution": {
     "iopub.execute_input": "2022-07-23T17:25:41.418072Z",
     "iopub.status.busy": "2022-07-23T17:25:41.417735Z",
     "iopub.status.idle": "2022-07-23T17:25:41.424451Z",
     "shell.execute_reply": "2022-07-23T17:25:41.423479Z"
    }
   },
   "outputs": [
    {
     "data": {
      "text/plain": [
       "<function __main__.rpy2py_s4(obj)>"
      ]
     },
     "execution_count": 10,
     "metadata": {},
     "output_type": "execute_result"
    }
   ],
   "source": [
    "from rpy2.robjects import default_converter\n",
    "from rpy2.robjects.conversion import Converter, localconverter\n",
    "\n",
    "my_converter = Converter('ExpressionSet-aware converter',\n",
    "                         template=default_converter)\n",
    "\n",
    "from rpy2.rinterface import SexpS4\n",
    "my_converter.rpy2py.register(SexpS4, rpy2py_s4)\n"
   ]
  },
  {
   "cell_type": "markdown",
   "id": "07d4f55b",
   "metadata": {},
   "source": [
    "When using that converter, the matching R objects are returned as\n",
    "instances of our Python class `ExpressionSet`:"
   ]
  },
  {
   "cell_type": "code",
   "execution_count": 11,
   "id": "85242441",
   "metadata": {
    "execution": {
     "iopub.execute_input": "2022-07-23T17:25:41.429370Z",
     "iopub.status.busy": "2022-07-23T17:25:41.429055Z",
     "iopub.status.idle": "2022-07-23T17:25:41.492454Z",
     "shell.execute_reply": "2022-07-23T17:25:41.491317Z"
    }
   },
   "outputs": [
    {
     "name": "stdout",
     "output_type": "stream",
     "text": [
      "<class '__main__.ExpressionSet'>\n"
     ]
    }
   ],
   "source": [
    "\n",
    "with localconverter(my_converter) as cv:\n",
    "    eset = biobase.ExpressionSet()\n",
    "    print(type(eset))"
   ]
  },
  {
   "cell_type": "markdown",
   "id": "08b71df4",
   "metadata": {},
   "source": [
    "## Class attributes\n",
    "\n",
    "The R attribute `assayData` can be accessed\n",
    "through the accessor method `exprs()` in R.\n",
    "We can make it a property in our Python class:"
   ]
  },
  {
   "cell_type": "code",
   "execution_count": 12,
   "id": "80423b8d",
   "metadata": {
    "execution": {
     "iopub.execute_input": "2022-07-23T17:25:41.496896Z",
     "iopub.status.busy": "2022-07-23T17:25:41.496597Z",
     "iopub.status.idle": "2022-07-23T17:25:41.505328Z",
     "shell.execute_reply": "2022-07-23T17:25:41.504336Z"
    }
   },
   "outputs": [
    {
     "data": {
      "text/plain": [
       "<rpy2.robjects.environments.Environment object at 0x7fd7e02fab40> [RTYPES.ENVSXP]\n",
       "R classes: ('environment',)\n",
       "n items: 1"
      ]
     },
     "execution_count": 12,
     "metadata": {},
     "output_type": "execute_result"
    }
   ],
   "source": [
    "class ExpressionSet(RS4):\n",
    "    def _exprs_get(self):\n",
    "        return self.slots['assayData']\n",
    "    def _exprs_set(self, value):\n",
    "        self.slots['assayData'] = value\n",
    "    exprs = property(_exprs_get,\n",
    "                     _exprs_set,\n",
    "                     None,\n",
    "                     \"R attribute `exprs`\")\n",
    "eset_myclass = ExpressionSet(eset)\n",
    "\n",
    "eset_myclass.exprs"
   ]
  },
  {
   "cell_type": "markdown",
   "id": "2fbdf8a7",
   "metadata": {},
   "source": [
    "## Methods\n",
    "\n",
    "In R's S4 methods are generic functions served by a multiple dispatch system.\n",
    "\n",
    "A natural way to expose the S4 method to Python is to use the\n",
    "`multipledispatch` package:"
   ]
  },
  {
   "cell_type": "code",
   "execution_count": 13,
   "id": "44dfc6d2",
   "metadata": {
    "execution": {
     "iopub.execute_input": "2022-07-23T17:25:41.509865Z",
     "iopub.status.busy": "2022-07-23T17:25:41.509593Z",
     "iopub.status.idle": "2022-07-23T17:25:41.518349Z",
     "shell.execute_reply": "2022-07-23T17:25:41.517327Z"
    }
   },
   "outputs": [],
   "source": [
    "from multipledispatch import dispatch\n",
    "from functools import partial\n",
    "\n",
    "my_namespace = dict()\n",
    "dispatch = partial(dispatch, namespace=my_namespace)\n",
    "\n",
    "@dispatch(ExpressionSet)\n",
    "def rowmedians(eset,\n",
    "               na_rm=False):\n",
    "    res = biobase.rowMedians(eset,\n",
    "                             na_rm=na_rm)\n",
    "    return res\n",
    "\n",
    "res = rowmedians(eset_myclass)"
   ]
  },
  {
   "cell_type": "markdown",
   "id": "fb12a46d",
   "metadata": {},
   "source": [
    "The R method `rowMedians` is also defined for matrices, which we can expose\n",
    "on the Python end as well:"
   ]
  },
  {
   "cell_type": "code",
   "execution_count": 14,
   "id": "2938fb46",
   "metadata": {
    "execution": {
     "iopub.execute_input": "2022-07-23T17:25:41.522298Z",
     "iopub.status.busy": "2022-07-23T17:25:41.521982Z",
     "iopub.status.idle": "2022-07-23T17:25:41.526736Z",
     "shell.execute_reply": "2022-07-23T17:25:41.525762Z"
    }
   },
   "outputs": [],
   "source": [
    "from rpy2.robjects.vectors import Matrix\n",
    "@dispatch(Matrix)\n",
    "def rowmedians(m,\n",
    "               na_rm=False):\n",
    "    res = biobase.rowMedians(m,\n",
    "                             na_rm=na_rm)\n",
    "    return res"
   ]
  },
  {
   "cell_type": "markdown",
   "id": "4373c127",
   "metadata": {},
   "source": [
    "While this is working, one can note that we call the same R function\n",
    "`rowMedians()` in the package `Biobase` in both Python decorated\n",
    "functions. What is happening is that the dispatch is performed by R.\n",
    "\n",
    "If this is ever becoming a performance issue, the specific R function\n",
    "dispatched can be prefetched and explicitly called in the Python\n",
    "function. For example:"
   ]
  },
  {
   "cell_type": "code",
   "execution_count": 15,
   "id": "8da49397",
   "metadata": {
    "execution": {
     "iopub.execute_input": "2022-07-23T17:25:41.531079Z",
     "iopub.status.busy": "2022-07-23T17:25:41.530760Z",
     "iopub.status.idle": "2022-07-23T17:25:41.536914Z",
     "shell.execute_reply": "2022-07-23T17:25:41.535927Z"
    }
   },
   "outputs": [],
   "source": [
    "from rpy2.robjects.methods import getmethod\n",
    "from rpy2.robjects.vectors import StrVector\n",
    "_rowmedians_matrix = getmethod(StrVector([\"rowMedians\"]),\n",
    "                               signature=StrVector([\"matrix\"]))\n",
    "@dispatch(Matrix)\n",
    "def rowmedians(m,\n",
    "               na_rm=False):\n",
    "    res = _rowmedians_matrix(m,\n",
    "                             na_rm=na_rm)\n",
    "    return res"
   ]
  }
 ],
 "metadata": {
  "language_info": {
   "codemirror_mode": {
    "name": "ipython",
    "version": 3
   },
   "file_extension": ".py",
   "mimetype": "text/x-python",
   "name": "python",
   "nbconvert_exporter": "python",
   "pygments_lexer": "ipython3",
   "version": "3.8.10"
  }
 },
 "nbformat": 4,
 "nbformat_minor": 5
}

{
 "cells": [
  {
   "cell_type": "code",
   "execution_count": 1,
   "id": "0cbd07e7",
   "metadata": {
    "execution": {
     "iopub.execute_input": "2023-02-24T17:45:24.555010Z",
     "iopub.status.busy": "2023-02-24T17:45:24.554753Z",
     "iopub.status.idle": "2023-02-24T17:45:25.500893Z",
     "shell.execute_reply": "2023-02-24T17:45:25.499826Z"
    }
   },
   "outputs": [],
   "source": [
    "from functools import partial\n",
    "from rpy2.ipython import html\n",
    "html.html_rdataframe=partial(html.html_rdataframe, table_class=\"docutils\")"
   ]
  },
  {
   "cell_type": "markdown",
   "id": "ede7e1dc",
   "metadata": {},
   "source": [
    "# Basic handling\n",
    "\n",
    "The S4 system is one the OOP systems in R.\n",
    "Its largest use might be in the Bioconductor collection of packages\n",
    "for bioinformatics and computational biology.\n",
    "\n",
    "We use the bioconductor `Biobase`:"
   ]
  },
  {
   "cell_type": "code",
   "execution_count": 2,
   "id": "3ba7d40c",
   "metadata": {
    "execution": {
     "iopub.execute_input": "2023-02-24T17:45:25.504547Z",
     "iopub.status.busy": "2023-02-24T17:45:25.504221Z",
     "iopub.status.idle": "2023-02-24T17:45:26.033067Z",
     "shell.execute_reply": "2023-02-24T17:45:26.032288Z"
    }
   },
   "outputs": [],
   "source": [
    "from rpy2.robjects.packages import importr\n",
    "biobase = importr('Biobase')"
   ]
  },
  {
   "cell_type": "markdown",
   "id": "5286516d",
   "metadata": {},
   "source": [
    "The R package contains constructors for the S4 classes defined. They\n",
    "are simply functions, and can be used as such through `rpy2`:"
   ]
  },
  {
   "cell_type": "code",
   "execution_count": 3,
   "id": "cd16745c",
   "metadata": {
    "execution": {
     "iopub.execute_input": "2023-02-24T17:45:26.037233Z",
     "iopub.status.busy": "2023-02-24T17:45:26.036535Z",
     "iopub.status.idle": "2023-02-24T17:45:26.120622Z",
     "shell.execute_reply": "2023-02-24T17:45:26.119788Z"
    }
   },
   "outputs": [],
   "source": [
    "eset = biobase.ExpressionSet() "
   ]
  },
  {
   "cell_type": "markdown",
   "id": "e6a389a9",
   "metadata": {},
   "source": [
    "The object `eset` is an R object of type `S4`:"
   ]
  },
  {
   "cell_type": "code",
   "execution_count": 4,
   "id": "e4952506",
   "metadata": {
    "execution": {
     "iopub.execute_input": "2023-02-24T17:45:26.124513Z",
     "iopub.status.busy": "2023-02-24T17:45:26.123978Z",
     "iopub.status.idle": "2023-02-24T17:45:26.131864Z",
     "shell.execute_reply": "2023-02-24T17:45:26.131178Z"
    }
   },
   "outputs": [
    {
     "data": {
      "text/plain": [
       "rpy2.robjects.methods.RS4"
      ]
     },
     "execution_count": 4,
     "metadata": {},
     "output_type": "execute_result"
    }
   ],
   "source": [
    "type(eset)"
   ]
  },
  {
   "cell_type": "markdown",
   "id": "619ebb84",
   "metadata": {},
   "source": [
    "It has a class as well:"
   ]
  },
  {
   "cell_type": "code",
   "execution_count": 5,
   "id": "4424521d",
   "metadata": {
    "execution": {
     "iopub.execute_input": "2023-02-24T17:45:26.135656Z",
     "iopub.status.busy": "2023-02-24T17:45:26.135290Z",
     "iopub.status.idle": "2023-02-24T17:45:26.139766Z",
     "shell.execute_reply": "2023-02-24T17:45:26.139118Z"
    }
   },
   "outputs": [
    {
     "data": {
      "text/plain": [
       "('ExpressionSet',)"
      ]
     },
     "execution_count": 5,
     "metadata": {},
     "output_type": "execute_result"
    }
   ],
   "source": [
    "tuple(eset.rclass)"
   ]
  },
  {
   "cell_type": "markdown",
   "id": "428633a9",
   "metadata": {},
   "source": [
    "In R, objects attributes are also known as slots. The attribute names\n",
    "can be listed with:"
   ]
  },
  {
   "cell_type": "code",
   "execution_count": 6,
   "id": "09bbf736",
   "metadata": {
    "execution": {
     "iopub.execute_input": "2023-02-24T17:45:26.142400Z",
     "iopub.status.busy": "2023-02-24T17:45:26.141961Z",
     "iopub.status.idle": "2023-02-24T17:45:26.146800Z",
     "shell.execute_reply": "2023-02-24T17:45:26.146164Z"
    }
   },
   "outputs": [
    {
     "data": {
      "text/plain": [
       "('experimentData',\n",
       " 'assayData',\n",
       " 'phenoData',\n",
       " 'featureData',\n",
       " 'annotation',\n",
       " 'protocolData',\n",
       " '.__classVersion__')"
      ]
     },
     "execution_count": 6,
     "metadata": {},
     "output_type": "execute_result"
    }
   ],
   "source": [
    "tuple(eset.slotnames())"
   ]
  },
  {
   "cell_type": "markdown",
   "id": "2f4f2cb7",
   "metadata": {},
   "source": [
    "The attributes can also be accessed through the `rpy2` property `slots`.\n",
    "`slots` is a mapping between attributes names (keys) and their associated\n",
    "R object (values). It can be used as Python `dict`:"
   ]
  },
  {
   "cell_type": "code",
   "execution_count": 7,
   "id": "dd08760e",
   "metadata": {
    "execution": {
     "iopub.execute_input": "2023-02-24T17:45:26.149212Z",
     "iopub.status.busy": "2023-02-24T17:45:26.148855Z",
     "iopub.status.idle": "2023-02-24T17:45:26.154550Z",
     "shell.execute_reply": "2023-02-24T17:45:26.153871Z"
    }
   },
   "outputs": [
    {
     "name": "stdout",
     "output_type": "stream",
     "text": [
      "('.__classVersion__', 'experimentData', 'assayData', 'phenoData', 'featureData', 'annotation', 'protocolData', 'class')\n"
     ]
    }
   ],
   "source": [
    "# print keys\n",
    "print(tuple(eset.slots.keys()))\n",
    "\n",
    "# fetch `phenoData`\n",
    "phdat = eset.slots['phenoData']\n",
    "\n",
    "# phdat is an S4 object itself\n",
    "pheno_dataf = phdat.slots['data']"
   ]
  },
  {
   "cell_type": "markdown",
   "id": "3b6930e4",
   "metadata": {},
   "source": [
    "# Mapping S4 classes to Python classes\n",
    "\n",
    "Writing one's own Python class extending rpy2's `RS4` is straightforward.\n",
    "That class can be used wrap our `eset` object"
   ]
  },
  {
   "cell_type": "code",
   "execution_count": 8,
   "id": "b5a2841f",
   "metadata": {
    "execution": {
     "iopub.execute_input": "2023-02-24T17:45:26.157441Z",
     "iopub.status.busy": "2023-02-24T17:45:26.156926Z",
     "iopub.status.idle": "2023-02-24T17:45:26.160488Z",
     "shell.execute_reply": "2023-02-24T17:45:26.159836Z"
    }
   },
   "outputs": [],
   "source": [
    "\n",
    "from rpy2.robjects.methods import RS4   \n",
    "class ExpressionSet(RS4):\n",
    "    pass\n",
    "\n",
    "eset_myclass = ExpressionSet(eset)"
   ]
  },
  {
   "cell_type": "markdown",
   "id": "2cbc50f5",
   "metadata": {},
   "source": [
    "## Custom conversion\n",
    "\n",
    "The conversion system can also be made aware our new class by customizing\n",
    "the handling of S4 objects.\n",
    "\n",
    "A simple implementation is a factory function that will conditionally wrap\n",
    "the object in our Python class `ExpressionSet`:"
   ]
  },
  {
   "cell_type": "code",
   "execution_count": 9,
   "id": "f05af533",
   "metadata": {
    "execution": {
     "iopub.execute_input": "2023-02-24T17:45:26.163127Z",
     "iopub.status.busy": "2023-02-24T17:45:26.162533Z",
     "iopub.status.idle": "2023-02-24T17:45:26.167971Z",
     "shell.execute_reply": "2023-02-24T17:45:26.167321Z"
    }
   },
   "outputs": [
    {
     "data": {
      "text/plain": [
       "<__main__.ExpressionSet object at 0x7fd8638cb980> [RTYPES.S4SXP]\n",
       "R classes: ('ExpressionSet',)"
      ]
     },
     "execution_count": 9,
     "metadata": {},
     "output_type": "execute_result"
    }
   ],
   "source": [
    "def rpy2py_s4(obj):\n",
    "    if 'ExpressionSet' in obj.rclass:\n",
    "        res = ExpressionSet(obj)\n",
    "    else:\n",
    "        res = robj\n",
    "    return res\n",
    "\n",
    "# try it\n",
    "rpy2py_s4(eset)"
   ]
  },
  {
   "cell_type": "markdown",
   "id": "4a736b2f",
   "metadata": {},
   "source": [
    "That function can be be register to a `Converter`:"
   ]
  },
  {
   "cell_type": "code",
   "execution_count": 10,
   "id": "dfab6652",
   "metadata": {
    "execution": {
     "iopub.execute_input": "2023-02-24T17:45:26.170716Z",
     "iopub.status.busy": "2023-02-24T17:45:26.170380Z",
     "iopub.status.idle": "2023-02-24T17:45:26.176759Z",
     "shell.execute_reply": "2023-02-24T17:45:26.176159Z"
    }
   },
   "outputs": [
    {
     "data": {
      "text/plain": [
       "<function __main__.rpy2py_s4(obj)>"
      ]
     },
     "execution_count": 10,
     "metadata": {},
     "output_type": "execute_result"
    }
   ],
   "source": [
    "from rpy2.robjects import default_converter\n",
    "from rpy2.robjects.conversion import Converter\n",
    "\n",
    "my_converter = Converter('ExpressionSet-aware converter',\n",
    "                         template=default_converter)\n",
    "\n",
    "from rpy2.rinterface import SexpS4\n",
    "my_converter.rpy2py.register(SexpS4, rpy2py_s4)\n"
   ]
  },
  {
   "cell_type": "markdown",
   "id": "dc938ec5",
   "metadata": {},
   "source": [
    "When using that converter, the matching R objects are returned as\n",
    "instances of our Python class `ExpressionSet`:"
   ]
  },
  {
   "cell_type": "code",
   "execution_count": 11,
   "id": "ccb74a0f",
   "metadata": {
    "execution": {
     "iopub.execute_input": "2023-02-24T17:45:26.179568Z",
     "iopub.status.busy": "2023-02-24T17:45:26.179062Z",
     "iopub.status.idle": "2023-02-24T17:45:26.231228Z",
     "shell.execute_reply": "2023-02-24T17:45:26.230478Z"
    }
   },
   "outputs": [
    {
     "name": "stdout",
     "output_type": "stream",
     "text": [
      "<class '__main__.ExpressionSet'>\n"
     ]
    }
   ],
   "source": [
    "\n",
    "with my_converter.context() as cv:\n",
    "    eset = biobase.ExpressionSet()\n",
    "    print(type(eset))"
   ]
  },
  {
   "cell_type": "markdown",
   "id": "d5f4d1e4",
   "metadata": {},
   "source": [
    "## Class attributes\n",
    "\n",
    "The R attribute `assayData` can be accessed\n",
    "through the accessor method `exprs()` in R.\n",
    "We can make it a property in our Python class:"
   ]
  },
  {
   "cell_type": "code",
   "execution_count": 12,
   "id": "04596dc5",
   "metadata": {
    "execution": {
     "iopub.execute_input": "2023-02-24T17:45:26.234460Z",
     "iopub.status.busy": "2023-02-24T17:45:26.233898Z",
     "iopub.status.idle": "2023-02-24T17:45:26.241924Z",
     "shell.execute_reply": "2023-02-24T17:45:26.241269Z"
    }
   },
   "outputs": [
    {
     "data": {
      "text/plain": [
       "<rpy2.robjects.environments.Environment object at 0x7fd867945940> [RTYPES.ENVSXP]\n",
       "R classes: ('environment',)\n",
       "n items: 1"
      ]
     },
     "execution_count": 12,
     "metadata": {},
     "output_type": "execute_result"
    }
   ],
   "source": [
    "class ExpressionSet(RS4):\n",
    "    def _exprs_get(self):\n",
    "        return self.slots['assayData']\n",
    "    def _exprs_set(self, value):\n",
    "        self.slots['assayData'] = value\n",
    "    exprs = property(_exprs_get,\n",
    "                     _exprs_set,\n",
    "                     None,\n",
    "                     \"R attribute `exprs`\")\n",
    "eset_myclass = ExpressionSet(eset)\n",
    "\n",
    "eset_myclass.exprs"
   ]
  },
  {
   "cell_type": "markdown",
   "id": "510d826f",
   "metadata": {},
   "source": [
    "## Methods\n",
    "\n",
    "In R's S4 methods are generic functions served by a multiple dispatch system.\n",
    "\n",
    "A natural way to expose the S4 method to Python is to use the\n",
    "`multipledispatch` package:"
   ]
  },
  {
   "cell_type": "code",
   "execution_count": 13,
   "id": "fcc27d70",
   "metadata": {
    "execution": {
     "iopub.execute_input": "2023-02-24T17:45:26.245130Z",
     "iopub.status.busy": "2023-02-24T17:45:26.244766Z",
     "iopub.status.idle": "2023-02-24T17:45:26.253237Z",
     "shell.execute_reply": "2023-02-24T17:45:26.252622Z"
    }
   },
   "outputs": [],
   "source": [
    "from multipledispatch import dispatch\n",
    "from functools import partial\n",
    "\n",
    "my_namespace = dict()\n",
    "dispatch = partial(dispatch, namespace=my_namespace)\n",
    "\n",
    "@dispatch(ExpressionSet)\n",
    "def rowmedians(eset,\n",
    "               na_rm=False):\n",
    "    res = biobase.rowMedians(eset,\n",
    "                             na_rm=na_rm)\n",
    "    return res\n",
    "\n",
    "res = rowmedians(eset_myclass)"
   ]
  },
  {
   "cell_type": "markdown",
   "id": "375036fb",
   "metadata": {},
   "source": [
    "The R method `rowMedians` is also defined for matrices, which we can expose\n",
    "on the Python end as well:"
   ]
  },
  {
   "cell_type": "code",
   "execution_count": 14,
   "id": "c4a3b8f4",
   "metadata": {
    "execution": {
     "iopub.execute_input": "2023-02-24T17:45:26.256506Z",
     "iopub.status.busy": "2023-02-24T17:45:26.256141Z",
     "iopub.status.idle": "2023-02-24T17:45:26.261019Z",
     "shell.execute_reply": "2023-02-24T17:45:26.260384Z"
    }
   },
   "outputs": [],
   "source": [
    "from rpy2.robjects.vectors import Matrix\n",
    "@dispatch(Matrix)\n",
    "def rowmedians(m,\n",
    "               na_rm=False):\n",
    "    res = biobase.rowMedians(m,\n",
    "                             na_rm=na_rm)\n",
    "    return res"
   ]
  },
  {
   "cell_type": "markdown",
   "id": "b2d90e1f",
   "metadata": {},
   "source": [
    "While this is working, one can note that we call the same R function\n",
    "`rowMedians()` in the package `Biobase` in both Python decorated\n",
    "functions. What is happening is that the dispatch is performed by R.\n",
    "\n",
    "If this is ever becoming a performance issue, the specific R function\n",
    "dispatched can be prefetched and explicitly called in the Python\n",
    "function. For example:"
   ]
  },
  {
   "cell_type": "code",
   "execution_count": 15,
   "id": "402af851",
   "metadata": {
    "execution": {
     "iopub.execute_input": "2023-02-24T17:45:26.263897Z",
     "iopub.status.busy": "2023-02-24T17:45:26.263546Z",
     "iopub.status.idle": "2023-02-24T17:45:26.269120Z",
     "shell.execute_reply": "2023-02-24T17:45:26.268541Z"
    }
   },
   "outputs": [],
   "source": [
    "from rpy2.robjects.methods import getmethod\n",
    "from rpy2.robjects.vectors import StrVector\n",
    "_rowmedians_matrix = getmethod(StrVector([\"rowMedians\"]),\n",
    "                               signature=StrVector([\"matrix\"]))\n",
    "@dispatch(Matrix)\n",
    "def rowmedians(m,\n",
    "               na_rm=False):\n",
    "    res = _rowmedians_matrix(m,\n",
    "                             na_rm=na_rm)\n",
    "    return res"
   ]
  }
 ],
 "metadata": {
  "language_info": {
   "codemirror_mode": {
    "name": "ipython",
    "version": 3
   },
   "file_extension": ".py",
   "mimetype": "text/x-python",
   "name": "python",
   "nbconvert_exporter": "python",
   "pygments_lexer": "ipython3",
   "version": "3.9.16"
  }
 },
 "nbformat": 4,
 "nbformat_minor": 5
}

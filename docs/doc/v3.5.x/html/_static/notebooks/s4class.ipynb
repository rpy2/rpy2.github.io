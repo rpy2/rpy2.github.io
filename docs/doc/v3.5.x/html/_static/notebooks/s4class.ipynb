{
 "cells": [
  {
   "cell_type": "code",
   "execution_count": 1,
   "id": "3d0a3bc9",
   "metadata": {
    "execution": {
     "iopub.execute_input": "2022-04-09T19:54:15.589513Z",
     "iopub.status.busy": "2022-04-09T19:54:15.589067Z",
     "iopub.status.idle": "2022-04-09T19:54:16.463334Z",
     "shell.execute_reply": "2022-04-09T19:54:16.462732Z"
    }
   },
   "outputs": [],
   "source": [
    "from functools import partial\n",
    "from rpy2.ipython import html\n",
    "html.html_rdataframe=partial(html.html_rdataframe, table_class=\"docutils\")"
   ]
  },
  {
   "cell_type": "markdown",
   "id": "57556126",
   "metadata": {},
   "source": [
    "# Basic handling\n",
    "\n",
    "The S4 system is one the OOP systems in R.\n",
    "Its largest use might in the Bioconductor collection of packages\n",
    "for bioinformatics and computational biology.\n",
    "\n",
    "We use the bioconductor `Biobase`:"
   ]
  },
  {
   "cell_type": "code",
   "execution_count": 2,
   "id": "ed3861a7",
   "metadata": {
    "execution": {
     "iopub.execute_input": "2022-04-09T19:54:16.466529Z",
     "iopub.status.busy": "2022-04-09T19:54:16.466150Z",
     "iopub.status.idle": "2022-04-09T19:54:16.948887Z",
     "shell.execute_reply": "2022-04-09T19:54:16.948343Z"
    }
   },
   "outputs": [],
   "source": [
    "from rpy2.robjects.packages import importr\n",
    "biobase = importr('Biobase')"
   ]
  },
  {
   "cell_type": "markdown",
   "id": "282b0d5d",
   "metadata": {},
   "source": [
    "The R package contains constructors for the S4 classes defined. They\n",
    "are simply functions, and can be used as such through `rpy2`:"
   ]
  },
  {
   "cell_type": "code",
   "execution_count": 3,
   "id": "2e845efe",
   "metadata": {
    "execution": {
     "iopub.execute_input": "2022-04-09T19:54:16.951907Z",
     "iopub.status.busy": "2022-04-09T19:54:16.951535Z",
     "iopub.status.idle": "2022-04-09T19:54:17.024182Z",
     "shell.execute_reply": "2022-04-09T19:54:17.023619Z"
    }
   },
   "outputs": [],
   "source": [
    "eset = biobase.ExpressionSet() "
   ]
  },
  {
   "cell_type": "markdown",
   "id": "7da8c639",
   "metadata": {},
   "source": [
    "The object `eset` is an R object of type `S4`:"
   ]
  },
  {
   "cell_type": "code",
   "execution_count": 4,
   "id": "9b7ef462",
   "metadata": {
    "execution": {
     "iopub.execute_input": "2022-04-09T19:54:17.027145Z",
     "iopub.status.busy": "2022-04-09T19:54:17.026859Z",
     "iopub.status.idle": "2022-04-09T19:54:17.035848Z",
     "shell.execute_reply": "2022-04-09T19:54:17.035441Z"
    }
   },
   "outputs": [
    {
     "data": {
      "text/plain": [
       "rpy2.robjects.methods.RS4"
      ]
     },
     "execution_count": 4,
     "metadata": {},
     "output_type": "execute_result"
    }
   ],
   "source": [
    "type(eset)"
   ]
  },
  {
   "cell_type": "markdown",
   "id": "d467ab02",
   "metadata": {},
   "source": [
    "It has a class as well:"
   ]
  },
  {
   "cell_type": "code",
   "execution_count": 5,
   "id": "cc638876",
   "metadata": {
    "execution": {
     "iopub.execute_input": "2022-04-09T19:54:17.038727Z",
     "iopub.status.busy": "2022-04-09T19:54:17.038185Z",
     "iopub.status.idle": "2022-04-09T19:54:17.042496Z",
     "shell.execute_reply": "2022-04-09T19:54:17.041979Z"
    }
   },
   "outputs": [
    {
     "data": {
      "text/plain": [
       "('ExpressionSet',)"
      ]
     },
     "execution_count": 5,
     "metadata": {},
     "output_type": "execute_result"
    }
   ],
   "source": [
    "tuple(eset.rclass)"
   ]
  },
  {
   "cell_type": "markdown",
   "id": "03085972",
   "metadata": {},
   "source": [
    "In R, objects attributes are also known as slots. The attribute names\n",
    "can be listed with:"
   ]
  },
  {
   "cell_type": "code",
   "execution_count": 6,
   "id": "4377c009",
   "metadata": {
    "execution": {
     "iopub.execute_input": "2022-04-09T19:54:17.044915Z",
     "iopub.status.busy": "2022-04-09T19:54:17.044645Z",
     "iopub.status.idle": "2022-04-09T19:54:17.049018Z",
     "shell.execute_reply": "2022-04-09T19:54:17.048481Z"
    }
   },
   "outputs": [
    {
     "data": {
      "text/plain": [
       "('experimentData',\n",
       " 'assayData',\n",
       " 'phenoData',\n",
       " 'featureData',\n",
       " 'annotation',\n",
       " 'protocolData',\n",
       " '.__classVersion__')"
      ]
     },
     "execution_count": 6,
     "metadata": {},
     "output_type": "execute_result"
    }
   ],
   "source": [
    "tuple(eset.slotnames())"
   ]
  },
  {
   "cell_type": "markdown",
   "id": "7114d092",
   "metadata": {},
   "source": [
    "The attributes can also be accessed through the `rpy2` property `slots`.\n",
    "`slots` is a mapping between attributes names (keys) and their associated\n",
    "R object (values). It can be used as Python `dict`:"
   ]
  },
  {
   "cell_type": "code",
   "execution_count": 7,
   "id": "3d8537e9",
   "metadata": {
    "execution": {
     "iopub.execute_input": "2022-04-09T19:54:17.051522Z",
     "iopub.status.busy": "2022-04-09T19:54:17.051241Z",
     "iopub.status.idle": "2022-04-09T19:54:17.056539Z",
     "shell.execute_reply": "2022-04-09T19:54:17.055996Z"
    }
   },
   "outputs": [
    {
     "name": "stdout",
     "output_type": "stream",
     "text": [
      "('.__classVersion__', 'experimentData', 'assayData', 'phenoData', 'featureData', 'annotation', 'protocolData', 'class')\n"
     ]
    }
   ],
   "source": [
    "# print keys\n",
    "print(tuple(eset.slots.keys()))\n",
    "\n",
    "# fetch `phenoData`\n",
    "phdat = eset.slots['phenoData']\n",
    "\n",
    "# phdat is an S4 object itself\n",
    "pheno_dataf = phdat.slots['data']"
   ]
  },
  {
   "cell_type": "markdown",
   "id": "a6d84310",
   "metadata": {},
   "source": [
    "# Mapping S4 classes to Python classes\n",
    "\n",
    "Writing one's own Python class extending rpy2's `RS4` is straightforward.\n",
    "That class can be used wrap our `eset` object"
   ]
  },
  {
   "cell_type": "code",
   "execution_count": 8,
   "id": "4ffbfa1a",
   "metadata": {
    "execution": {
     "iopub.execute_input": "2022-04-09T19:54:17.059405Z",
     "iopub.status.busy": "2022-04-09T19:54:17.058996Z",
     "iopub.status.idle": "2022-04-09T19:54:17.062274Z",
     "shell.execute_reply": "2022-04-09T19:54:17.061729Z"
    }
   },
   "outputs": [],
   "source": [
    "\n",
    "from rpy2.robjects.methods import RS4   \n",
    "class ExpressionSet(RS4):\n",
    "    pass\n",
    "\n",
    "eset_myclass = ExpressionSet(eset)"
   ]
  },
  {
   "cell_type": "markdown",
   "id": "f6722744",
   "metadata": {},
   "source": [
    "## Custom conversion\n",
    "\n",
    "The conversion system can also be made aware our new class by customizing\n",
    "the handling of S4 objects.\n",
    "\n",
    "A simple implementation is a factory function that will conditionally wrap\n",
    "the object in our Python class `ExpressionSet`:"
   ]
  },
  {
   "cell_type": "code",
   "execution_count": 9,
   "id": "cba9c340",
   "metadata": {
    "execution": {
     "iopub.execute_input": "2022-04-09T19:54:17.064901Z",
     "iopub.status.busy": "2022-04-09T19:54:17.064482Z",
     "iopub.status.idle": "2022-04-09T19:54:17.069523Z",
     "shell.execute_reply": "2022-04-09T19:54:17.069016Z"
    }
   },
   "outputs": [
    {
     "data": {
      "text/plain": [
       "<__main__.ExpressionSet object at 0x7f897cd9b9c0> [RTYPES.S4SXP]\n",
       "R classes: ('ExpressionSet',)"
      ]
     },
     "execution_count": 9,
     "metadata": {},
     "output_type": "execute_result"
    }
   ],
   "source": [
    "def rpy2py_s4(obj):\n",
    "    if 'ExpressionSet' in obj.rclass:\n",
    "        res = ExpressionSet(obj)\n",
    "    else:\n",
    "        res = robj\n",
    "    return res\n",
    "\n",
    "# try it\n",
    "rpy2py_s4(eset)"
   ]
  },
  {
   "cell_type": "markdown",
   "id": "a8286cb0",
   "metadata": {},
   "source": [
    "That function can be be register to a `Converter`:"
   ]
  },
  {
   "cell_type": "code",
   "execution_count": 10,
   "id": "7962c4bb",
   "metadata": {
    "execution": {
     "iopub.execute_input": "2022-04-09T19:54:17.072196Z",
     "iopub.status.busy": "2022-04-09T19:54:17.071933Z",
     "iopub.status.idle": "2022-04-09T19:54:17.076817Z",
     "shell.execute_reply": "2022-04-09T19:54:17.076293Z"
    }
   },
   "outputs": [
    {
     "data": {
      "text/plain": [
       "<function __main__.rpy2py_s4(obj)>"
      ]
     },
     "execution_count": 10,
     "metadata": {},
     "output_type": "execute_result"
    }
   ],
   "source": [
    "from rpy2.robjects import default_converter\n",
    "from rpy2.robjects.conversion import Converter, localconverter\n",
    "\n",
    "my_converter = Converter('ExpressionSet-aware converter',\n",
    "                         template=default_converter)\n",
    "\n",
    "from rpy2.rinterface import SexpS4\n",
    "my_converter.rpy2py.register(SexpS4, rpy2py_s4)\n"
   ]
  },
  {
   "cell_type": "markdown",
   "id": "bf16797d",
   "metadata": {},
   "source": [
    "When using that converter, the matching R objects are returned as\n",
    "instances of our Python class `ExpressionSet`:"
   ]
  },
  {
   "cell_type": "code",
   "execution_count": 11,
   "id": "db7221bb",
   "metadata": {
    "execution": {
     "iopub.execute_input": "2022-04-09T19:54:17.079846Z",
     "iopub.status.busy": "2022-04-09T19:54:17.079572Z",
     "iopub.status.idle": "2022-04-09T19:54:17.122497Z",
     "shell.execute_reply": "2022-04-09T19:54:17.121920Z"
    }
   },
   "outputs": [
    {
     "name": "stdout",
     "output_type": "stream",
     "text": [
      "<class '__main__.ExpressionSet'>\n"
     ]
    }
   ],
   "source": [
    "\n",
    "with localconverter(my_converter) as cv:\n",
    "    eset = biobase.ExpressionSet()\n",
    "    print(type(eset))"
   ]
  },
  {
   "cell_type": "markdown",
   "id": "aa319839",
   "metadata": {},
   "source": [
    "## Class attributes\n",
    "\n",
    "The R attribute `assayData` can be accessed\n",
    "through the accessor method `exprs()` in R.\n",
    "We can make it a property in our Python class:"
   ]
  },
  {
   "cell_type": "code",
   "execution_count": 12,
   "id": "ed87dde9",
   "metadata": {
    "execution": {
     "iopub.execute_input": "2022-04-09T19:54:17.125224Z",
     "iopub.status.busy": "2022-04-09T19:54:17.124776Z",
     "iopub.status.idle": "2022-04-09T19:54:17.131163Z",
     "shell.execute_reply": "2022-04-09T19:54:17.130642Z"
    }
   },
   "outputs": [
    {
     "data": {
      "text/plain": [
       "<rpy2.robjects.environments.Environment object at 0x7f897cd78740> [RTYPES.ENVSXP]\n",
       "R classes: ('environment',)\n",
       "n items: 1"
      ]
     },
     "execution_count": 12,
     "metadata": {},
     "output_type": "execute_result"
    }
   ],
   "source": [
    "class ExpressionSet(RS4):\n",
    "    def _exprs_get(self):\n",
    "        return self.slots['assayData']\n",
    "    def _exprs_set(self, value):\n",
    "        self.slots['assayData'] = value\n",
    "    exprs = property(_exprs_get,\n",
    "                     _exprs_set,\n",
    "                     None,\n",
    "                     \"R attribute `exprs`\")\n",
    "eset_myclass = ExpressionSet(eset)\n",
    "\n",
    "eset_myclass.exprs"
   ]
  },
  {
   "cell_type": "markdown",
   "id": "71b13169",
   "metadata": {},
   "source": [
    "## Methods\n",
    "\n",
    "In R's S4 methods are generic functions served by a multiple dispatch system.\n",
    "\n",
    "A natural way to expose the S4 method to Python is to use the\n",
    "`multipledispatch` package:"
   ]
  },
  {
   "cell_type": "code",
   "execution_count": 13,
   "id": "bd40a5db",
   "metadata": {
    "execution": {
     "iopub.execute_input": "2022-04-09T19:54:17.133940Z",
     "iopub.status.busy": "2022-04-09T19:54:17.133515Z",
     "iopub.status.idle": "2022-04-09T19:54:17.139820Z",
     "shell.execute_reply": "2022-04-09T19:54:17.139342Z"
    }
   },
   "outputs": [],
   "source": [
    "from multipledispatch import dispatch\n",
    "from functools import partial\n",
    "\n",
    "my_namespace = dict()\n",
    "dispatch = partial(dispatch, namespace=my_namespace)\n",
    "\n",
    "@dispatch(ExpressionSet)\n",
    "def rowmedians(eset,\n",
    "               na_rm=False):\n",
    "    res = biobase.rowMedians(eset,\n",
    "                             na_rm=na_rm)\n",
    "    return res\n",
    "\n",
    "res = rowmedians(eset_myclass)"
   ]
  },
  {
   "cell_type": "markdown",
   "id": "5d33f0c9",
   "metadata": {},
   "source": [
    "The R method `rowMedians` is also defined for matrices, which we can expose\n",
    "on the Python end as well:"
   ]
  },
  {
   "cell_type": "code",
   "execution_count": 14,
   "id": "ac665ac0",
   "metadata": {
    "execution": {
     "iopub.execute_input": "2022-04-09T19:54:17.142604Z",
     "iopub.status.busy": "2022-04-09T19:54:17.142331Z",
     "iopub.status.idle": "2022-04-09T19:54:17.145828Z",
     "shell.execute_reply": "2022-04-09T19:54:17.145292Z"
    }
   },
   "outputs": [],
   "source": [
    "from rpy2.robjects.vectors import Matrix\n",
    "@dispatch(Matrix)\n",
    "def rowmedians(m,\n",
    "               na_rm=False):\n",
    "    res = biobase.rowMedians(m,\n",
    "                             na_rm=na_rm)\n",
    "    return res"
   ]
  },
  {
   "cell_type": "markdown",
   "id": "84cada85",
   "metadata": {},
   "source": [
    "While this is working, one can note that we call the same R function\n",
    "`rowMedians()` in the package `Biobase` in both Python decorated\n",
    "functions. What is happening is that the dispatch is performed by R.\n",
    "\n",
    "If this is ever becoming a performance issue, the specific R function\n",
    "dispatched can be prefetched and explicitly called in the Python\n",
    "function. For example:"
   ]
  },
  {
   "cell_type": "code",
   "execution_count": 15,
   "id": "6162c656",
   "metadata": {
    "execution": {
     "iopub.execute_input": "2022-04-09T19:54:17.148558Z",
     "iopub.status.busy": "2022-04-09T19:54:17.148146Z",
     "iopub.status.idle": "2022-04-09T19:54:17.152914Z",
     "shell.execute_reply": "2022-04-09T19:54:17.152396Z"
    }
   },
   "outputs": [],
   "source": [
    "from rpy2.robjects.methods import getmethod\n",
    "from rpy2.robjects.vectors import StrVector\n",
    "_rowmedians_matrix = getmethod(StrVector([\"rowMedians\"]),\n",
    "                               signature=StrVector([\"matrix\"]))\n",
    "@dispatch(Matrix)\n",
    "def rowmedians(m,\n",
    "               na_rm=False):\n",
    "    res = _rowmedians_matrix(m,\n",
    "                             na_rm=na_rm)\n",
    "    return res"
   ]
  }
 ],
 "metadata": {
  "language_info": {
   "codemirror_mode": {
    "name": "ipython",
    "version": 3
   },
   "file_extension": ".py",
   "mimetype": "text/x-python",
   "name": "python",
   "nbconvert_exporter": "python",
   "pygments_lexer": "ipython3",
   "version": "3.8.10"
  }
 },
 "nbformat": 4,
 "nbformat_minor": 5
}

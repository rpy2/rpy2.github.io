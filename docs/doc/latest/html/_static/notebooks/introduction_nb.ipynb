{
 "cells": [
  {
   "cell_type": "code",
   "execution_count": 1,
   "id": "0f4f8651",
   "metadata": {
    "execution": {
     "iopub.execute_input": "2025-06-08T03:29:54.985095Z",
     "iopub.status.busy": "2025-06-08T03:29:54.984627Z",
     "iopub.status.idle": "2025-06-08T03:29:56.026491Z",
     "shell.execute_reply": "2025-06-08T03:29:56.025876Z"
    }
   },
   "outputs": [
    {
     "name": "stderr",
     "output_type": "stream",
     "text": [
      "/opt/hostedtoolcache/Python/3.10.17/x64/lib/python3.10/site-packages/rpy2/rinterface/__init__.py:1211: UserWarning: Environment variable \"LD_LIBRARY_PATH\" redefined by R and overriding existing variable. Current: \"/opt/R/4.5.0/lib/R/lib:/usr/local/lib:/usr/lib/x86_64-linux-gnu:/usr/lib/jvm/temurin-17-jdk-amd64/lib/server:/opt/hostedtoolcache/Python/3.10.17/x64/lib:/opt/hostedtoolcache/Python/3.10.17/x64/lib\", R: \"/opt/R/4.5.0/lib/R/lib:/usr/local/lib:/usr/lib/x86_64-linux-gnu:/usr/lib/jvm/temurin-17-jdk-amd64/lib/server:/opt/R/4.5.0/lib/R/lib:/usr/local/lib:/usr/lib/x86_64-linux-gnu:/usr/lib/jvm/temurin-17-jdk-amd64/lib/server:/opt/hostedtoolcache/Python/3.10.17/x64/lib:/opt/hostedtoolcache/Python/3.10.17/x64/lib\"\n",
      "  warnings.warn(\n",
      "/opt/hostedtoolcache/Python/3.10.17/x64/lib/python3.10/site-packages/rpy2/rinterface/__init__.py:1211: UserWarning: Environment variable \"PWD\" redefined by R and overriding existing variable. Current: \"/home/runner/work/rpy2/rpy2/doc\", R: \"/home/runner/work/rpy2/rpy2/doc/notebooks\"\n",
      "  warnings.warn(\n"
     ]
    },
    {
     "name": "stderr",
     "output_type": "stream",
     "text": [
      "/opt/hostedtoolcache/Python/3.10.17/x64/lib/python3.10/site-packages/rpy2/rinterface/__init__.py:1211: UserWarning: Environment variable \"LD_LIBRARY_PATH\" redefined by R and overriding existing variable. Current: \"/opt/R/4.5.0/lib/R/lib:/usr/local/lib:/usr/lib/x86_64-linux-gnu:/usr/lib/jvm/temurin-17-jdk-amd64/lib/server:/opt/R/4.5.0/lib/R/lib:/usr/local/lib:/usr/lib/x86_64-linux-gnu:/usr/lib/jvm/temurin-17-jdk-amd64/lib/server:/opt/hostedtoolcache/Python/3.10.17/x64/lib:/opt/hostedtoolcache/Python/3.10.17/x64/lib\", R: \"/opt/R/4.5.0/lib/R/lib:/usr/local/lib:/usr/lib/x86_64-linux-gnu:/usr/lib/jvm/temurin-17-jdk-amd64/lib/server:/opt/R/4.5.0/lib/R/lib:/usr/local/lib:/usr/lib/x86_64-linux-gnu:/usr/lib/jvm/temurin-17-jdk-amd64/lib/server:/opt/R/4.5.0/lib/R/lib:/usr/local/lib:/usr/lib/x86_64-linux-gnu:/usr/lib/jvm/temurin-17-jdk-amd64/lib/server:/opt/hostedtoolcache/Python/3.10.17/x64/lib:/opt/hostedtoolcache/Python/3.10.17/x64/lib\"\n",
      "  warnings.warn(\n",
      "/opt/hostedtoolcache/Python/3.10.17/x64/lib/python3.10/site-packages/rpy2/rinterface/__init__.py:1211: UserWarning: Environment variable \"R_SESSION_TMPDIR\" redefined by R and overriding existing variable. Current: \"/tmp/Rtmp0AyRJK\", R: \"/tmp/RtmpeAKqm9\"\n",
      "  warnings.warn(\n"
     ]
    }
   ],
   "source": [
    "from functools import partial\n",
    "from rpy2.ipython import html\n",
    "html.html_rdataframe=partial(html.html_rdataframe, table_class=\"docutils\")"
   ]
  },
  {
   "cell_type": "markdown",
   "id": "57b6e237",
   "metadata": {},
   "source": [
    "# Introduction to rpy2\n",
    "\n",
    "This introduction aims at making a gentle start to rpy2,\n",
    "either when coming from R to Python/rpy2, from Python to rpy2/R,\n",
    "or from elsewhere to Python/rpy2/R."
   ]
  },
  {
   "cell_type": "markdown",
   "id": "4cad72e1",
   "metadata": {},
   "source": [
    "## Getting started\n",
    "\n",
    "It is assumed here that the rpy2 package has been properly installed.\n",
    "In python, making a package or module available is achieved by\n",
    "importing it. `rpy2` is just a python package. Most users will interact\n",
    "with R using the `robjects` layer, a high-level interface that tries\n",
    "to hide R behind a Python-like behavior."
   ]
  },
  {
   "cell_type": "code",
   "execution_count": 2,
   "id": "0611e525",
   "metadata": {
    "execution": {
     "iopub.execute_input": "2025-06-08T03:29:56.028907Z",
     "iopub.status.busy": "2025-06-08T03:29:56.028632Z",
     "iopub.status.idle": "2025-06-08T03:29:56.032490Z",
     "shell.execute_reply": "2025-06-08T03:29:56.031747Z"
    }
   },
   "outputs": [],
   "source": [
    "import rpy2.robjects as robjects"
   ]
  },
  {
   "cell_type": "markdown",
   "id": "eaf3c79f",
   "metadata": {},
   "source": [
    "## R packages\n",
    "\n",
    "R is  any data analysis toolbox because of the\n",
    "breadth and depth of the packages available.\n",
    "\n",
    "For this introduction, we use few popular R packages."
   ]
  },
  {
   "cell_type": "code",
   "execution_count": 3,
   "id": "6e3a4c92",
   "metadata": {
    "execution": {
     "iopub.execute_input": "2025-06-08T03:29:56.035324Z",
     "iopub.status.busy": "2025-06-08T03:29:56.034973Z",
     "iopub.status.idle": "2025-06-08T03:29:56.112849Z",
     "shell.execute_reply": "2025-06-08T03:29:56.112196Z"
    }
   },
   "outputs": [],
   "source": [
    "# R package names\n",
    "packnames = ('ggplot2', 'hexbin')\n",
    "\n",
    "# import rpy2's package module\n",
    "import rpy2.robjects.packages as rpackages\n",
    "\n",
    "if all(rpackages.isinstalled(x) for x in packnames):\n",
    "    have_tutorial_packages = True\n",
    "else:\n",
    "    have_tutorial_packages = False"
   ]
  },
  {
   "cell_type": "markdown",
   "id": "cbded0fd",
   "metadata": {},
   "source": [
    "Downloading and installing R packages is usually performed\n",
    "by fetching R packages\n",
    "from a package repository and installing them locally.\n",
    "We can get set with:"
   ]
  },
  {
   "cell_type": "code",
   "execution_count": 4,
   "id": "f8ef2a35",
   "metadata": {
    "execution": {
     "iopub.execute_input": "2025-06-08T03:29:56.115303Z",
     "iopub.status.busy": "2025-06-08T03:29:56.115076Z",
     "iopub.status.idle": "2025-06-08T03:29:56.118315Z",
     "shell.execute_reply": "2025-06-08T03:29:56.117774Z"
    }
   },
   "outputs": [],
   "source": [
    "if not have_tutorial_packages:\n",
    "    # import R's utility package\n",
    "    utils = rpackages.importr('utils')\n",
    "    # select a mirror for R packages\n",
    "    utils.chooseCRANmirror(ind=1) # select the first mirror in the list"
   ]
  },
  {
   "cell_type": "markdown",
   "id": "1242b871",
   "metadata": {},
   "source": [
    "We are now ready to install packages using R's own function `install.package`:"
   ]
  },
  {
   "cell_type": "code",
   "execution_count": 5,
   "id": "84c4ada8",
   "metadata": {
    "execution": {
     "iopub.execute_input": "2025-06-08T03:29:56.120257Z",
     "iopub.status.busy": "2025-06-08T03:29:56.120051Z",
     "iopub.status.idle": "2025-06-08T03:29:56.123647Z",
     "shell.execute_reply": "2025-06-08T03:29:56.122929Z"
    }
   },
   "outputs": [],
   "source": [
    "if not have_tutorial_packages:\n",
    "    # R vector of strings\n",
    "    from rpy2.robjects.vectors import StrVector\n",
    "    # file\n",
    "    packnames_to_install = [x for x in packnames if not rpackages.isinstalled(x)]\n",
    "    if len(packnames_to_install) > 0:\n",
    "        utils.install_packages(StrVector(packnames_to_install))"
   ]
  },
  {
   "cell_type": "markdown",
   "id": "f1441d11",
   "metadata": {},
   "source": [
    "The code above can be part of the Python you distribute if you are relying\n",
    "on packages not distributed with\n",
    "R by default.\n",
    "\n",
    "More documentation about the handling of R packages in `rpy2` can be found Section :ref:`robjects-packages`."
   ]
  },
  {
   "cell_type": "markdown",
   "id": "0c9a361f",
   "metadata": {},
   "source": [
    "## The `r` instance"
   ]
  },
  {
   "cell_type": "markdown",
   "id": "104fe6ca",
   "metadata": {},
   "source": [
    "The object `r` in `rpy2.robjects` represents the embedded\n",
    "`R` process.\n",
    "\n",
    "If familiar with R and the R console, `r` is a little like a\n",
    "communication channel from Python to R."
   ]
  },
  {
   "cell_type": "markdown",
   "id": "da13e0b3",
   "metadata": {},
   "source": [
    "### Getting R objects\n",
    "\n",
    "In Python the `[` operator is an alias for the  ethod :meth:`__getitem__`.\n",
    "\n",
    "The :meth:`__getitem__` method of :mod:`rpy2.robjects.r`,\n",
    "evaluates a variable from the R console.\n",
    "\n",
    "Example in R:"
   ]
  },
  {
   "cell_type": "code",
   "execution_count": 6,
   "id": "408c72ba",
   "metadata": {
    "execution": {
     "iopub.execute_input": "2025-06-08T03:29:56.125956Z",
     "iopub.status.busy": "2025-06-08T03:29:56.125462Z",
     "iopub.status.idle": "2025-06-08T03:29:56.129128Z",
     "shell.execute_reply": "2025-06-08T03:29:56.128451Z"
    }
   },
   "outputs": [],
   "source": [
    "%load_ext rpy2.ipython"
   ]
  },
  {
   "cell_type": "markdown",
   "id": "46f28f6a",
   "metadata": {},
   "source": [
    "```r\n",
    "pi\n",
    "```\n",
    "\n",
    "With :mod:`rpy2`:"
   ]
  },
  {
   "cell_type": "code",
   "execution_count": 7,
   "id": "fd52cfe2",
   "metadata": {
    "execution": {
     "iopub.execute_input": "2025-06-08T03:29:56.130946Z",
     "iopub.status.busy": "2025-06-08T03:29:56.130764Z",
     "iopub.status.idle": "2025-06-08T03:29:56.137758Z",
     "shell.execute_reply": "2025-06-08T03:29:56.137196Z"
    }
   },
   "outputs": [
    {
     "data": {
      "text/plain": [
       "3.141592653589793"
      ]
     },
     "execution_count": 7,
     "metadata": {},
     "output_type": "execute_result"
    }
   ],
   "source": [
    "pi = robjects.r['pi']\n",
    "pi[0]"
   ]
  },
  {
   "cell_type": "markdown",
   "id": "06d57ab4",
   "metadata": {},
   "source": [
    "<div style=\"border: solid 1px rgb(50,50,50)\">\n",
    "<p>\n",
    "   Under the hood, the variable `pi` is gotten by default from the\n",
    "   R *base* package, unless an other variable with the name `pi` was\n",
    "   created in R's `.globalEnv`. \n",
    "</p>\n",
    "<p>\n",
    "   Whenever one wishes to be specific about where the symbol\n",
    "   should be looked for (which should be most of the time),\n",
    "   it possible to wrap R packages in Python namespace objects\n",
    "   (see Section `robjects-packages`).\n",
    "</p>\n",
    "<p>\n",
    "   For more details on environments, see Section \n",
    "   `robjects-environments`.\n",
    "</p>\n",
    "<p>\n",
    "   Also, note that *pi* is not a scalar but a vector of length 1.\n",
    "</p>\n",
    "</div>\n",
    "\n",
    "### Evaluating R code\n",
    "\n",
    "The `r` object is also callable, and the string passed to it evaluated\n",
    "as `R` code.\n",
    "\n",
    "This can be used to `get` variables, and provide an alternative to\n",
    "the method presented above.\n",
    "\n",
    "Example in R:\n",
    "\n",
    "```r\n",
    "pi\n",
    "```\n",
    "\n",
    "With `rpy2`:"
   ]
  },
  {
   "cell_type": "code",
   "execution_count": 8,
   "id": "b03cc066",
   "metadata": {
    "execution": {
     "iopub.execute_input": "2025-06-08T03:29:56.139576Z",
     "iopub.status.busy": "2025-06-08T03:29:56.139365Z",
     "iopub.status.idle": "2025-06-08T03:29:56.150975Z",
     "shell.execute_reply": "2025-06-08T03:29:56.150309Z"
    }
   },
   "outputs": [
    {
     "name": "stderr",
     "output_type": "stream",
     "text": [
      "R callback write-console: In addition:   \n"
     ]
    },
    {
     "name": "stderr",
     "output_type": "stream",
     "text": [
      "R callback write-console: Warning messages:\n",
      "  \n"
     ]
    },
    {
     "name": "stderr",
     "output_type": "stream",
     "text": [
      "R callback write-console: 1:   \n"
     ]
    },
    {
     "name": "stderr",
     "output_type": "stream",
     "text": [
      "R callback write-console: In (function (package, help, pos = 2, lib.loc = NULL, character.only = FALSE,  :  \n"
     ]
    },
    {
     "name": "stderr",
     "output_type": "stream",
     "text": [
      "R callback write-console: \n",
      "   \n"
     ]
    },
    {
     "name": "stderr",
     "output_type": "stream",
     "text": [
      "R callback write-console:  library ‘/home/runner/work/_temp/Library’ contains no packages\n",
      "  \n"
     ]
    },
    {
     "name": "stderr",
     "output_type": "stream",
     "text": [
      "R callback write-console: 2:   \n"
     ]
    },
    {
     "name": "stderr",
     "output_type": "stream",
     "text": [
      "R callback write-console: In (function (package, help, pos = 2, lib.loc = NULL, character.only = FALSE,  :  \n"
     ]
    },
    {
     "name": "stderr",
     "output_type": "stream",
     "text": [
      "R callback write-console: \n",
      "   \n"
     ]
    },
    {
     "name": "stderr",
     "output_type": "stream",
     "text": [
      "R callback write-console:  library ‘/home/runner/work/_temp/Library’ contains no packages\n",
      "  \n"
     ]
    },
    {
     "data": {
      "text/plain": [
       "3.141592653589793"
      ]
     },
     "execution_count": 8,
     "metadata": {},
     "output_type": "execute_result"
    }
   ],
   "source": [
    "pi = robjects.r('pi')\n",
    "pi[0]"
   ]
  },
  {
   "cell_type": "markdown",
   "id": "e54a91fe",
   "metadata": {},
   "source": [
    "<div style=\"border: solid 1px rgb(50,50,50)\">\n",
    "\n",
    "   The result is an R vector. The Section\n",
    "   `introduction-vectors` will provide an explanation\n",
    "   for the following behavior:\n",
    "\n",
    "</div>"
   ]
  },
  {
   "cell_type": "code",
   "execution_count": 9,
   "id": "0aaaa8e8",
   "metadata": {
    "execution": {
     "iopub.execute_input": "2025-06-08T03:29:56.152814Z",
     "iopub.status.busy": "2025-06-08T03:29:56.152630Z",
     "iopub.status.idle": "2025-06-08T03:29:56.158067Z",
     "shell.execute_reply": "2025-06-08T03:29:56.157477Z"
    }
   },
   "outputs": [
    {
     "name": "stdout",
     "output_type": "stream",
     "text": [
      "c(3.14159265358979, 2)\n",
      "5.141592653589793\n"
     ]
    }
   ],
   "source": [
    "piplus2 = robjects.r('pi') + 2\n",
    "print(piplus2.r_repr())\n",
    "pi0plus2 = robjects.r('pi')[0] + 2\n",
    "print(pi0plus2)"
   ]
  },
  {
   "cell_type": "markdown",
   "id": "0815821b",
   "metadata": {},
   "source": [
    "The evaluation is performed in what is known to R users as the \n",
    "`Global Environment`, that is the place one starts at when starting\n",
    "the R console. Whenever the `R` code creates variables, those\n",
    "variables are \"located\" in that `Global Environment` by default."
   ]
  },
  {
   "cell_type": "markdown",
   "id": "2b925ffd",
   "metadata": {},
   "source": [
    "Example:"
   ]
  },
  {
   "cell_type": "code",
   "execution_count": 10,
   "id": "1a306436",
   "metadata": {
    "execution": {
     "iopub.execute_input": "2025-06-08T03:29:56.159951Z",
     "iopub.status.busy": "2025-06-08T03:29:56.159766Z",
     "iopub.status.idle": "2025-06-08T03:29:56.165201Z",
     "shell.execute_reply": "2025-06-08T03:29:56.164668Z"
    }
   },
   "outputs": [
    {
     "data": {
      "text/html": [
       "\n",
       "        <span>FloatVector with 1 elements.</span>\n",
       "        <table>\n",
       "        <tbody>\n",
       "          <tr>\n",
       "          \n",
       "            <td>\n",
       "            18.849556\n",
       "            </td>\n",
       "          \n",
       "          </tr>\n",
       "        </tbody>\n",
       "        </table>\n",
       "        "
      ],
      "text/plain": [
       "<rpy2.robjects.vectors.FloatVector object at 0x7fee3aea9e40> [RTYPES.REALSXP]\n",
       "R classes: ('numeric',)\n",
       "[18.849556]"
      ]
     },
     "execution_count": 10,
     "metadata": {},
     "output_type": "execute_result"
    }
   ],
   "source": [
    "robjects.r('''\n",
    "\tf <- function(r, verbose=FALSE) {\n",
    "        if (verbose) {\n",
    "            cat(\"I am calling f().\\n\")\n",
    "        }\n",
    "        2 * pi * r \n",
    "        }\n",
    "        f(3)\n",
    "''')"
   ]
  },
  {
   "cell_type": "markdown",
   "id": "8e5b6c42",
   "metadata": {},
   "source": [
    "The expression above returns the value 18.85, \n",
    "but first creates an R function `f`. \n",
    "That function `f` is present in the R `Global Environement`, and can\n",
    "be accessed with the `__getitem__` mechanism outlined above:"
   ]
  },
  {
   "cell_type": "code",
   "execution_count": 11,
   "id": "8a6aee5b",
   "metadata": {
    "execution": {
     "iopub.execute_input": "2025-06-08T03:29:56.167148Z",
     "iopub.status.busy": "2025-06-08T03:29:56.166963Z",
     "iopub.status.idle": "2025-06-08T03:29:56.171378Z",
     "shell.execute_reply": "2025-06-08T03:29:56.170843Z"
    }
   },
   "outputs": [
    {
     "name": "stdout",
     "output_type": "stream",
     "text": [
      "function (r, verbose = FALSE) \n",
      "{\n",
      "    if (verbose) {\n",
      "        cat(\"I am calling f().\\n\")\n",
      "    }\n",
      "    2 * pi * r\n",
      "}\n"
     ]
    }
   ],
   "source": [
    "r_f = robjects.globalenv['f']\n",
    "print(r_f.r_repr())"
   ]
  },
  {
   "cell_type": "markdown",
   "id": "d55ee9c8",
   "metadata": {},
   "source": [
    "<div style=\"border: solid 1px rgb(50,50,50)\">\n",
    "\n",
    "   As shown earlier, an alternative way to get the function\n",
    "   is to get it from the :class:`R` singleton\n",
    "\n",
    "   ```\n",
    "   >>> r_f = robjects.r['f']\n",
    "   ```\n",
    "\n",
    "</div>\n",
    "\n",
    "The function r_f is callable, and can be used like a regular Python function."
   ]
  },
  {
   "cell_type": "code",
   "execution_count": 12,
   "id": "470b68fe",
   "metadata": {
    "execution": {
     "iopub.execute_input": "2025-06-08T03:29:56.173373Z",
     "iopub.status.busy": "2025-06-08T03:29:56.173186Z",
     "iopub.status.idle": "2025-06-08T03:29:56.190591Z",
     "shell.execute_reply": "2025-06-08T03:29:56.189730Z"
    }
   },
   "outputs": [],
   "source": [
    "res = r_f(3)"
   ]
  },
  {
   "cell_type": "markdown",
   "id": "a83dd2e5",
   "metadata": {},
   "source": [
    "Jump to Section :ref:`robjects-introduction-functions` for more on calling\n",
    "functions."
   ]
  },
  {
   "cell_type": "markdown",
   "id": "008f4aa8",
   "metadata": {},
   "source": [
    "### Interpolating R objects into R code strings\n",
    "\n",
    "Against the first impression one may get from the title\n",
    "of this section, simple and handy features of :mod:`rpy2` are\n",
    "presented here.\n",
    "\n",
    "An R object has a string representation that can be used\n",
    "directly into R code to be evaluated.\n",
    "\n",
    "Simple example:"
   ]
  },
  {
   "cell_type": "code",
   "execution_count": 13,
   "id": "31109550",
   "metadata": {
    "execution": {
     "iopub.execute_input": "2025-06-08T03:29:56.193139Z",
     "iopub.status.busy": "2025-06-08T03:29:56.192934Z",
     "iopub.status.idle": "2025-06-08T03:29:56.202587Z",
     "shell.execute_reply": "2025-06-08T03:29:56.201336Z"
    }
   },
   "outputs": [
    {
     "name": "stdout",
     "output_type": "stream",
     "text": [
      "[1] \"a-b-c-d-e-f-g-h-i-j-k-l-m-n-o-p-q-r-s-t-u-v-w-x-y-z\"\n",
      "\n"
     ]
    }
   ],
   "source": [
    "letters = robjects.r['letters']\n",
    "rcode = 'paste(%s, collapse=\"-\")' %(letters.r_repr())\n",
    "res = robjects.r(rcode)\n",
    "print(res)"
   ]
  },
  {
   "cell_type": "markdown",
   "id": "5d51adf3",
   "metadata": {},
   "source": [
    ".. _introduction-vectors:\n",
    "\n",
    "R vectors\n",
    "=========\n",
    "\n",
    "In `R`, data are mostly represented by vectors, even when looking\n",
    "like scalars.\n",
    "\n",
    "When looking closely at the R object `pi` used previously,\n",
    "we can observe that this is in fact a vector of length 1.\n",
    "\n",
    ">>> len(robjects.r['pi'])\n",
    "1\n",
    "\n",
    "As such, the python method :meth:`add` will result in a concatenation\n",
    "(function `c()` in R), as this is the case for regular python lists.\n",
    "\n",
    "Accessing the one value in that vector has to be stated\n",
    "explicitly:\n",
    "\n",
    ">>> robjects.r['pi'][0]\n",
    "3.1415926535897931\n",
    "\n",
    "There is much that can be achieved with vectors, having them to behave\n",
    "more like Python lists or R vectors.\n",
    "A comprehensive description of the behavior of vectors is found in\n",
    ":mod:`robjects.vector`.\n",
    "\n",
    "Creating rpy2 vectors\n",
    "---------------------\n",
    "\n",
    "Creating R vectors can be achieved simply:\n",
    "\n",
    ">>> res = robjects.StrVector(['abc', 'def'])\n",
    ">>> print(res.r_repr())\n",
    "c(\"abc\", \"def\")\n",
    ">>> res = robjects.IntVector([1, 2, 3])\n",
    ">>> print(res.r_repr())\n",
    "1:3\n",
    ">>> res = robjects.FloatVector([1.1, 2.2, 3.3])\n",
    ">>> print(res.r_repr())\n",
    "c(1.1, 2.2, 3.3)\n",
    "\n",
    "R matrixes and arrays are just vectors with a `dim` attribute.\n",
    "\n",
    "The easiest way to create such objects is to do it through\n",
    "R functions:\n",
    "\n",
    ">>> v = robjects.FloatVector([1.1, 2.2, 3.3, 4.4, 5.5, 6.6])\n",
    ">>> m = robjects.r['matrix'](v, nrow = 2)\n",
    ">>> print(m)\n",
    "     [,1] [,2] [,3]\n",
    "[1,]  1.1  3.3  5.5\n",
    "[2,]  2.2  4.4  6.6"
   ]
  },
  {
   "cell_type": "markdown",
   "id": "9b7d1b9a",
   "metadata": {},
   "source": [
    ".. _robjects-introduction-functions:\n",
    "\n",
    "Calling R functions\n",
    "===================\n",
    "\n",
    "Calling R functions is disappointingly similar to calling\n",
    "Python functions:\n",
    "\n",
    ">>> rsum = robjects.r['sum']\n",
    ">>> rsum(robjects.IntVector([1,2,3]))[0]\n",
    "6L\n",
    "\n",
    "Keywords are also working:\n",
    "\n",
    ">>> rsort = robjects.r['sort']\n",
    ">>> res = rsort(robjects.IntVector([1,2,3]), decreasing=True)\n",
    ">>> print(res.r_repr())\n",
    "c(3L, 2L, 1L)"
   ]
  },
  {
   "cell_type": "markdown",
   "id": "a556ed1f",
   "metadata": {},
   "source": [
    ".. note::\n",
    "\n",
    "   By default, calling R functions returns R objects."
   ]
  },
  {
   "cell_type": "markdown",
   "id": "54470d2c",
   "metadata": {},
   "source": [
    "More information on functions is in Section :ref:`robjects-functions`."
   ]
  },
  {
   "cell_type": "markdown",
   "id": "cd75e136",
   "metadata": {},
   "source": [
    "Getting help\n",
    "============\n",
    "\n",
    "R has a builtin help system that, just like the pydoc strings are used frequently\n",
    "in python during interactive sessions, is used very frequently by R programmmers.\n",
    "This help system is accessible from an R function, therefore accessible from rpy2.\n",
    "\n",
    "Help on a topic within a given package, or currently loaded packages\n",
    "---------------------------------------------------------------------\n",
    "\n",
    ">>> from rpy2.robjects.packages import importr\n",
    ">>> utils = importr(\"utils\") \n",
    ">>> help_doc = utils.help(\"help\")\n",
    ">>> help_doc[0]\n",
    "'/where/R/is/installed/library/utils/help/help'\n",
    "\n",
    "Converting the object returned to a string produces the full help text\n",
    "on the topic:\n",
    "\n",
    ">>> str(help_doc)\n",
    "[...long output...]\n",
    "\n",
    ".. warning::\n",
    "\n",
    "   The help message so produced is not a string returned to the console\n",
    "   but is directly printed by R to the standard output. The call to\n",
    "   :func:`str` only returns an empty string, and the reason for this is\n",
    "   somewhat involved for an introductory documentation.\n",
    "   This behaviour is rooted in :program:`R` itself and in :mod:`rpy2` the\n",
    "   string representation of R objects is the string representation as\n",
    "   given by the :program:`R` console,\n",
    "   which in that case takes a singular route.\n",
    "\n",
    "   For a Python friendly help to the R help system, consider the module\n",
    "   :mod:`rpy2.robjects.help`."
   ]
  },
  {
   "cell_type": "markdown",
   "id": "13f115c1",
   "metadata": {},
   "source": [
    "Locate topics among available packages\n",
    "--------------------------------------\n",
    "\n",
    ">>> help_where = utils.help_search(\"help\")\n",
    "\n",
    "As before with `help`, the result can be printed / converted to a string,\n",
    "giving a similar result to what is obtained from an R session.\n",
    "\n",
    ".. note::\n",
    "\n",
    "   The data structure returned can otherwise be used to access the information\n",
    "   returned in details.\n",
    "\n",
    "   >>> tuple(help_where)\n",
    "   (<StrVector - Python:0x1f9a968 / R:0x247f908>,\n",
    "    <StrVector - Python:0x1f9a990 / R:0x25079d0>,\n",
    "    <StrVector - Python:0x1f9a9b8 / R:0x247f928>,\n",
    "    <Matrix - Python:0x1f9a850 / R:0x1ec0390>)\n",
    "   >>> tuple(help_where[3].colnames)\n",
    "   ('topic', 'title', 'Package', 'LibPath')\n",
    "\n",
    "   However, this is beyond the scope of an introduction, and one should\n",
    "   master the content of the module :mod:`robjects.vector` before anything else."
   ]
  },
  {
   "cell_type": "markdown",
   "id": "57162c26",
   "metadata": {},
   "source": [
    "Examples\n",
    "========\n",
    "\n",
    "This section demonstrates some of the features of\n",
    "rpy2."
   ]
  },
  {
   "cell_type": "markdown",
   "id": "1e36e424",
   "metadata": {},
   "source": [
    "Graphics and plots\n",
    "------------------\n",
    "\n",
    ".. code-block:: python\n",
    "\n",
    "  import rpy2.robjects as robjects\n",
    "\n",
    "  r = robjects.r\n",
    "\n",
    "  x = robjects.IntVector(range(10))\n",
    "  y = r.rnorm(10)\n",
    "\n",
    "  r.X11()\n",
    "\n",
    "  r.layout(r.matrix(robjects.IntVector([1,2,3,2]), nrow=2, ncol=2))\n",
    "  r.plot(r.runif(10), y, xlab=\"runif\", ylab=\"foo/bar\", col=\"red\")\n",
    "\n",
    "Setting dynamically the number of arguments in a function call can be\n",
    "done the usual way in python.\n",
    "\n",
    "There are several ways to plot data in `R`, some of which are\n",
    "presented in this documentation:\n",
    "\n",
    "The general setup is repeated here:\n",
    "\n",
    ".. literalinclude:: _static/demos/graphics.py\n",
    "   :start-after: #-- setup-begin\n",
    "   :end-before: #-- setup-end\n",
    "\n",
    "The setup specific to ggplot2 is:\n",
    "\n",
    ".. literalinclude:: _static/demos/graphics.py\n",
    "   :start-after: #-- setupggplot2-begin\n",
    "   :end-before: #-- setupggplot2-end\n",
    "\n",
    ".. literalinclude:: _static/demos/graphics.py\n",
    "   :start-after: #-- ggplot2smoothbycylwithcolours-begin\n",
    "   :end-before: #-- ggplot2smoothbycylwithcolours-end"
   ]
  },
  {
   "cell_type": "markdown",
   "id": "c4b1a798",
   "metadata": {},
   "source": [
    ".. image:: _static/graphics_ggplot2_smoothbycylwithcolours.png\n",
    "   :scale: 50\n",
    "\n",
    "More about plots and graphics in R, as well as more advanced\n",
    "plots are presented in Section :ref:`graphics`.\n",
    "\n",
    ".. warning::\n",
    "\n",
    "   By default, the embedded R open an interactive plotting device,\n",
    "   that is a window in which the plot is located.\n",
    "   Processing interactive events on that devices, such as resizing or closing\n",
    "   the window must be explicitly required\n",
    "   (see Section :ref:`rinterface-interactive-processevents`).\n",
    "\n",
    "Linear models\n",
    "-------------\n",
    "\n",
    "The R code is:\n",
    "\n",
    ".. code-block:: r\n",
    "\n",
    "   ctl <- c(4.17,5.58,5.18,6.11,4.50,4.61,5.17,4.53,5.33,5.14)\n",
    "   trt <- c(4.81,4.17,4.41,3.59,5.87,3.83,6.03,4.89,4.32,4.69)\n",
    "   group <- gl(2, 10, 20, labels = c(\"Ctl\",\"Trt\"))\n",
    "   weight <- c(ctl, trt)\n",
    "\n",
    "   anova(lm.D9 <- lm(weight ~ group))\n",
    "\n",
    "   summary(lm.D90 <- lm(weight ~ group - 1))# omitting intercept\n",
    "\n",
    "One way to achieve the same with :mod:`rpy2.robjects` is\n",
    "\n",
    ".. code-block:: python\n",
    "\n",
    "   from rpy2.robjects import FloatVector\n",
    "   from rpy2.robjects.packages import importr\n",
    "   stats = importr('stats')\n",
    "   base = importr('base')\n",
    "\n",
    "   ctl = FloatVector([4.17,5.58,5.18,6.11,4.50,4.61,5.17,4.53,5.33,5.14])\n",
    "   trt = FloatVector([4.81,4.17,4.41,3.59,5.87,3.83,6.03,4.89,4.32,4.69])\n",
    "   group = base.gl(2, 10, 20, labels = [\"Ctl\",\"Trt\"])\n",
    "   weight = ctl + trt\n",
    "\n",
    "   robjects.globalenv[\"weight\"] = weight\n",
    "   robjects.globalenv[\"group\"] = group\n",
    "   lm_D9 = stats.lm(\"weight ~ group\")\n",
    "   print(stats.anova(lm_D9))\n",
    "\n",
    "   # omitting the intercept\n",
    "   lm_D90 = stats.lm(\"weight ~ group - 1\")\n",
    "   print(base.summary(lm_D90))\n",
    "\n",
    "This way to perform a linear fit it matching precisely the way in R presented\n",
    "above, but there are other ways (see Section :ref:`robjects-formula`\n",
    "for storing the variables directly in the lookup environment of the formula).\n",
    "\n",
    "Q: Now how to extract data from the resulting objects ?\n",
    "\n",
    "A: Well, it all depends on the object. R is very much designed\n",
    "for interactive sessions, and users often inspect what a\n",
    "function is returning in order to know how to extract information.\n",
    "\n",
    "When taking the results from the code above, one could go like:\n",
    "\n",
    ">>> print(lm_D9.rclass)\n",
    "[1] \"lm\" \n",
    "\n",
    "Here the resulting object is a list structure, as either inspecting\n",
    "the data structure or reading the R man pages for `lm` would tell us.\n",
    "Checking its element names is then trivial:\n",
    "\n",
    ">>> print(lm_D9.names)\n",
    " [1] \"coefficients\"  \"residuals\"     \"effects\"       \"rank\"         \n",
    " [5] \"fitted.values\" \"assign\"        \"qr\"            \"df.residual\"  \n",
    " [9] \"contrasts\"     \"xlevels\"       \"call\"          \"terms\"        \n",
    "[13] \"model\" \n",
    "\n",
    "And so is extracting a particular element:\n",
    "\n",
    ">>> print(lm_D9.rx2('coefficients'))\n",
    "(Intercept)    groupTrt \n",
    "      5.032      -0.371 \n",
    "\n",
    "or \n",
    "\n",
    ">>> print(lm_D9.rx('coefficients'))\n",
    "$coefficients\n",
    "(Intercept)    groupTrt \n",
    "      5.032      -0.371 \n",
    "\n",
    "More about extracting elements from vectors is available\n",
    "at :ref:`robjects-extracting`.\n"
   ]
  },
  {
   "cell_type": "markdown",
   "id": "aa0bbe39",
   "metadata": {},
   "source": [
    "Principal component analysis\n",
    "----------------------------\n",
    "\n",
    "The R code is\n",
    "\n",
    ".. code-block:: r\n",
    "\n",
    "  m <- matrix(rnorm(100), ncol=5)\n",
    "  pca <- princomp(m)\n",
    "  plot(pca, main=\"Eigen values\")\n",
    "  biplot(pca, main=\"biplot\")\n",
    "\n",
    "The :mod:`rpy2.robjects` code can be as close to the\n",
    "R code as possible:\n",
    "\n",
    ".. testcode::\n",
    "\n",
    "  import rpy2.robjects as robjects\n",
    "\n",
    "  r = robjects.r\n",
    "\n",
    "  m = r.matrix(r.rnorm(100), ncol=5)\n",
    "  pca = r.princomp(m)\n",
    "  r.plot(pca, main=\"Eigen values\")\n",
    "  r.biplot(pca, main=\"biplot\")\n",
    "\n",
    "However, the same example can be made a little tidier\n",
    "(with respect to being specific about R functions used)\n",
    "\n",
    ".. testcode::\n",
    "\n",
    "   from rpy2.robjects.packages import importr\n",
    "\n",
    "   base     = importr('base')\n",
    "   stats    = importr('stats')\n",
    "   graphics = importr('graphics')\n",
    "\n",
    "   m = base.matrix(stats.rnorm(100), ncol = 5)\n",
    "   pca = stats.princomp(m)\n",
    "   graphics.plot(pca, main = \"Eigen values\")\n",
    "   stats.biplot(pca, main = \"biplot\") \n"
   ]
  },
  {
   "cell_type": "markdown",
   "id": "3301a284",
   "metadata": {},
   "source": [
    "Creating an R vector or matrix, and filling its cells using Python code\n",
    "-----------------------------------------------------------------------\n",
    "\n",
    ".. testcode::\n",
    "\n",
    "   from rpy2.robjects import NA_Real\n",
    "   from rpy2.rlike.container import TaggedList\n",
    "   from rpy2.robjects.packages import importr\n",
    "\n",
    "   base = importr('base')\n",
    "\n",
    "   # create a numerical matrix of size 100x10 filled with NAs \n",
    "   m = base.matrix(NA_Real, nrow=100, ncol=10)\n",
    "\n",
    "   # fill the matrix\n",
    "   for row_i in xrange(1, 100+1):\n",
    "       for col_i in xrange(1, 10+1):\n",
    "           m.rx[TaggedList((row_i, ), (col_i, ))] = row_i + col_i * 100\n",
    "\n",
    ".. testoutput::\n",
    "\n",
    "   None\n",
    "\n",
    "One more example\n",
    "----------------\n",
    "\n",
    ".. literalinclude:: _static/demos/example01.py\n"
   ]
  }
 ],
 "metadata": {
  "jupytext": {
   "cell_metadata_filter": "-all"
  },
  "kernelspec": {
   "display_name": "Python 3 (ipykernel)",
   "language": "python",
   "name": "python3"
  },
  "language_info": {
   "codemirror_mode": {
    "name": "ipython",
    "version": 3
   },
   "file_extension": ".py",
   "mimetype": "text/x-python",
   "name": "python",
   "nbconvert_exporter": "python",
   "pygments_lexer": "ipython3",
   "version": "3.10.17"
  }
 },
 "nbformat": 4,
 "nbformat_minor": 5
}

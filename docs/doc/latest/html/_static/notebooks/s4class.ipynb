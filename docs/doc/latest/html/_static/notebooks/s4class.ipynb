{
 "cells": [
  {
   "cell_type": "code",
   "execution_count": 1,
   "id": "daf7b171",
   "metadata": {
    "execution": {
     "iopub.execute_input": "2023-05-20T16:09:07.989071Z",
     "iopub.status.busy": "2023-05-20T16:09:07.988844Z",
     "iopub.status.idle": "2023-05-20T16:09:08.874681Z",
     "shell.execute_reply": "2023-05-20T16:09:08.873193Z"
    }
   },
   "outputs": [],
   "source": [
    "from functools import partial\n",
    "from rpy2.ipython import html\n",
    "html.html_rdataframe=partial(html.html_rdataframe, table_class=\"docutils\")"
   ]
  },
  {
   "cell_type": "markdown",
   "id": "c059b2ec",
   "metadata": {},
   "source": [
    "# Basic handling\n",
    "\n",
    "The S4 system is one the OOP systems in R.\n",
    "Its largest use might be in the Bioconductor collection of packages\n",
    "for bioinformatics and computational biology.\n",
    "\n",
    "We use the bioconductor `Biobase`:"
   ]
  },
  {
   "cell_type": "code",
   "execution_count": 2,
   "id": "fdc063d9",
   "metadata": {
    "execution": {
     "iopub.execute_input": "2023-05-20T16:09:08.879473Z",
     "iopub.status.busy": "2023-05-20T16:09:08.878115Z",
     "iopub.status.idle": "2023-05-20T16:09:09.308579Z",
     "shell.execute_reply": "2023-05-20T16:09:09.307924Z"
    }
   },
   "outputs": [],
   "source": [
    "from rpy2.robjects.packages import importr\n",
    "biobase = importr('Biobase')"
   ]
  },
  {
   "cell_type": "markdown",
   "id": "20517a1f",
   "metadata": {},
   "source": [
    "The R package contains constructors for the S4 classes defined. They\n",
    "are simply functions, and can be used as such through `rpy2`:"
   ]
  },
  {
   "cell_type": "code",
   "execution_count": 3,
   "id": "9e57f69e",
   "metadata": {
    "execution": {
     "iopub.execute_input": "2023-05-20T16:09:09.311974Z",
     "iopub.status.busy": "2023-05-20T16:09:09.311497Z",
     "iopub.status.idle": "2023-05-20T16:09:09.384421Z",
     "shell.execute_reply": "2023-05-20T16:09:09.383750Z"
    }
   },
   "outputs": [],
   "source": [
    "eset = biobase.ExpressionSet() "
   ]
  },
  {
   "cell_type": "markdown",
   "id": "26ecc9c6",
   "metadata": {},
   "source": [
    "The object `eset` is an R object of type `S4`:"
   ]
  },
  {
   "cell_type": "code",
   "execution_count": 4,
   "id": "0562c46a",
   "metadata": {
    "execution": {
     "iopub.execute_input": "2023-05-20T16:09:09.387730Z",
     "iopub.status.busy": "2023-05-20T16:09:09.387146Z",
     "iopub.status.idle": "2023-05-20T16:09:09.394245Z",
     "shell.execute_reply": "2023-05-20T16:09:09.393611Z"
    }
   },
   "outputs": [
    {
     "data": {
      "text/plain": [
       "rpy2.robjects.methods.RS4"
      ]
     },
     "execution_count": 4,
     "metadata": {},
     "output_type": "execute_result"
    }
   ],
   "source": [
    "type(eset)"
   ]
  },
  {
   "cell_type": "markdown",
   "id": "7826397c",
   "metadata": {},
   "source": [
    "It has a class as well:"
   ]
  },
  {
   "cell_type": "code",
   "execution_count": 5,
   "id": "b987f55a",
   "metadata": {
    "execution": {
     "iopub.execute_input": "2023-05-20T16:09:09.398074Z",
     "iopub.status.busy": "2023-05-20T16:09:09.397856Z",
     "iopub.status.idle": "2023-05-20T16:09:09.402105Z",
     "shell.execute_reply": "2023-05-20T16:09:09.401491Z"
    }
   },
   "outputs": [
    {
     "data": {
      "text/plain": [
       "('ExpressionSet',)"
      ]
     },
     "execution_count": 5,
     "metadata": {},
     "output_type": "execute_result"
    }
   ],
   "source": [
    "tuple(eset.rclass)"
   ]
  },
  {
   "cell_type": "markdown",
   "id": "f3b68fd3",
   "metadata": {},
   "source": [
    "In R, objects attributes are also known as slots. The attribute names\n",
    "can be listed with:"
   ]
  },
  {
   "cell_type": "code",
   "execution_count": 6,
   "id": "a6f84d31",
   "metadata": {
    "execution": {
     "iopub.execute_input": "2023-05-20T16:09:09.405390Z",
     "iopub.status.busy": "2023-05-20T16:09:09.405181Z",
     "iopub.status.idle": "2023-05-20T16:09:09.409778Z",
     "shell.execute_reply": "2023-05-20T16:09:09.409153Z"
    }
   },
   "outputs": [
    {
     "data": {
      "text/plain": [
       "('experimentData',\n",
       " 'assayData',\n",
       " 'phenoData',\n",
       " 'featureData',\n",
       " 'annotation',\n",
       " 'protocolData',\n",
       " '.__classVersion__')"
      ]
     },
     "execution_count": 6,
     "metadata": {},
     "output_type": "execute_result"
    }
   ],
   "source": [
    "tuple(eset.slotnames())"
   ]
  },
  {
   "cell_type": "markdown",
   "id": "e18de147",
   "metadata": {},
   "source": [
    "The attributes can also be accessed through the `rpy2` property `slots`.\n",
    "`slots` is a mapping between attributes names (keys) and their associated\n",
    "R object (values). It can be used as Python `dict`:"
   ]
  },
  {
   "cell_type": "code",
   "execution_count": 7,
   "id": "49c36007",
   "metadata": {
    "execution": {
     "iopub.execute_input": "2023-05-20T16:09:09.412523Z",
     "iopub.status.busy": "2023-05-20T16:09:09.412307Z",
     "iopub.status.idle": "2023-05-20T16:09:09.417909Z",
     "shell.execute_reply": "2023-05-20T16:09:09.417261Z"
    }
   },
   "outputs": [
    {
     "name": "stdout",
     "output_type": "stream",
     "text": [
      "('.__classVersion__', 'experimentData', 'assayData', 'phenoData', 'featureData', 'annotation', 'protocolData', 'class')\n"
     ]
    }
   ],
   "source": [
    "# print keys\n",
    "print(tuple(eset.slots.keys()))\n",
    "\n",
    "# fetch `phenoData`\n",
    "phdat = eset.slots['phenoData']\n",
    "\n",
    "# phdat is an S4 object itself\n",
    "pheno_dataf = phdat.slots['data']"
   ]
  },
  {
   "cell_type": "markdown",
   "id": "bee7d807",
   "metadata": {},
   "source": [
    "# Mapping S4 classes to Python classes\n",
    "\n",
    "Writing one's own Python class extending rpy2's `RS4` is straightforward.\n",
    "That class can be used wrap our `eset` object"
   ]
  },
  {
   "cell_type": "code",
   "execution_count": 8,
   "id": "c1dd0203",
   "metadata": {
    "execution": {
     "iopub.execute_input": "2023-05-20T16:09:09.420474Z",
     "iopub.status.busy": "2023-05-20T16:09:09.420267Z",
     "iopub.status.idle": "2023-05-20T16:09:09.423680Z",
     "shell.execute_reply": "2023-05-20T16:09:09.423024Z"
    }
   },
   "outputs": [],
   "source": [
    "\n",
    "from rpy2.robjects.methods import RS4   \n",
    "class ExpressionSet(RS4):\n",
    "    pass\n",
    "\n",
    "eset_myclass = ExpressionSet(eset)"
   ]
  },
  {
   "cell_type": "markdown",
   "id": "3af55067",
   "metadata": {},
   "source": [
    "## Custom conversion\n",
    "\n",
    "The conversion system can also be made aware our new class by customizing\n",
    "the handling of S4 objects.\n",
    "\n",
    "A simple implementation is a factory function that will conditionally wrap\n",
    "the object in our Python class `ExpressionSet`:"
   ]
  },
  {
   "cell_type": "code",
   "execution_count": 9,
   "id": "5609cfcf",
   "metadata": {
    "execution": {
     "iopub.execute_input": "2023-05-20T16:09:09.426331Z",
     "iopub.status.busy": "2023-05-20T16:09:09.425984Z",
     "iopub.status.idle": "2023-05-20T16:09:09.431322Z",
     "shell.execute_reply": "2023-05-20T16:09:09.430719Z"
    }
   },
   "outputs": [
    {
     "data": {
      "text/plain": [
       "<__main__.ExpressionSet object at 0x7f1ee845a980> [RTYPES.S4SXP]\n",
       "R classes: ('ExpressionSet',)"
      ]
     },
     "execution_count": 9,
     "metadata": {},
     "output_type": "execute_result"
    }
   ],
   "source": [
    "def rpy2py_s4(obj):\n",
    "    if 'ExpressionSet' in obj.rclass:\n",
    "        res = ExpressionSet(obj)\n",
    "    else:\n",
    "        res = robj\n",
    "    return res\n",
    "\n",
    "# try it\n",
    "rpy2py_s4(eset)"
   ]
  },
  {
   "cell_type": "markdown",
   "id": "56d45dfb",
   "metadata": {},
   "source": [
    "That function can be be register to a `Converter`:"
   ]
  },
  {
   "cell_type": "code",
   "execution_count": 10,
   "id": "0f578f60",
   "metadata": {
    "execution": {
     "iopub.execute_input": "2023-05-20T16:09:09.434225Z",
     "iopub.status.busy": "2023-05-20T16:09:09.433885Z",
     "iopub.status.idle": "2023-05-20T16:09:09.438927Z",
     "shell.execute_reply": "2023-05-20T16:09:09.438329Z"
    }
   },
   "outputs": [
    {
     "data": {
      "text/plain": [
       "<function __main__.rpy2py_s4(obj)>"
      ]
     },
     "execution_count": 10,
     "metadata": {},
     "output_type": "execute_result"
    }
   ],
   "source": [
    "from rpy2.robjects import default_converter\n",
    "from rpy2.robjects.conversion import Converter\n",
    "\n",
    "my_converter = Converter('ExpressionSet-aware converter',\n",
    "                         template=default_converter)\n",
    "\n",
    "from rpy2.rinterface import SexpS4\n",
    "my_converter.rpy2py.register(SexpS4, rpy2py_s4)\n"
   ]
  },
  {
   "cell_type": "markdown",
   "id": "9c8e5eac",
   "metadata": {},
   "source": [
    "When using that converter, the matching R objects are returned as\n",
    "instances of our Python class `ExpressionSet`:"
   ]
  },
  {
   "cell_type": "code",
   "execution_count": 11,
   "id": "fed2d1e1",
   "metadata": {
    "execution": {
     "iopub.execute_input": "2023-05-20T16:09:09.442161Z",
     "iopub.status.busy": "2023-05-20T16:09:09.441825Z",
     "iopub.status.idle": "2023-05-20T16:09:09.487714Z",
     "shell.execute_reply": "2023-05-20T16:09:09.487101Z"
    }
   },
   "outputs": [
    {
     "name": "stdout",
     "output_type": "stream",
     "text": [
      "<class '__main__.ExpressionSet'>\n"
     ]
    }
   ],
   "source": [
    "\n",
    "with my_converter.context() as cv:\n",
    "    eset = biobase.ExpressionSet()\n",
    "    print(type(eset))"
   ]
  },
  {
   "cell_type": "markdown",
   "id": "f06b69ac",
   "metadata": {},
   "source": [
    "## Class attributes\n",
    "\n",
    "The R attribute `assayData` can be accessed\n",
    "through the accessor method `exprs()` in R.\n",
    "We can make it a property in our Python class:"
   ]
  },
  {
   "cell_type": "code",
   "execution_count": 12,
   "id": "607807fb",
   "metadata": {
    "execution": {
     "iopub.execute_input": "2023-05-20T16:09:09.490879Z",
     "iopub.status.busy": "2023-05-20T16:09:09.490391Z",
     "iopub.status.idle": "2023-05-20T16:09:09.497119Z",
     "shell.execute_reply": "2023-05-20T16:09:09.496502Z"
    }
   },
   "outputs": [
    {
     "data": {
      "text/plain": [
       "<rpy2.robjects.environments.Environment object at 0x7f1ee8456840> [RTYPES.ENVSXP]\n",
       "R classes: ('environment',)\n",
       "n items: 1"
      ]
     },
     "execution_count": 12,
     "metadata": {},
     "output_type": "execute_result"
    }
   ],
   "source": [
    "class ExpressionSet(RS4):\n",
    "    def _exprs_get(self):\n",
    "        return self.slots['assayData']\n",
    "    def _exprs_set(self, value):\n",
    "        self.slots['assayData'] = value\n",
    "    exprs = property(_exprs_get,\n",
    "                     _exprs_set,\n",
    "                     None,\n",
    "                     \"R attribute `exprs`\")\n",
    "eset_myclass = ExpressionSet(eset)\n",
    "\n",
    "eset_myclass.exprs"
   ]
  },
  {
   "cell_type": "markdown",
   "id": "c64827bd",
   "metadata": {},
   "source": [
    "## Methods\n",
    "\n",
    "In R's S4 methods are generic functions served by a multiple dispatch system.\n",
    "\n",
    "A natural way to expose the S4 method to Python is to use the\n",
    "`multipledispatch` package:"
   ]
  },
  {
   "cell_type": "code",
   "execution_count": 13,
   "id": "aa9c63b9",
   "metadata": {
    "execution": {
     "iopub.execute_input": "2023-05-20T16:09:09.499822Z",
     "iopub.status.busy": "2023-05-20T16:09:09.499475Z",
     "iopub.status.idle": "2023-05-20T16:09:09.505701Z",
     "shell.execute_reply": "2023-05-20T16:09:09.505104Z"
    }
   },
   "outputs": [],
   "source": [
    "from multipledispatch import dispatch\n",
    "from functools import partial\n",
    "\n",
    "my_namespace = dict()\n",
    "dispatch = partial(dispatch, namespace=my_namespace)\n",
    "\n",
    "@dispatch(ExpressionSet)\n",
    "def rowmedians(eset,\n",
    "               na_rm=False):\n",
    "    res = biobase.rowMedians(eset,\n",
    "                             na_rm=na_rm)\n",
    "    return res\n",
    "\n",
    "res = rowmedians(eset_myclass)"
   ]
  },
  {
   "cell_type": "markdown",
   "id": "bf265b42",
   "metadata": {},
   "source": [
    "The R method `rowMedians` is also defined for matrices, which we can expose\n",
    "on the Python end as well:"
   ]
  },
  {
   "cell_type": "code",
   "execution_count": 14,
   "id": "ac660194",
   "metadata": {
    "execution": {
     "iopub.execute_input": "2023-05-20T16:09:09.508291Z",
     "iopub.status.busy": "2023-05-20T16:09:09.507954Z",
     "iopub.status.idle": "2023-05-20T16:09:09.511584Z",
     "shell.execute_reply": "2023-05-20T16:09:09.510971Z"
    }
   },
   "outputs": [],
   "source": [
    "from rpy2.robjects.vectors import Matrix\n",
    "@dispatch(Matrix)\n",
    "def rowmedians(m,\n",
    "               na_rm=False):\n",
    "    res = biobase.rowMedians(m,\n",
    "                             na_rm=na_rm)\n",
    "    return res"
   ]
  },
  {
   "cell_type": "markdown",
   "id": "1d557e59",
   "metadata": {},
   "source": [
    "While this is working, one can note that we call the same R function\n",
    "`rowMedians()` in the package `Biobase` in both Python decorated\n",
    "functions. What is happening is that the dispatch is performed by R.\n",
    "\n",
    "If this is ever becoming a performance issue, the specific R function\n",
    "dispatched can be prefetched and explicitly called in the Python\n",
    "function. For example:"
   ]
  },
  {
   "cell_type": "code",
   "execution_count": 15,
   "id": "50bcd482",
   "metadata": {
    "execution": {
     "iopub.execute_input": "2023-05-20T16:09:09.514124Z",
     "iopub.status.busy": "2023-05-20T16:09:09.513906Z",
     "iopub.status.idle": "2023-05-20T16:09:09.518715Z",
     "shell.execute_reply": "2023-05-20T16:09:09.518101Z"
    }
   },
   "outputs": [],
   "source": [
    "from rpy2.robjects.methods import getmethod\n",
    "from rpy2.robjects.vectors import StrVector\n",
    "_rowmedians_matrix = getmethod(StrVector([\"rowMedians\"]),\n",
    "                               signature=StrVector([\"matrix\"]))\n",
    "@dispatch(Matrix)\n",
    "def rowmedians(m,\n",
    "               na_rm=False):\n",
    "    res = _rowmedians_matrix(m,\n",
    "                             na_rm=na_rm)\n",
    "    return res"
   ]
  }
 ],
 "metadata": {
  "language_info": {
   "codemirror_mode": {
    "name": "ipython",
    "version": 3
   },
   "file_extension": ".py",
   "mimetype": "text/x-python",
   "name": "python",
   "nbconvert_exporter": "python",
   "pygments_lexer": "ipython3",
   "version": "3.9.16"
  }
 },
 "nbformat": 4,
 "nbformat_minor": 5
}

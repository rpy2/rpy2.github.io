{
 "cells": [
  {
   "cell_type": "code",
   "execution_count": 1,
   "id": "63a20ee3",
   "metadata": {
    "execution": {
     "iopub.execute_input": "2022-08-21T17:44:43.357389Z",
     "iopub.status.busy": "2022-08-21T17:44:43.357117Z",
     "iopub.status.idle": "2022-08-21T17:44:44.195748Z",
     "shell.execute_reply": "2022-08-21T17:44:44.195010Z"
    }
   },
   "outputs": [],
   "source": [
    "from functools import partial\n",
    "from rpy2.ipython import html\n",
    "html.html_rdataframe=partial(html.html_rdataframe, table_class=\"docutils\")"
   ]
  },
  {
   "cell_type": "markdown",
   "id": "36745991",
   "metadata": {},
   "source": [
    "# Basic handling\n",
    "\n",
    "The S4 system is one the OOP systems in R.\n",
    "Its largest use might be in the Bioconductor collection of packages\n",
    "for bioinformatics and computational biology.\n",
    "\n",
    "We use the bioconductor `Biobase`:"
   ]
  },
  {
   "cell_type": "code",
   "execution_count": 2,
   "id": "18cf99b1",
   "metadata": {
    "execution": {
     "iopub.execute_input": "2022-08-21T17:44:44.199401Z",
     "iopub.status.busy": "2022-08-21T17:44:44.199090Z",
     "iopub.status.idle": "2022-08-21T17:44:44.637654Z",
     "shell.execute_reply": "2022-08-21T17:44:44.636971Z"
    }
   },
   "outputs": [],
   "source": [
    "from rpy2.robjects.packages import importr\n",
    "biobase = importr('Biobase')"
   ]
  },
  {
   "cell_type": "markdown",
   "id": "bad12bf0",
   "metadata": {},
   "source": [
    "The R package contains constructors for the S4 classes defined. They\n",
    "are simply functions, and can be used as such through `rpy2`:"
   ]
  },
  {
   "cell_type": "code",
   "execution_count": 3,
   "id": "fdd9a867",
   "metadata": {
    "execution": {
     "iopub.execute_input": "2022-08-21T17:44:44.641167Z",
     "iopub.status.busy": "2022-08-21T17:44:44.640930Z",
     "iopub.status.idle": "2022-08-21T17:44:44.713095Z",
     "shell.execute_reply": "2022-08-21T17:44:44.712421Z"
    }
   },
   "outputs": [],
   "source": [
    "eset = biobase.ExpressionSet() "
   ]
  },
  {
   "cell_type": "markdown",
   "id": "9354aa15",
   "metadata": {},
   "source": [
    "The object `eset` is an R object of type `S4`:"
   ]
  },
  {
   "cell_type": "code",
   "execution_count": 4,
   "id": "c33aaea4",
   "metadata": {
    "execution": {
     "iopub.execute_input": "2022-08-21T17:44:44.716578Z",
     "iopub.status.busy": "2022-08-21T17:44:44.716346Z",
     "iopub.status.idle": "2022-08-21T17:44:44.725509Z",
     "shell.execute_reply": "2022-08-21T17:44:44.724851Z"
    }
   },
   "outputs": [
    {
     "data": {
      "text/plain": [
       "rpy2.robjects.methods.RS4"
      ]
     },
     "execution_count": 4,
     "metadata": {},
     "output_type": "execute_result"
    }
   ],
   "source": [
    "type(eset)"
   ]
  },
  {
   "cell_type": "markdown",
   "id": "240e853a",
   "metadata": {},
   "source": [
    "It has a class as well:"
   ]
  },
  {
   "cell_type": "code",
   "execution_count": 5,
   "id": "ec901b4c",
   "metadata": {
    "execution": {
     "iopub.execute_input": "2022-08-21T17:44:44.729242Z",
     "iopub.status.busy": "2022-08-21T17:44:44.729024Z",
     "iopub.status.idle": "2022-08-21T17:44:44.733345Z",
     "shell.execute_reply": "2022-08-21T17:44:44.732703Z"
    }
   },
   "outputs": [
    {
     "data": {
      "text/plain": [
       "('ExpressionSet',)"
      ]
     },
     "execution_count": 5,
     "metadata": {},
     "output_type": "execute_result"
    }
   ],
   "source": [
    "tuple(eset.rclass)"
   ]
  },
  {
   "cell_type": "markdown",
   "id": "c7491e97",
   "metadata": {},
   "source": [
    "In R, objects attributes are also known as slots. The attribute names\n",
    "can be listed with:"
   ]
  },
  {
   "cell_type": "code",
   "execution_count": 6,
   "id": "f222c318",
   "metadata": {
    "execution": {
     "iopub.execute_input": "2022-08-21T17:44:44.736529Z",
     "iopub.status.busy": "2022-08-21T17:44:44.736315Z",
     "iopub.status.idle": "2022-08-21T17:44:44.740863Z",
     "shell.execute_reply": "2022-08-21T17:44:44.740215Z"
    }
   },
   "outputs": [
    {
     "data": {
      "text/plain": [
       "('experimentData',\n",
       " 'assayData',\n",
       " 'phenoData',\n",
       " 'featureData',\n",
       " 'annotation',\n",
       " 'protocolData',\n",
       " '.__classVersion__')"
      ]
     },
     "execution_count": 6,
     "metadata": {},
     "output_type": "execute_result"
    }
   ],
   "source": [
    "tuple(eset.slotnames())"
   ]
  },
  {
   "cell_type": "markdown",
   "id": "7491f577",
   "metadata": {},
   "source": [
    "The attributes can also be accessed through the `rpy2` property `slots`.\n",
    "`slots` is a mapping between attributes names (keys) and their associated\n",
    "R object (values). It can be used as Python `dict`:"
   ]
  },
  {
   "cell_type": "code",
   "execution_count": 7,
   "id": "bd1c5847",
   "metadata": {
    "execution": {
     "iopub.execute_input": "2022-08-21T17:44:44.743757Z",
     "iopub.status.busy": "2022-08-21T17:44:44.743531Z",
     "iopub.status.idle": "2022-08-21T17:44:44.748869Z",
     "shell.execute_reply": "2022-08-21T17:44:44.748203Z"
    }
   },
   "outputs": [
    {
     "name": "stdout",
     "output_type": "stream",
     "text": [
      "('.__classVersion__', 'experimentData', 'assayData', 'phenoData', 'featureData', 'annotation', 'protocolData', 'class')\n"
     ]
    }
   ],
   "source": [
    "# print keys\n",
    "print(tuple(eset.slots.keys()))\n",
    "\n",
    "# fetch `phenoData`\n",
    "phdat = eset.slots['phenoData']\n",
    "\n",
    "# phdat is an S4 object itself\n",
    "pheno_dataf = phdat.slots['data']"
   ]
  },
  {
   "cell_type": "markdown",
   "id": "bdb66710",
   "metadata": {},
   "source": [
    "# Mapping S4 classes to Python classes\n",
    "\n",
    "Writing one's own Python class extending rpy2's `RS4` is straightforward.\n",
    "That class can be used wrap our `eset` object"
   ]
  },
  {
   "cell_type": "code",
   "execution_count": 8,
   "id": "413bfbcb",
   "metadata": {
    "execution": {
     "iopub.execute_input": "2022-08-21T17:44:44.751797Z",
     "iopub.status.busy": "2022-08-21T17:44:44.751573Z",
     "iopub.status.idle": "2022-08-21T17:44:44.754993Z",
     "shell.execute_reply": "2022-08-21T17:44:44.754306Z"
    }
   },
   "outputs": [],
   "source": [
    "\n",
    "from rpy2.robjects.methods import RS4   \n",
    "class ExpressionSet(RS4):\n",
    "    pass\n",
    "\n",
    "eset_myclass = ExpressionSet(eset)"
   ]
  },
  {
   "cell_type": "markdown",
   "id": "d4c264e1",
   "metadata": {},
   "source": [
    "## Custom conversion\n",
    "\n",
    "The conversion system can also be made aware our new class by customizing\n",
    "the handling of S4 objects.\n",
    "\n",
    "A simple implementation is a factory function that will conditionally wrap\n",
    "the object in our Python class `ExpressionSet`:"
   ]
  },
  {
   "cell_type": "code",
   "execution_count": 9,
   "id": "8174251e",
   "metadata": {
    "execution": {
     "iopub.execute_input": "2022-08-21T17:44:44.758019Z",
     "iopub.status.busy": "2022-08-21T17:44:44.757806Z",
     "iopub.status.idle": "2022-08-21T17:44:44.763022Z",
     "shell.execute_reply": "2022-08-21T17:44:44.762374Z"
    }
   },
   "outputs": [
    {
     "data": {
      "text/plain": [
       "<__main__.ExpressionSet object at 0x7f953cce02c0> [RTYPES.S4SXP]\n",
       "R classes: ('ExpressionSet',)"
      ]
     },
     "execution_count": 9,
     "metadata": {},
     "output_type": "execute_result"
    }
   ],
   "source": [
    "def rpy2py_s4(obj):\n",
    "    if 'ExpressionSet' in obj.rclass:\n",
    "        res = ExpressionSet(obj)\n",
    "    else:\n",
    "        res = robj\n",
    "    return res\n",
    "\n",
    "# try it\n",
    "rpy2py_s4(eset)"
   ]
  },
  {
   "cell_type": "markdown",
   "id": "8f32ce3c",
   "metadata": {},
   "source": [
    "That function can be be register to a `Converter`:"
   ]
  },
  {
   "cell_type": "code",
   "execution_count": 10,
   "id": "40d61a69",
   "metadata": {
    "execution": {
     "iopub.execute_input": "2022-08-21T17:44:44.766160Z",
     "iopub.status.busy": "2022-08-21T17:44:44.765943Z",
     "iopub.status.idle": "2022-08-21T17:44:44.771029Z",
     "shell.execute_reply": "2022-08-21T17:44:44.770392Z"
    }
   },
   "outputs": [
    {
     "data": {
      "text/plain": [
       "<function __main__.rpy2py_s4(obj)>"
      ]
     },
     "execution_count": 10,
     "metadata": {},
     "output_type": "execute_result"
    }
   ],
   "source": [
    "from rpy2.robjects import default_converter\n",
    "from rpy2.robjects.conversion import Converter, localconverter\n",
    "\n",
    "my_converter = Converter('ExpressionSet-aware converter',\n",
    "                         template=default_converter)\n",
    "\n",
    "from rpy2.rinterface import SexpS4\n",
    "my_converter.rpy2py.register(SexpS4, rpy2py_s4)\n"
   ]
  },
  {
   "cell_type": "markdown",
   "id": "d38d8473",
   "metadata": {},
   "source": [
    "When using that converter, the matching R objects are returned as\n",
    "instances of our Python class `ExpressionSet`:"
   ]
  },
  {
   "cell_type": "code",
   "execution_count": 11,
   "id": "dab5e617",
   "metadata": {
    "execution": {
     "iopub.execute_input": "2022-08-21T17:44:44.774633Z",
     "iopub.status.busy": "2022-08-21T17:44:44.774409Z",
     "iopub.status.idle": "2022-08-21T17:44:44.816998Z",
     "shell.execute_reply": "2022-08-21T17:44:44.816336Z"
    }
   },
   "outputs": [
    {
     "name": "stdout",
     "output_type": "stream",
     "text": [
      "<class '__main__.ExpressionSet'>\n"
     ]
    }
   ],
   "source": [
    "\n",
    "with localconverter(my_converter) as cv:\n",
    "    eset = biobase.ExpressionSet()\n",
    "    print(type(eset))"
   ]
  },
  {
   "cell_type": "markdown",
   "id": "1f7f7448",
   "metadata": {},
   "source": [
    "## Class attributes\n",
    "\n",
    "The R attribute `assayData` can be accessed\n",
    "through the accessor method `exprs()` in R.\n",
    "We can make it a property in our Python class:"
   ]
  },
  {
   "cell_type": "code",
   "execution_count": 12,
   "id": "75c2ed0b",
   "metadata": {
    "execution": {
     "iopub.execute_input": "2022-08-21T17:44:44.820055Z",
     "iopub.status.busy": "2022-08-21T17:44:44.819703Z",
     "iopub.status.idle": "2022-08-21T17:44:44.826200Z",
     "shell.execute_reply": "2022-08-21T17:44:44.825559Z"
    }
   },
   "outputs": [
    {
     "data": {
      "text/plain": [
       "<rpy2.robjects.environments.Environment object at 0x7f950aafbf40> [RTYPES.ENVSXP]\n",
       "R classes: ('environment',)\n",
       "n items: 1"
      ]
     },
     "execution_count": 12,
     "metadata": {},
     "output_type": "execute_result"
    }
   ],
   "source": [
    "class ExpressionSet(RS4):\n",
    "    def _exprs_get(self):\n",
    "        return self.slots['assayData']\n",
    "    def _exprs_set(self, value):\n",
    "        self.slots['assayData'] = value\n",
    "    exprs = property(_exprs_get,\n",
    "                     _exprs_set,\n",
    "                     None,\n",
    "                     \"R attribute `exprs`\")\n",
    "eset_myclass = ExpressionSet(eset)\n",
    "\n",
    "eset_myclass.exprs"
   ]
  },
  {
   "cell_type": "markdown",
   "id": "19e8b546",
   "metadata": {},
   "source": [
    "## Methods\n",
    "\n",
    "In R's S4 methods are generic functions served by a multiple dispatch system.\n",
    "\n",
    "A natural way to expose the S4 method to Python is to use the\n",
    "`multipledispatch` package:"
   ]
  },
  {
   "cell_type": "code",
   "execution_count": 13,
   "id": "5ec4ca9a",
   "metadata": {
    "execution": {
     "iopub.execute_input": "2022-08-21T17:44:44.829216Z",
     "iopub.status.busy": "2022-08-21T17:44:44.828858Z",
     "iopub.status.idle": "2022-08-21T17:44:44.835343Z",
     "shell.execute_reply": "2022-08-21T17:44:44.834741Z"
    }
   },
   "outputs": [],
   "source": [
    "from multipledispatch import dispatch\n",
    "from functools import partial\n",
    "\n",
    "my_namespace = dict()\n",
    "dispatch = partial(dispatch, namespace=my_namespace)\n",
    "\n",
    "@dispatch(ExpressionSet)\n",
    "def rowmedians(eset,\n",
    "               na_rm=False):\n",
    "    res = biobase.rowMedians(eset,\n",
    "                             na_rm=na_rm)\n",
    "    return res\n",
    "\n",
    "res = rowmedians(eset_myclass)"
   ]
  },
  {
   "cell_type": "markdown",
   "id": "c3ed304c",
   "metadata": {},
   "source": [
    "The R method `rowMedians` is also defined for matrices, which we can expose\n",
    "on the Python end as well:"
   ]
  },
  {
   "cell_type": "code",
   "execution_count": 14,
   "id": "662d42dd",
   "metadata": {
    "execution": {
     "iopub.execute_input": "2022-08-21T17:44:44.838371Z",
     "iopub.status.busy": "2022-08-21T17:44:44.838153Z",
     "iopub.status.idle": "2022-08-21T17:44:44.841773Z",
     "shell.execute_reply": "2022-08-21T17:44:44.841105Z"
    }
   },
   "outputs": [],
   "source": [
    "from rpy2.robjects.vectors import Matrix\n",
    "@dispatch(Matrix)\n",
    "def rowmedians(m,\n",
    "               na_rm=False):\n",
    "    res = biobase.rowMedians(m,\n",
    "                             na_rm=na_rm)\n",
    "    return res"
   ]
  },
  {
   "cell_type": "markdown",
   "id": "31710cf8",
   "metadata": {},
   "source": [
    "While this is working, one can note that we call the same R function\n",
    "`rowMedians()` in the package `Biobase` in both Python decorated\n",
    "functions. What is happening is that the dispatch is performed by R.\n",
    "\n",
    "If this is ever becoming a performance issue, the specific R function\n",
    "dispatched can be prefetched and explicitly called in the Python\n",
    "function. For example:"
   ]
  },
  {
   "cell_type": "code",
   "execution_count": 15,
   "id": "2417989b",
   "metadata": {
    "execution": {
     "iopub.execute_input": "2022-08-21T17:44:44.844702Z",
     "iopub.status.busy": "2022-08-21T17:44:44.844477Z",
     "iopub.status.idle": "2022-08-21T17:44:44.849281Z",
     "shell.execute_reply": "2022-08-21T17:44:44.848625Z"
    }
   },
   "outputs": [],
   "source": [
    "from rpy2.robjects.methods import getmethod\n",
    "from rpy2.robjects.vectors import StrVector\n",
    "_rowmedians_matrix = getmethod(StrVector([\"rowMedians\"]),\n",
    "                               signature=StrVector([\"matrix\"]))\n",
    "@dispatch(Matrix)\n",
    "def rowmedians(m,\n",
    "               na_rm=False):\n",
    "    res = _rowmedians_matrix(m,\n",
    "                             na_rm=na_rm)\n",
    "    return res"
   ]
  }
 ],
 "metadata": {
  "language_info": {
   "codemirror_mode": {
    "name": "ipython",
    "version": 3
   },
   "file_extension": ".py",
   "mimetype": "text/x-python",
   "name": "python",
   "nbconvert_exporter": "python",
   "pygments_lexer": "ipython3",
   "version": "3.8.10"
  }
 },
 "nbformat": 4,
 "nbformat_minor": 5
}

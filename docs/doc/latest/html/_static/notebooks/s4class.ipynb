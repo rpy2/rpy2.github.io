{
 "cells": [
  {
   "cell_type": "code",
   "execution_count": 1,
   "id": "165783d5",
   "metadata": {
    "execution": {
     "iopub.execute_input": "2021-06-02T02:46:03.814217Z",
     "iopub.status.busy": "2021-06-02T02:46:03.813643Z",
     "iopub.status.idle": "2021-06-02T02:46:04.636393Z",
     "shell.execute_reply": "2021-06-02T02:46:04.635364Z"
    }
   },
   "outputs": [],
   "source": [
    "from functools import partial\n",
    "from rpy2.ipython import html\n",
    "html.html_rdataframe=partial(html.html_rdataframe, table_class=\"docutils\")"
   ]
  },
  {
   "cell_type": "markdown",
   "id": "040d654f",
   "metadata": {},
   "source": [
    "# Basic handling\n",
    "\n",
    "The S4 system is one the OOP systems in R.\n",
    "Its largest use might in the Bioconductor collection of packages\n",
    "for bioinformatics and computational biology.\n",
    "\n",
    "We use the bioconductor `Biobase`:"
   ]
  },
  {
   "cell_type": "code",
   "execution_count": 2,
   "id": "56dabd15",
   "metadata": {
    "execution": {
     "iopub.execute_input": "2021-06-02T02:46:04.641716Z",
     "iopub.status.busy": "2021-06-02T02:46:04.640760Z",
     "iopub.status.idle": "2021-06-02T02:46:05.204048Z",
     "shell.execute_reply": "2021-06-02T02:46:05.203141Z"
    }
   },
   "outputs": [],
   "source": [
    "from rpy2.robjects.packages import importr\n",
    "biobase = importr('Biobase')"
   ]
  },
  {
   "cell_type": "markdown",
   "id": "3aedf45e",
   "metadata": {},
   "source": [
    "The R package contains constructors for the S4 classes defined. They\n",
    "are simply functions, and can be used as such through `rpy2`:"
   ]
  },
  {
   "cell_type": "code",
   "execution_count": 3,
   "id": "6a5f94dc",
   "metadata": {
    "execution": {
     "iopub.execute_input": "2021-06-02T02:46:05.209335Z",
     "iopub.status.busy": "2021-06-02T02:46:05.208395Z",
     "iopub.status.idle": "2021-06-02T02:46:05.295525Z",
     "shell.execute_reply": "2021-06-02T02:46:05.294606Z"
    }
   },
   "outputs": [],
   "source": [
    "eset = biobase.ExpressionSet() "
   ]
  },
  {
   "cell_type": "markdown",
   "id": "7a2377d6",
   "metadata": {},
   "source": [
    "The object `eset` is an R object of type `S4`:"
   ]
  },
  {
   "cell_type": "code",
   "execution_count": 4,
   "id": "542ee0ec",
   "metadata": {
    "execution": {
     "iopub.execute_input": "2021-06-02T02:46:05.306785Z",
     "iopub.status.busy": "2021-06-02T02:46:05.305855Z",
     "iopub.status.idle": "2021-06-02T02:46:05.309428Z",
     "shell.execute_reply": "2021-06-02T02:46:05.309883Z"
    }
   },
   "outputs": [
    {
     "data": {
      "text/plain": [
       "rpy2.robjects.methods.RS4"
      ]
     },
     "execution_count": 1,
     "metadata": {},
     "output_type": "execute_result"
    }
   ],
   "source": [
    "type(eset)"
   ]
  },
  {
   "cell_type": "markdown",
   "id": "87224b8a",
   "metadata": {},
   "source": [
    "It has a class as well:"
   ]
  },
  {
   "cell_type": "code",
   "execution_count": 5,
   "id": "9a959ddd",
   "metadata": {
    "execution": {
     "iopub.execute_input": "2021-06-02T02:46:05.314570Z",
     "iopub.status.busy": "2021-06-02T02:46:05.314039Z",
     "iopub.status.idle": "2021-06-02T02:46:05.316633Z",
     "shell.execute_reply": "2021-06-02T02:46:05.317085Z"
    }
   },
   "outputs": [
    {
     "data": {
      "text/plain": [
       "('ExpressionSet',)"
      ]
     },
     "execution_count": 1,
     "metadata": {},
     "output_type": "execute_result"
    }
   ],
   "source": [
    "tuple(eset.rclass)"
   ]
  },
  {
   "cell_type": "markdown",
   "id": "abcf892e",
   "metadata": {},
   "source": [
    "In R, objects attributes are also known as slots. The attribute names\n",
    "can be listed with:"
   ]
  },
  {
   "cell_type": "code",
   "execution_count": 6,
   "id": "ab00190c",
   "metadata": {
    "execution": {
     "iopub.execute_input": "2021-06-02T02:46:05.321428Z",
     "iopub.status.busy": "2021-06-02T02:46:05.319894Z",
     "iopub.status.idle": "2021-06-02T02:46:05.323510Z",
     "shell.execute_reply": "2021-06-02T02:46:05.323969Z"
    }
   },
   "outputs": [
    {
     "data": {
      "text/plain": [
       "('experimentData',\n",
       " 'assayData',\n",
       " 'phenoData',\n",
       " 'featureData',\n",
       " 'annotation',\n",
       " 'protocolData',\n",
       " '.__classVersion__')"
      ]
     },
     "execution_count": 1,
     "metadata": {},
     "output_type": "execute_result"
    }
   ],
   "source": [
    "tuple(eset.slotnames())"
   ]
  },
  {
   "cell_type": "markdown",
   "id": "74615a66",
   "metadata": {},
   "source": [
    "The attributes can also be accessed through the `rpy2` property `slots`.\n",
    "`slots` is a mapping between attributes names (keys) and their associated\n",
    "R object (values). It can be used as Python `dict`:"
   ]
  },
  {
   "cell_type": "code",
   "execution_count": 7,
   "id": "a2ba6639",
   "metadata": {
    "execution": {
     "iopub.execute_input": "2021-06-02T02:46:05.327846Z",
     "iopub.status.busy": "2021-06-02T02:46:05.327330Z",
     "iopub.status.idle": "2021-06-02T02:46:05.331579Z",
     "shell.execute_reply": "2021-06-02T02:46:05.331132Z"
    }
   },
   "outputs": [
    {
     "name": "stdout",
     "output_type": "stream",
     "text": [
      "('.__classVersion__', 'experimentData', 'assayData', 'phenoData', 'featureData', 'annotation', 'protocolData', 'class')\n"
     ]
    }
   ],
   "source": [
    "# print keys\n",
    "print(tuple(eset.slots.keys()))\n",
    "\n",
    "# fetch `phenoData`\n",
    "phdat = eset.slots['phenoData']\n",
    "\n",
    "# phdat is an S4 object itself\n",
    "pheno_dataf = phdat.slots['data']"
   ]
  },
  {
   "cell_type": "markdown",
   "id": "90ece4ac",
   "metadata": {},
   "source": [
    "# Mapping S4 classes to Python classes\n",
    "\n",
    "Writing one's own Python class extending rpy2's `RS4` is straightforward.\n",
    "That class can be used wrap our `eset` object"
   ]
  },
  {
   "cell_type": "code",
   "execution_count": 8,
   "id": "505bd0af",
   "metadata": {
    "execution": {
     "iopub.execute_input": "2021-06-02T02:46:05.336424Z",
     "iopub.status.busy": "2021-06-02T02:46:05.335108Z",
     "iopub.status.idle": "2021-06-02T02:46:05.337045Z",
     "shell.execute_reply": "2021-06-02T02:46:05.337481Z"
    }
   },
   "outputs": [],
   "source": [
    "\n",
    "from rpy2.robjects.methods import RS4   \n",
    "class ExpressionSet(RS4):\n",
    "    pass\n",
    "\n",
    "eset_myclass = ExpressionSet(eset)"
   ]
  },
  {
   "cell_type": "markdown",
   "id": "fd79e79e",
   "metadata": {},
   "source": [
    "## Custom conversion\n",
    "\n",
    "The conversion system can also be made aware our new class by customizing\n",
    "the handling of S4 objects.\n",
    "\n",
    "A simple implementation is a factory function that will conditionally wrap\n",
    "the object in our Python class `ExpressionSet`:"
   ]
  },
  {
   "cell_type": "code",
   "execution_count": 9,
   "id": "2ecbccc7",
   "metadata": {
    "execution": {
     "iopub.execute_input": "2021-06-02T02:46:05.342897Z",
     "iopub.status.busy": "2021-06-02T02:46:05.341789Z",
     "iopub.status.idle": "2021-06-02T02:46:05.345070Z",
     "shell.execute_reply": "2021-06-02T02:46:05.345492Z"
    }
   },
   "outputs": [
    {
     "data": {
      "text/plain": [
       "<__main__.ExpressionSet object at 0x7f801b3cad40> [RTYPES.S4SXP]\n",
       "R classes: ('ExpressionSet',)"
      ]
     },
     "execution_count": 1,
     "metadata": {},
     "output_type": "execute_result"
    }
   ],
   "source": [
    "def rpy2py_s4(obj):\n",
    "    if 'ExpressionSet' in obj.rclass:\n",
    "        res = ExpressionSet(obj)\n",
    "    else:\n",
    "        res = robj\n",
    "    return res\n",
    "\n",
    "# try it\n",
    "rpy2py_s4(eset)"
   ]
  },
  {
   "cell_type": "markdown",
   "id": "3ab634ad",
   "metadata": {},
   "source": [
    "That function can be be register to a `Converter`:"
   ]
  },
  {
   "cell_type": "code",
   "execution_count": 10,
   "id": "27705638",
   "metadata": {
    "execution": {
     "iopub.execute_input": "2021-06-02T02:46:05.350942Z",
     "iopub.status.busy": "2021-06-02T02:46:05.350353Z",
     "iopub.status.idle": "2021-06-02T02:46:05.353072Z",
     "shell.execute_reply": "2021-06-02T02:46:05.353490Z"
    }
   },
   "outputs": [
    {
     "data": {
      "text/plain": [
       "<function __main__.rpy2py_s4(obj)>"
      ]
     },
     "execution_count": 1,
     "metadata": {},
     "output_type": "execute_result"
    }
   ],
   "source": [
    "from rpy2.robjects import default_converter\n",
    "from rpy2.robjects.conversion import Converter, localconverter\n",
    "\n",
    "my_converter = Converter('ExpressionSet-aware converter',\n",
    "                         template=default_converter)\n",
    "\n",
    "from rpy2.rinterface import SexpS4\n",
    "my_converter.rpy2py.register(SexpS4, rpy2py_s4)\n"
   ]
  },
  {
   "cell_type": "markdown",
   "id": "9fce6e56",
   "metadata": {},
   "source": [
    "When using that converter, the matching R objects are returned as\n",
    "instances of our Python class `ExpressionSet`:"
   ]
  },
  {
   "cell_type": "code",
   "execution_count": 11,
   "id": "edf8204e",
   "metadata": {
    "execution": {
     "iopub.execute_input": "2021-06-02T02:46:05.357036Z",
     "iopub.status.busy": "2021-06-02T02:46:05.356526Z",
     "iopub.status.idle": "2021-06-02T02:46:05.408266Z",
     "shell.execute_reply": "2021-06-02T02:46:05.408712Z"
    }
   },
   "outputs": [
    {
     "name": "stdout",
     "output_type": "stream",
     "text": [
      "<class '__main__.ExpressionSet'>\n"
     ]
    }
   ],
   "source": [
    "\n",
    "with localconverter(my_converter) as cv:\n",
    "    eset = biobase.ExpressionSet()\n",
    "    print(type(eset))"
   ]
  },
  {
   "cell_type": "markdown",
   "id": "69f09b59",
   "metadata": {},
   "source": [
    "## Class attributes\n",
    "\n",
    "The R attribute `assayData` can be accessed\n",
    "through the accessor method `exprs()` in R.\n",
    "We can make it a property in our Python class:"
   ]
  },
  {
   "cell_type": "code",
   "execution_count": 12,
   "id": "287a854f",
   "metadata": {
    "execution": {
     "iopub.execute_input": "2021-06-02T02:46:05.416807Z",
     "iopub.status.busy": "2021-06-02T02:46:05.416235Z",
     "iopub.status.idle": "2021-06-02T02:46:05.419036Z",
     "shell.execute_reply": "2021-06-02T02:46:05.419462Z"
    }
   },
   "outputs": [
    {
     "data": {
      "text/plain": [
       "<rpy2.robjects.environments.Environment object at 0x7f801b3bba80> [RTYPES.ENVSXP]\n",
       "R classes: ('environment',)\n",
       "n items: 1"
      ]
     },
     "execution_count": 1,
     "metadata": {},
     "output_type": "execute_result"
    }
   ],
   "source": [
    "class ExpressionSet(RS4):\n",
    "    def _exprs_get(self):\n",
    "        return self.slots['assayData']\n",
    "    def _exprs_set(self, value):\n",
    "        self.slots['assayData'] = value\n",
    "    exprs = property(_exprs_get,\n",
    "                     _exprs_set,\n",
    "                     None,\n",
    "                     \"R attribute `exprs`\")\n",
    "eset_myclass = ExpressionSet(eset)\n",
    "\n",
    "eset_myclass.exprs"
   ]
  },
  {
   "cell_type": "markdown",
   "id": "eab7d659",
   "metadata": {},
   "source": [
    "## Methods\n",
    "\n",
    "In R's S4 methods are generic functions served by a multiple dispatch system.\n",
    "\n",
    "A natural way to expose the S4 method to Python is to use the\n",
    "`multipledispatch` package:"
   ]
  },
  {
   "cell_type": "code",
   "execution_count": 13,
   "id": "24272057",
   "metadata": {
    "execution": {
     "iopub.execute_input": "2021-06-02T02:46:05.424259Z",
     "iopub.status.busy": "2021-06-02T02:46:05.423713Z",
     "iopub.status.idle": "2021-06-02T02:46:05.428071Z",
     "shell.execute_reply": "2021-06-02T02:46:05.428497Z"
    }
   },
   "outputs": [],
   "source": [
    "from multipledispatch import dispatch\n",
    "from functools import partial\n",
    "\n",
    "my_namespace = dict()\n",
    "dispatch = partial(dispatch, namespace=my_namespace)\n",
    "\n",
    "@dispatch(ExpressionSet)\n",
    "def rowmedians(eset,\n",
    "               na_rm=False):\n",
    "    res = biobase.rowMedians(eset,\n",
    "                             na_rm=na_rm)\n",
    "    return res\n",
    "\n",
    "res = rowmedians(eset_myclass)"
   ]
  },
  {
   "cell_type": "markdown",
   "id": "ad7b42ad",
   "metadata": {},
   "source": [
    "The R method `rowMedians` is also defined for matrices, which we can expose\n",
    "on the Python end as well:"
   ]
  },
  {
   "cell_type": "code",
   "execution_count": 14,
   "id": "0c3e1bea",
   "metadata": {
    "execution": {
     "iopub.execute_input": "2021-06-02T02:46:05.433620Z",
     "iopub.status.busy": "2021-06-02T02:46:05.432338Z",
     "iopub.status.idle": "2021-06-02T02:46:05.434316Z",
     "shell.execute_reply": "2021-06-02T02:46:05.434800Z"
    }
   },
   "outputs": [],
   "source": [
    "from rpy2.robjects.vectors import Matrix\n",
    "@dispatch(Matrix)\n",
    "def rowmedians(m,\n",
    "               na_rm=False):\n",
    "    res = biobase.rowMedians(m,\n",
    "                             na_rm=na_rm)\n",
    "    return res"
   ]
  },
  {
   "cell_type": "markdown",
   "id": "e912c10e",
   "metadata": {},
   "source": [
    "While this is working, one can note that we call the same R function\n",
    "`rowMedians()` in the package `Biobase` in both Python decorated\n",
    "functions. What is happening is that the dispatch is performed by R.\n",
    "\n",
    "If this is ever becoming a performance issue, the specific R function\n",
    "dispatched can be prefetched and explicitly called in the Python\n",
    "function. For example:"
   ]
  },
  {
   "cell_type": "code",
   "execution_count": 15,
   "id": "e57abe74",
   "metadata": {
    "execution": {
     "iopub.execute_input": "2021-06-02T02:46:05.440269Z",
     "iopub.status.busy": "2021-06-02T02:46:05.439287Z",
     "iopub.status.idle": "2021-06-02T02:46:05.441768Z",
     "shell.execute_reply": "2021-06-02T02:46:05.441313Z"
    }
   },
   "outputs": [],
   "source": [
    "from rpy2.robjects.methods import getmethod\n",
    "from rpy2.robjects.vectors import StrVector\n",
    "_rowmedians_matrix = getmethod(StrVector([\"rowMedians\"]),\n",
    "                               signature=StrVector([\"matrix\"]))\n",
    "@dispatch(Matrix)\n",
    "def rowmedians(m,\n",
    "               na_rm=False):\n",
    "    res = _rowmedians_matrix(m,\n",
    "                             na_rm=na_rm)\n",
    "    return res"
   ]
  }
 ],
 "metadata": {
  "language_info": {
   "codemirror_mode": {
    "name": "ipython",
    "version": 3
   },
   "file_extension": ".py",
   "mimetype": "text/x-python",
   "name": "python",
   "nbconvert_exporter": "python",
   "pygments_lexer": "ipython3",
   "version": "3.8.5"
  }
 },
 "nbformat": 4,
 "nbformat_minor": 5
}

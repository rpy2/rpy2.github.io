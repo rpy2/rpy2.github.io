{
 "cells": [
  {
   "cell_type": "code",
   "execution_count": 1,
   "metadata": {
    "execution": {
     "iopub.execute_input": "2020-11-29T01:20:45.302222Z",
     "iopub.status.busy": "2020-11-29T01:20:45.301746Z",
     "iopub.status.idle": "2020-11-29T01:20:45.993436Z",
     "shell.execute_reply": "2020-11-29T01:20:45.992363Z"
    }
   },
   "outputs": [],
   "source": [
    "from functools import partial\n",
    "from rpy2.ipython import html\n",
    "html.html_rdataframe=partial(html.html_rdataframe, table_class=\"docutils\")"
   ]
  },
  {
   "cell_type": "markdown",
   "metadata": {},
   "source": [
    "# Basic handling\n",
    "\n",
    "The S4 system is one the OOP systems in R.\n",
    "Its largest use might in the Bioconductor collection of packages\n",
    "for bioinformatics and computational biology.\n",
    "\n",
    "We use the bioconductor `Biobase`:"
   ]
  },
  {
   "cell_type": "code",
   "execution_count": 2,
   "metadata": {
    "execution": {
     "iopub.execute_input": "2020-11-29T01:20:45.996834Z",
     "iopub.status.busy": "2020-11-29T01:20:45.996407Z",
     "iopub.status.idle": "2020-11-29T01:20:46.464556Z",
     "shell.execute_reply": "2020-11-29T01:20:46.464069Z"
    }
   },
   "outputs": [],
   "source": [
    "from rpy2.robjects.packages import importr\n",
    "biobase = importr('Biobase')"
   ]
  },
  {
   "cell_type": "markdown",
   "metadata": {},
   "source": [
    "The R package contains constructors for the S4 classes defined. They\n",
    "are simply functions, and can be used as such through `rpy2`:"
   ]
  },
  {
   "cell_type": "code",
   "execution_count": 3,
   "metadata": {
    "execution": {
     "iopub.execute_input": "2020-11-29T01:20:46.468009Z",
     "iopub.status.busy": "2020-11-29T01:20:46.467620Z",
     "iopub.status.idle": "2020-11-29T01:20:46.535512Z",
     "shell.execute_reply": "2020-11-29T01:20:46.535055Z"
    }
   },
   "outputs": [],
   "source": [
    "eset = biobase.ExpressionSet() "
   ]
  },
  {
   "cell_type": "markdown",
   "metadata": {},
   "source": [
    "The object `eset` is an R object of type `S4`:"
   ]
  },
  {
   "cell_type": "code",
   "execution_count": 4,
   "metadata": {
    "execution": {
     "iopub.execute_input": "2020-11-29T01:20:46.545933Z",
     "iopub.status.busy": "2020-11-29T01:20:46.545546Z",
     "iopub.status.idle": "2020-11-29T01:20:46.550774Z",
     "shell.execute_reply": "2020-11-29T01:20:46.550405Z"
    }
   },
   "outputs": [
    {
     "data": {
      "text/plain": [
       "rpy2.robjects.methods.RS4"
      ]
     },
     "execution_count": 1,
     "metadata": {},
     "output_type": "execute_result"
    }
   ],
   "source": [
    "type(eset)"
   ]
  },
  {
   "cell_type": "markdown",
   "metadata": {},
   "source": [
    "It has a class as well:"
   ]
  },
  {
   "cell_type": "code",
   "execution_count": 5,
   "metadata": {
    "execution": {
     "iopub.execute_input": "2020-11-29T01:20:46.553589Z",
     "iopub.status.busy": "2020-11-29T01:20:46.552946Z",
     "iopub.status.idle": "2020-11-29T01:20:46.557521Z",
     "shell.execute_reply": "2020-11-29T01:20:46.557816Z"
    }
   },
   "outputs": [
    {
     "data": {
      "text/plain": [
       "('ExpressionSet',)"
      ]
     },
     "execution_count": 1,
     "metadata": {},
     "output_type": "execute_result"
    }
   ],
   "source": [
    "tuple(eset.rclass)"
   ]
  },
  {
   "cell_type": "markdown",
   "metadata": {},
   "source": [
    "In R, objects attributes are also known as slots. The attribute names\n",
    "can be listed with:"
   ]
  },
  {
   "cell_type": "code",
   "execution_count": 6,
   "metadata": {
    "execution": {
     "iopub.execute_input": "2020-11-29T01:20:46.560613Z",
     "iopub.status.busy": "2020-11-29T01:20:46.560086Z",
     "iopub.status.idle": "2020-11-29T01:20:46.564667Z",
     "shell.execute_reply": "2020-11-29T01:20:46.564960Z"
    }
   },
   "outputs": [
    {
     "data": {
      "text/plain": [
       "('experimentData',\n",
       " 'assayData',\n",
       " 'phenoData',\n",
       " 'featureData',\n",
       " 'annotation',\n",
       " 'protocolData',\n",
       " '.__classVersion__')"
      ]
     },
     "execution_count": 1,
     "metadata": {},
     "output_type": "execute_result"
    }
   ],
   "source": [
    "tuple(eset.slotnames())"
   ]
  },
  {
   "cell_type": "markdown",
   "metadata": {},
   "source": [
    "The attributes can also be accessed through the `rpy2` property `slots`.\n",
    "`slots` is a mapping between attributes names (keys) and their associated\n",
    "R object (values). It can be used as Python `dict`:"
   ]
  },
  {
   "cell_type": "code",
   "execution_count": 7,
   "metadata": {
    "execution": {
     "iopub.execute_input": "2020-11-29T01:20:46.567971Z",
     "iopub.status.busy": "2020-11-29T01:20:46.567591Z",
     "iopub.status.idle": "2020-11-29T01:20:46.572637Z",
     "shell.execute_reply": "2020-11-29T01:20:46.572981Z"
    }
   },
   "outputs": [
    {
     "name": "stdout",
     "output_type": "stream",
     "text": [
      "('.__classVersion__', 'experimentData', 'assayData', 'phenoData', 'featureData', 'annotation', 'protocolData', 'class')\n"
     ]
    }
   ],
   "source": [
    "# print keys\n",
    "print(tuple(eset.slots.keys()))\n",
    "\n",
    "# fetch `phenoData`\n",
    "phdat = eset.slots['phenoData']\n",
    "\n",
    "# phdat is an S4 object itself\n",
    "pheno_dataf = phdat.slots['data']"
   ]
  },
  {
   "cell_type": "markdown",
   "metadata": {},
   "source": [
    "# Mapping S4 classes to Python classes\n",
    "\n",
    "Writing one's own Python class extending rpy2's `RS4` is straightforward.\n",
    "That class can be used wrap our `eset` object"
   ]
  },
  {
   "cell_type": "code",
   "execution_count": 8,
   "metadata": {
    "execution": {
     "iopub.execute_input": "2020-11-29T01:20:46.576435Z",
     "iopub.status.busy": "2020-11-29T01:20:46.575931Z",
     "iopub.status.idle": "2020-11-29T01:20:46.578835Z",
     "shell.execute_reply": "2020-11-29T01:20:46.578497Z"
    }
   },
   "outputs": [],
   "source": [
    "\n",
    "from rpy2.robjects.methods import RS4   \n",
    "class ExpressionSet(RS4):\n",
    "    pass\n",
    "\n",
    "eset_myclass = ExpressionSet(eset)"
   ]
  },
  {
   "cell_type": "markdown",
   "metadata": {},
   "source": [
    "## Custom conversion\n",
    "\n",
    "The conversion system can also be made aware our new class by customizing\n",
    "the handling of S4 objects.\n",
    "\n",
    "A simple implementation is a factory function that will conditionally wrap\n",
    "the object in our Python class `ExpressionSet`:"
   ]
  },
  {
   "cell_type": "code",
   "execution_count": 9,
   "metadata": {
    "execution": {
     "iopub.execute_input": "2020-11-29T01:20:46.582170Z",
     "iopub.status.busy": "2020-11-29T01:20:46.581427Z",
     "iopub.status.idle": "2020-11-29T01:20:46.585830Z",
     "shell.execute_reply": "2020-11-29T01:20:46.585490Z"
    }
   },
   "outputs": [
    {
     "data": {
      "text/plain": [
       "R object with classes: ('ExpressionSet',) mapped to:"
      ]
     },
     "execution_count": 1,
     "metadata": {},
     "output_type": "execute_result"
    }
   ],
   "source": [
    "def rpy2py_s4(obj):\n",
    "    if 'ExpressionSet' in obj.rclass:\n",
    "        res = ExpressionSet(obj)\n",
    "    else:\n",
    "        res = robj\n",
    "    return res\n",
    "\n",
    "# try it\n",
    "rpy2py_s4(eset)"
   ]
  },
  {
   "cell_type": "markdown",
   "metadata": {},
   "source": [
    "That function can be be register to a `Converter`:"
   ]
  },
  {
   "cell_type": "code",
   "execution_count": 10,
   "metadata": {
    "execution": {
     "iopub.execute_input": "2020-11-29T01:20:46.589331Z",
     "iopub.status.busy": "2020-11-29T01:20:46.588805Z",
     "iopub.status.idle": "2020-11-29T01:20:46.593339Z",
     "shell.execute_reply": "2020-11-29T01:20:46.592999Z"
    }
   },
   "outputs": [
    {
     "data": {
      "text/plain": [
       "<function __main__.rpy2py_s4(obj)>"
      ]
     },
     "execution_count": 1,
     "metadata": {},
     "output_type": "execute_result"
    }
   ],
   "source": [
    "from rpy2.robjects import default_converter\n",
    "from rpy2.robjects.conversion import Converter, localconverter\n",
    "\n",
    "my_converter = Converter('ExpressionSet-aware converter',\n",
    "                         template=default_converter)\n",
    "\n",
    "from rpy2.rinterface import SexpS4\n",
    "my_converter.rpy2py.register(SexpS4, rpy2py_s4)\n"
   ]
  },
  {
   "cell_type": "markdown",
   "metadata": {},
   "source": [
    "When using that converter, the matching R objects are returned as\n",
    "instances of our Python class `ExpressionSet`:"
   ]
  },
  {
   "cell_type": "code",
   "execution_count": 11,
   "metadata": {
    "execution": {
     "iopub.execute_input": "2020-11-29T01:20:46.595991Z",
     "iopub.status.busy": "2020-11-29T01:20:46.595558Z",
     "iopub.status.idle": "2020-11-29T01:20:46.634986Z",
     "shell.execute_reply": "2020-11-29T01:20:46.634318Z"
    }
   },
   "outputs": [
    {
     "name": "stdout",
     "output_type": "stream",
     "text": [
      "<class '__main__.ExpressionSet'>\n"
     ]
    }
   ],
   "source": [
    "\n",
    "with localconverter(my_converter) as cv:\n",
    "    eset = biobase.ExpressionSet()\n",
    "    print(type(eset))"
   ]
  },
  {
   "cell_type": "markdown",
   "metadata": {},
   "source": [
    "## Class attributes\n",
    "\n",
    "The R attribute `assayData` can be accessed\n",
    "through the accessor method `exprs()` in R.\n",
    "We can make it a property in our Python class:"
   ]
  },
  {
   "cell_type": "code",
   "execution_count": 12,
   "metadata": {
    "execution": {
     "iopub.execute_input": "2020-11-29T01:20:46.640009Z",
     "iopub.status.busy": "2020-11-29T01:20:46.639606Z",
     "iopub.status.idle": "2020-11-29T01:20:46.641492Z",
     "shell.execute_reply": "2020-11-29T01:20:46.641808Z"
    }
   },
   "outputs": [
    {
     "data": {
      "text/plain": [
       "R object with classes: ('environment',) mapped to:"
      ]
     },
     "execution_count": 1,
     "metadata": {},
     "output_type": "execute_result"
    }
   ],
   "source": [
    "class ExpressionSet(RS4):\n",
    "    def _exprs_get(self):\n",
    "        return self.slots['assayData']\n",
    "    def _exprs_set(self, value):\n",
    "        self.slots['assayData'] = value\n",
    "    exprs = property(_exprs_get,\n",
    "                     _exprs_set,\n",
    "                     None,\n",
    "                     \"R attribute `exprs`\")\n",
    "eset_myclass = ExpressionSet(eset)\n",
    "\n",
    "eset_myclass.exprs"
   ]
  },
  {
   "cell_type": "markdown",
   "metadata": {},
   "source": [
    "## Methods\n",
    "\n",
    "In R's S4 methods are generic functions served by a multiple dispatch system.\n",
    "\n",
    "A natural way to expose the S4 method to Python is to use the\n",
    "`multipledispatch` package:"
   ]
  },
  {
   "cell_type": "code",
   "execution_count": 13,
   "metadata": {
    "execution": {
     "iopub.execute_input": "2020-11-29T01:20:46.645197Z",
     "iopub.status.busy": "2020-11-29T01:20:46.644811Z",
     "iopub.status.idle": "2020-11-29T01:20:46.649527Z",
     "shell.execute_reply": "2020-11-29T01:20:46.649210Z"
    }
   },
   "outputs": [],
   "source": [
    "from multipledispatch import dispatch\n",
    "from functools import partial\n",
    "\n",
    "my_namespace = dict()\n",
    "dispatch = partial(dispatch, namespace=my_namespace)\n",
    "\n",
    "@dispatch(ExpressionSet)\n",
    "def rowmedians(eset,\n",
    "               na_rm=False):\n",
    "    res = biobase.rowMedians(eset,\n",
    "                             na_rm=na_rm)\n",
    "    return res\n",
    "\n",
    "res = rowmedians(eset_myclass)"
   ]
  },
  {
   "cell_type": "markdown",
   "metadata": {},
   "source": [
    "The R method `rowMedians` is also defined for matrices, which we can expose\n",
    "on the Python end as well:"
   ]
  },
  {
   "cell_type": "code",
   "execution_count": 14,
   "metadata": {
    "execution": {
     "iopub.execute_input": "2020-11-29T01:20:46.652532Z",
     "iopub.status.busy": "2020-11-29T01:20:46.652149Z",
     "iopub.status.idle": "2020-11-29T01:20:46.654336Z",
     "shell.execute_reply": "2020-11-29T01:20:46.653741Z"
    }
   },
   "outputs": [],
   "source": [
    "from rpy2.robjects.vectors import Matrix\n",
    "@dispatch(Matrix)\n",
    "def rowmedians(m,\n",
    "               na_rm=False):\n",
    "    res = biobase.rowMedians(m,\n",
    "                             na_rm=na_rm)\n",
    "    return res"
   ]
  },
  {
   "cell_type": "markdown",
   "metadata": {},
   "source": [
    "While this is working, one can note that we call the same R function\n",
    "`rowMedians()` in the package `Biobase` in both Python decorated\n",
    "functions. What is happening is that the dispatch is performed by R.\n",
    "\n",
    "If this is ever becoming a performance issue, the specific R function\n",
    "dispatched can be prefetched and explicitly called in the Python\n",
    "function. For example:"
   ]
  },
  {
   "cell_type": "code",
   "execution_count": 15,
   "metadata": {
    "execution": {
     "iopub.execute_input": "2020-11-29T01:20:46.658169Z",
     "iopub.status.busy": "2020-11-29T01:20:46.657663Z",
     "iopub.status.idle": "2020-11-29T01:20:46.659808Z",
     "shell.execute_reply": "2020-11-29T01:20:46.659459Z"
    }
   },
   "outputs": [],
   "source": [
    "from rpy2.robjects.methods import getmethod\n",
    "from rpy2.robjects.vectors import StrVector\n",
    "_rowmedians_matrix = getmethod(StrVector([\"rowMedians\"]),\n",
    "                               signature=StrVector([\"matrix\"]))\n",
    "@dispatch(Matrix)\n",
    "def rowmedians(m,\n",
    "               na_rm=False):\n",
    "    res = _rowmedians_matrix(m,\n",
    "                             na_rm=na_rm)\n",
    "    return res"
   ]
  }
 ],
 "metadata": {
  "language_info": {
   "codemirror_mode": {
    "name": "ipython",
    "version": 3
   },
   "file_extension": ".py",
   "mimetype": "text/x-python",
   "name": "python",
   "nbconvert_exporter": "python",
   "pygments_lexer": "ipython3",
   "version": "3.8.6"
  }
 },
 "nbformat": 4,
 "nbformat_minor": 4
}

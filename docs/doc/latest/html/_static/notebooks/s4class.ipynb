{
 "cells": [
  {
   "cell_type": "code",
   "execution_count": 1,
   "id": "educational-background",
   "metadata": {
    "execution": {
     "iopub.execute_input": "2021-03-21T14:11:07.725373Z",
     "iopub.status.busy": "2021-03-21T14:11:07.724659Z",
     "iopub.status.idle": "2021-03-21T14:11:08.673432Z",
     "shell.execute_reply": "2021-03-21T14:11:08.672792Z"
    }
   },
   "outputs": [],
   "source": [
    "from functools import partial\n",
    "from rpy2.ipython import html\n",
    "html.html_rdataframe=partial(html.html_rdataframe, table_class=\"docutils\")"
   ]
  },
  {
   "cell_type": "markdown",
   "id": "facial-making",
   "metadata": {},
   "source": [
    "# Basic handling\n",
    "\n",
    "The S4 system is one the OOP systems in R.\n",
    "Its largest use might in the Bioconductor collection of packages\n",
    "for bioinformatics and computational biology.\n",
    "\n",
    "We use the bioconductor `Biobase`:"
   ]
  },
  {
   "cell_type": "code",
   "execution_count": 2,
   "id": "hidden-poker",
   "metadata": {
    "execution": {
     "iopub.execute_input": "2021-03-21T14:11:08.677634Z",
     "iopub.status.busy": "2021-03-21T14:11:08.677031Z",
     "iopub.status.idle": "2021-03-21T14:11:09.355786Z",
     "shell.execute_reply": "2021-03-21T14:11:09.354935Z"
    }
   },
   "outputs": [],
   "source": [
    "from rpy2.robjects.packages import importr\n",
    "biobase = importr('Biobase')"
   ]
  },
  {
   "cell_type": "markdown",
   "id": "permanent-leonard",
   "metadata": {},
   "source": [
    "The R package contains constructors for the S4 classes defined. They\n",
    "are simply functions, and can be used as such through `rpy2`:"
   ]
  },
  {
   "cell_type": "code",
   "execution_count": 3,
   "id": "excess-yahoo",
   "metadata": {
    "execution": {
     "iopub.execute_input": "2021-03-21T14:11:09.359871Z",
     "iopub.status.busy": "2021-03-21T14:11:09.359256Z",
     "iopub.status.idle": "2021-03-21T14:11:09.459052Z",
     "shell.execute_reply": "2021-03-21T14:11:09.458421Z"
    }
   },
   "outputs": [],
   "source": [
    "eset = biobase.ExpressionSet() "
   ]
  },
  {
   "cell_type": "markdown",
   "id": "revised-solid",
   "metadata": {},
   "source": [
    "The object `eset` is an R object of type `S4`:"
   ]
  },
  {
   "cell_type": "code",
   "execution_count": 4,
   "id": "explicit-orlando",
   "metadata": {
    "execution": {
     "iopub.execute_input": "2021-03-21T14:11:09.470340Z",
     "iopub.status.busy": "2021-03-21T14:11:09.469695Z",
     "iopub.status.idle": "2021-03-21T14:11:09.473493Z",
     "shell.execute_reply": "2021-03-21T14:11:09.474063Z"
    }
   },
   "outputs": [
    {
     "data": {
      "text/plain": [
       "rpy2.robjects.methods.RS4"
      ]
     },
     "execution_count": 1,
     "metadata": {},
     "output_type": "execute_result"
    }
   ],
   "source": [
    "type(eset)"
   ]
  },
  {
   "cell_type": "markdown",
   "id": "pursuant-economics",
   "metadata": {},
   "source": [
    "It has a class as well:"
   ]
  },
  {
   "cell_type": "code",
   "execution_count": 5,
   "id": "signed-wrapping",
   "metadata": {
    "execution": {
     "iopub.execute_input": "2021-03-21T14:11:09.479798Z",
     "iopub.status.busy": "2021-03-21T14:11:09.478349Z",
     "iopub.status.idle": "2021-03-21T14:11:09.482019Z",
     "shell.execute_reply": "2021-03-21T14:11:09.481418Z"
    }
   },
   "outputs": [
    {
     "data": {
      "text/plain": [
       "('ExpressionSet',)"
      ]
     },
     "execution_count": 1,
     "metadata": {},
     "output_type": "execute_result"
    }
   ],
   "source": [
    "tuple(eset.rclass)"
   ]
  },
  {
   "cell_type": "markdown",
   "id": "recreational-criminal",
   "metadata": {},
   "source": [
    "In R, objects attributes are also known as slots. The attribute names\n",
    "can be listed with:"
   ]
  },
  {
   "cell_type": "code",
   "execution_count": 6,
   "id": "preceding-criminal",
   "metadata": {
    "execution": {
     "iopub.execute_input": "2021-03-21T14:11:09.486699Z",
     "iopub.status.busy": "2021-03-21T14:11:09.485546Z",
     "iopub.status.idle": "2021-03-21T14:11:09.488977Z",
     "shell.execute_reply": "2021-03-21T14:11:09.489483Z"
    }
   },
   "outputs": [
    {
     "data": {
      "text/plain": [
       "('experimentData',\n",
       " 'assayData',\n",
       " 'phenoData',\n",
       " 'featureData',\n",
       " 'annotation',\n",
       " 'protocolData',\n",
       " '.__classVersion__')"
      ]
     },
     "execution_count": 1,
     "metadata": {},
     "output_type": "execute_result"
    }
   ],
   "source": [
    "tuple(eset.slotnames())"
   ]
  },
  {
   "cell_type": "markdown",
   "id": "copyrighted-brisbane",
   "metadata": {},
   "source": [
    "The attributes can also be accessed through the `rpy2` property `slots`.\n",
    "`slots` is a mapping between attributes names (keys) and their associated\n",
    "R object (values). It can be used as Python `dict`:"
   ]
  },
  {
   "cell_type": "code",
   "execution_count": 7,
   "id": "offensive-middle",
   "metadata": {
    "execution": {
     "iopub.execute_input": "2021-03-21T14:11:09.494503Z",
     "iopub.status.busy": "2021-03-21T14:11:09.493901Z",
     "iopub.status.idle": "2021-03-21T14:11:09.498084Z",
     "shell.execute_reply": "2021-03-21T14:11:09.498694Z"
    }
   },
   "outputs": [
    {
     "name": "stdout",
     "output_type": "stream",
     "text": [
      "('.__classVersion__', 'experimentData', 'assayData', 'phenoData', 'featureData', 'annotation', 'protocolData', 'class')\n"
     ]
    }
   ],
   "source": [
    "# print keys\n",
    "print(tuple(eset.slots.keys()))\n",
    "\n",
    "# fetch `phenoData`\n",
    "phdat = eset.slots['phenoData']\n",
    "\n",
    "# phdat is an S4 object itself\n",
    "pheno_dataf = phdat.slots['data']"
   ]
  },
  {
   "cell_type": "markdown",
   "id": "pacific-tumor",
   "metadata": {},
   "source": [
    "# Mapping S4 classes to Python classes\n",
    "\n",
    "Writing one's own Python class extending rpy2's `RS4` is straightforward.\n",
    "That class can be used wrap our `eset` object"
   ]
  },
  {
   "cell_type": "code",
   "execution_count": 8,
   "id": "lucky-cambodia",
   "metadata": {
    "execution": {
     "iopub.execute_input": "2021-03-21T14:11:09.503922Z",
     "iopub.status.busy": "2021-03-21T14:11:09.502507Z",
     "iopub.status.idle": "2021-03-21T14:11:09.504660Z",
     "shell.execute_reply": "2021-03-21T14:11:09.505169Z"
    }
   },
   "outputs": [],
   "source": [
    "\n",
    "from rpy2.robjects.methods import RS4   \n",
    "class ExpressionSet(RS4):\n",
    "    pass\n",
    "\n",
    "eset_myclass = ExpressionSet(eset)"
   ]
  },
  {
   "cell_type": "markdown",
   "id": "pediatric-shoot",
   "metadata": {},
   "source": [
    "## Custom conversion\n",
    "\n",
    "The conversion system can also be made aware our new class by customizing\n",
    "the handling of S4 objects.\n",
    "\n",
    "A simple implementation is a factory function that will conditionally wrap\n",
    "the object in our Python class `ExpressionSet`:"
   ]
  },
  {
   "cell_type": "code",
   "execution_count": 9,
   "id": "peripheral-machine",
   "metadata": {
    "execution": {
     "iopub.execute_input": "2021-03-21T14:11:09.511610Z",
     "iopub.status.busy": "2021-03-21T14:11:09.510555Z",
     "iopub.status.idle": "2021-03-21T14:11:09.514030Z",
     "shell.execute_reply": "2021-03-21T14:11:09.513489Z"
    }
   },
   "outputs": [
    {
     "data": {
      "text/plain": [
       "<__main__.ExpressionSet object at 0x7f49bd1b66c0> [RTYPES.S4SXP]\n",
       "R classes: ('ExpressionSet',)"
      ]
     },
     "execution_count": 1,
     "metadata": {},
     "output_type": "execute_result"
    }
   ],
   "source": [
    "def rpy2py_s4(obj):\n",
    "    if 'ExpressionSet' in obj.rclass:\n",
    "        res = ExpressionSet(obj)\n",
    "    else:\n",
    "        res = robj\n",
    "    return res\n",
    "\n",
    "# try it\n",
    "rpy2py_s4(eset)"
   ]
  },
  {
   "cell_type": "markdown",
   "id": "composed-stable",
   "metadata": {},
   "source": [
    "That function can be be register to a `Converter`:"
   ]
  },
  {
   "cell_type": "code",
   "execution_count": 10,
   "id": "annoying-chrome",
   "metadata": {
    "execution": {
     "iopub.execute_input": "2021-03-21T14:11:09.520411Z",
     "iopub.status.busy": "2021-03-21T14:11:09.519479Z",
     "iopub.status.idle": "2021-03-21T14:11:09.522729Z",
     "shell.execute_reply": "2021-03-21T14:11:09.523377Z"
    }
   },
   "outputs": [
    {
     "data": {
      "text/plain": [
       "<function __main__.rpy2py_s4(obj)>"
      ]
     },
     "execution_count": 1,
     "metadata": {},
     "output_type": "execute_result"
    }
   ],
   "source": [
    "from rpy2.robjects import default_converter\n",
    "from rpy2.robjects.conversion import Converter, localconverter\n",
    "\n",
    "my_converter = Converter('ExpressionSet-aware converter',\n",
    "                         template=default_converter)\n",
    "\n",
    "from rpy2.rinterface import SexpS4\n",
    "my_converter.rpy2py.register(SexpS4, rpy2py_s4)\n"
   ]
  },
  {
   "cell_type": "markdown",
   "id": "medical-yellow",
   "metadata": {},
   "source": [
    "When using that converter, the matching R objects are returned as\n",
    "instances of our Python class `ExpressionSet`:"
   ]
  },
  {
   "cell_type": "code",
   "execution_count": 11,
   "id": "novel-violin",
   "metadata": {
    "execution": {
     "iopub.execute_input": "2021-03-21T14:11:09.527363Z",
     "iopub.status.busy": "2021-03-21T14:11:09.526768Z",
     "iopub.status.idle": "2021-03-21T14:11:09.591358Z",
     "shell.execute_reply": "2021-03-21T14:11:09.591964Z"
    }
   },
   "outputs": [
    {
     "name": "stdout",
     "output_type": "stream",
     "text": [
      "<class '__main__.ExpressionSet'>\n"
     ]
    }
   ],
   "source": [
    "\n",
    "with localconverter(my_converter) as cv:\n",
    "    eset = biobase.ExpressionSet()\n",
    "    print(type(eset))"
   ]
  },
  {
   "cell_type": "markdown",
   "id": "competent-springer",
   "metadata": {},
   "source": [
    "## Class attributes\n",
    "\n",
    "The R attribute `assayData` can be accessed\n",
    "through the accessor method `exprs()` in R.\n",
    "We can make it a property in our Python class:"
   ]
  },
  {
   "cell_type": "code",
   "execution_count": 12,
   "id": "absent-mason",
   "metadata": {
    "execution": {
     "iopub.execute_input": "2021-03-21T14:11:09.599240Z",
     "iopub.status.busy": "2021-03-21T14:11:09.598062Z",
     "iopub.status.idle": "2021-03-21T14:11:09.601596Z",
     "shell.execute_reply": "2021-03-21T14:11:09.602110Z"
    }
   },
   "outputs": [
    {
     "data": {
      "text/plain": [
       "<rpy2.robjects.environments.Environment object at 0x7f49bfd03bc0> [RTYPES.ENVSXP]\n",
       "R classes: ('environment',)\n",
       "n items: 1"
      ]
     },
     "execution_count": 1,
     "metadata": {},
     "output_type": "execute_result"
    }
   ],
   "source": [
    "class ExpressionSet(RS4):\n",
    "    def _exprs_get(self):\n",
    "        return self.slots['assayData']\n",
    "    def _exprs_set(self, value):\n",
    "        self.slots['assayData'] = value\n",
    "    exprs = property(_exprs_get,\n",
    "                     _exprs_set,\n",
    "                     None,\n",
    "                     \"R attribute `exprs`\")\n",
    "eset_myclass = ExpressionSet(eset)\n",
    "\n",
    "eset_myclass.exprs"
   ]
  },
  {
   "cell_type": "markdown",
   "id": "favorite-complex",
   "metadata": {},
   "source": [
    "## Methods\n",
    "\n",
    "In R's S4 methods are generic functions served by a multiple dispatch system.\n",
    "\n",
    "A natural way to expose the S4 method to Python is to use the\n",
    "`multipledispatch` package:"
   ]
  },
  {
   "cell_type": "code",
   "execution_count": 13,
   "id": "finnish-harvard",
   "metadata": {
    "execution": {
     "iopub.execute_input": "2021-03-21T14:11:09.606928Z",
     "iopub.status.busy": "2021-03-21T14:11:09.606322Z",
     "iopub.status.idle": "2021-03-21T14:11:09.611450Z",
     "shell.execute_reply": "2021-03-21T14:11:09.611930Z"
    }
   },
   "outputs": [],
   "source": [
    "from multipledispatch import dispatch\n",
    "from functools import partial\n",
    "\n",
    "my_namespace = dict()\n",
    "dispatch = partial(dispatch, namespace=my_namespace)\n",
    "\n",
    "@dispatch(ExpressionSet)\n",
    "def rowmedians(eset,\n",
    "               na_rm=False):\n",
    "    res = biobase.rowMedians(eset,\n",
    "                             na_rm=na_rm)\n",
    "    return res\n",
    "\n",
    "res = rowmedians(eset_myclass)"
   ]
  },
  {
   "cell_type": "markdown",
   "id": "planned-ordinance",
   "metadata": {},
   "source": [
    "The R method `rowMedians` is also defined for matrices, which we can expose\n",
    "on the Python end as well:"
   ]
  },
  {
   "cell_type": "code",
   "execution_count": 14,
   "id": "advanced-encoding",
   "metadata": {
    "execution": {
     "iopub.execute_input": "2021-03-21T14:11:09.617281Z",
     "iopub.status.busy": "2021-03-21T14:11:09.615930Z",
     "iopub.status.idle": "2021-03-21T14:11:09.618009Z",
     "shell.execute_reply": "2021-03-21T14:11:09.618515Z"
    }
   },
   "outputs": [],
   "source": [
    "from rpy2.robjects.vectors import Matrix\n",
    "@dispatch(Matrix)\n",
    "def rowmedians(m,\n",
    "               na_rm=False):\n",
    "    res = biobase.rowMedians(m,\n",
    "                             na_rm=na_rm)\n",
    "    return res"
   ]
  },
  {
   "cell_type": "markdown",
   "id": "published-chamber",
   "metadata": {},
   "source": [
    "While this is working, one can note that we call the same R function\n",
    "`rowMedians()` in the package `Biobase` in both Python decorated\n",
    "functions. What is happening is that the dispatch is performed by R.\n",
    "\n",
    "If this is ever becoming a performance issue, the specific R function\n",
    "dispatched can be prefetched and explicitly called in the Python\n",
    "function. For example:"
   ]
  },
  {
   "cell_type": "code",
   "execution_count": 15,
   "id": "based-delaware",
   "metadata": {
    "execution": {
     "iopub.execute_input": "2021-03-21T14:11:09.624208Z",
     "iopub.status.busy": "2021-03-21T14:11:09.623596Z",
     "iopub.status.idle": "2021-03-21T14:11:09.626336Z",
     "shell.execute_reply": "2021-03-21T14:11:09.625811Z"
    }
   },
   "outputs": [],
   "source": [
    "from rpy2.robjects.methods import getmethod\n",
    "from rpy2.robjects.vectors import StrVector\n",
    "_rowmedians_matrix = getmethod(StrVector([\"rowMedians\"]),\n",
    "                               signature=StrVector([\"matrix\"]))\n",
    "@dispatch(Matrix)\n",
    "def rowmedians(m,\n",
    "               na_rm=False):\n",
    "    res = _rowmedians_matrix(m,\n",
    "                             na_rm=na_rm)\n",
    "    return res"
   ]
  }
 ],
 "metadata": {
  "language_info": {
   "codemirror_mode": {
    "name": "ipython",
    "version": 3
   },
   "file_extension": ".py",
   "mimetype": "text/x-python",
   "name": "python",
   "nbconvert_exporter": "python",
   "pygments_lexer": "ipython3",
   "version": "3.8.5"
  }
 },
 "nbformat": 4,
 "nbformat_minor": 5
}

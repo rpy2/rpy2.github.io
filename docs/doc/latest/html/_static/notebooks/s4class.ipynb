{
 "cells": [
  {
   "cell_type": "code",
   "execution_count": 1,
   "id": "71b352b7",
   "metadata": {
    "execution": {
     "iopub.execute_input": "2023-06-26T02:19:15.966413Z",
     "iopub.status.busy": "2023-06-26T02:19:15.965959Z",
     "iopub.status.idle": "2023-06-26T02:19:16.840634Z",
     "shell.execute_reply": "2023-06-26T02:19:16.839880Z"
    }
   },
   "outputs": [],
   "source": [
    "from functools import partial\n",
    "from rpy2.ipython import html\n",
    "html.html_rdataframe=partial(html.html_rdataframe, table_class=\"docutils\")"
   ]
  },
  {
   "cell_type": "markdown",
   "id": "27e15596",
   "metadata": {},
   "source": [
    "# Basic handling\n",
    "\n",
    "The S4 system is one the OOP systems in R.\n",
    "Its largest use might be in the Bioconductor collection of packages\n",
    "for bioinformatics and computational biology.\n",
    "\n",
    "We use the bioconductor `Biobase`:"
   ]
  },
  {
   "cell_type": "code",
   "execution_count": 2,
   "id": "eace5e0d",
   "metadata": {
    "execution": {
     "iopub.execute_input": "2023-06-26T02:19:16.844232Z",
     "iopub.status.busy": "2023-06-26T02:19:16.843790Z",
     "iopub.status.idle": "2023-06-26T02:19:17.286863Z",
     "shell.execute_reply": "2023-06-26T02:19:17.286163Z"
    }
   },
   "outputs": [],
   "source": [
    "from rpy2.robjects.packages import importr\n",
    "biobase = importr('Biobase')"
   ]
  },
  {
   "cell_type": "markdown",
   "id": "2a286f0d",
   "metadata": {},
   "source": [
    "The R package contains constructors for the S4 classes defined. They\n",
    "are simply functions, and can be used as such through `rpy2`:"
   ]
  },
  {
   "cell_type": "code",
   "execution_count": 3,
   "id": "cd8b61f7",
   "metadata": {
    "execution": {
     "iopub.execute_input": "2023-06-26T02:19:17.290177Z",
     "iopub.status.busy": "2023-06-26T02:19:17.289820Z",
     "iopub.status.idle": "2023-06-26T02:19:17.363558Z",
     "shell.execute_reply": "2023-06-26T02:19:17.362883Z"
    }
   },
   "outputs": [],
   "source": [
    "eset = biobase.ExpressionSet() "
   ]
  },
  {
   "cell_type": "markdown",
   "id": "88a5bcd9",
   "metadata": {},
   "source": [
    "The object `eset` is an R object of type `S4`:"
   ]
  },
  {
   "cell_type": "code",
   "execution_count": 4,
   "id": "eca2960c",
   "metadata": {
    "execution": {
     "iopub.execute_input": "2023-06-26T02:19:17.366819Z",
     "iopub.status.busy": "2023-06-26T02:19:17.366421Z",
     "iopub.status.idle": "2023-06-26T02:19:17.373594Z",
     "shell.execute_reply": "2023-06-26T02:19:17.372957Z"
    }
   },
   "outputs": [
    {
     "data": {
      "text/plain": [
       "rpy2.robjects.methods.RS4"
      ]
     },
     "execution_count": 4,
     "metadata": {},
     "output_type": "execute_result"
    }
   ],
   "source": [
    "type(eset)"
   ]
  },
  {
   "cell_type": "markdown",
   "id": "86655d7f",
   "metadata": {},
   "source": [
    "It has a class as well:"
   ]
  },
  {
   "cell_type": "code",
   "execution_count": 5,
   "id": "45632e6d",
   "metadata": {
    "execution": {
     "iopub.execute_input": "2023-06-26T02:19:17.377636Z",
     "iopub.status.busy": "2023-06-26T02:19:17.377287Z",
     "iopub.status.idle": "2023-06-26T02:19:17.381659Z",
     "shell.execute_reply": "2023-06-26T02:19:17.381060Z"
    }
   },
   "outputs": [
    {
     "data": {
      "text/plain": [
       "('ExpressionSet',)"
      ]
     },
     "execution_count": 5,
     "metadata": {},
     "output_type": "execute_result"
    }
   ],
   "source": [
    "tuple(eset.rclass)"
   ]
  },
  {
   "cell_type": "markdown",
   "id": "37a0e968",
   "metadata": {},
   "source": [
    "In R, objects attributes are also known as slots. The attribute names\n",
    "can be listed with:"
   ]
  },
  {
   "cell_type": "code",
   "execution_count": 6,
   "id": "436dabf3",
   "metadata": {
    "execution": {
     "iopub.execute_input": "2023-06-26T02:19:17.385143Z",
     "iopub.status.busy": "2023-06-26T02:19:17.384797Z",
     "iopub.status.idle": "2023-06-26T02:19:17.391425Z",
     "shell.execute_reply": "2023-06-26T02:19:17.390857Z"
    }
   },
   "outputs": [
    {
     "data": {
      "text/plain": [
       "('experimentData',\n",
       " 'assayData',\n",
       " 'phenoData',\n",
       " 'featureData',\n",
       " 'annotation',\n",
       " 'protocolData',\n",
       " '.__classVersion__')"
      ]
     },
     "execution_count": 6,
     "metadata": {},
     "output_type": "execute_result"
    }
   ],
   "source": [
    "tuple(eset.slotnames())"
   ]
  },
  {
   "cell_type": "markdown",
   "id": "74af7e21",
   "metadata": {},
   "source": [
    "The attributes can also be accessed through the `rpy2` property `slots`.\n",
    "`slots` is a mapping between attributes names (keys) and their associated\n",
    "R object (values). It can be used as Python `dict`:"
   ]
  },
  {
   "cell_type": "code",
   "execution_count": 7,
   "id": "f6028b0f",
   "metadata": {
    "execution": {
     "iopub.execute_input": "2023-06-26T02:19:17.394584Z",
     "iopub.status.busy": "2023-06-26T02:19:17.394096Z",
     "iopub.status.idle": "2023-06-26T02:19:17.401413Z",
     "shell.execute_reply": "2023-06-26T02:19:17.400827Z"
    }
   },
   "outputs": [
    {
     "name": "stdout",
     "output_type": "stream",
     "text": [
      "('.__classVersion__', 'experimentData', 'assayData', 'phenoData', 'featureData', 'annotation', 'protocolData', 'class')\n"
     ]
    }
   ],
   "source": [
    "# print keys\n",
    "print(tuple(eset.slots.keys()))\n",
    "\n",
    "# fetch `phenoData`\n",
    "phdat = eset.slots['phenoData']\n",
    "\n",
    "# phdat is an S4 object itself\n",
    "pheno_dataf = phdat.slots['data']"
   ]
  },
  {
   "cell_type": "markdown",
   "id": "743b2fd0",
   "metadata": {},
   "source": [
    "# Mapping S4 classes to Python classes\n",
    "\n",
    "Writing one's own Python class extending rpy2's `RS4` is straightforward.\n",
    "That class can be used wrap our `eset` object"
   ]
  },
  {
   "cell_type": "code",
   "execution_count": 8,
   "id": "1a29bc89",
   "metadata": {
    "execution": {
     "iopub.execute_input": "2023-06-26T02:19:17.404057Z",
     "iopub.status.busy": "2023-06-26T02:19:17.403842Z",
     "iopub.status.idle": "2023-06-26T02:19:17.407118Z",
     "shell.execute_reply": "2023-06-26T02:19:17.406472Z"
    }
   },
   "outputs": [],
   "source": [
    "\n",
    "from rpy2.robjects.methods import RS4   \n",
    "class ExpressionSet(RS4):\n",
    "    pass\n",
    "\n",
    "eset_myclass = ExpressionSet(eset)"
   ]
  },
  {
   "cell_type": "markdown",
   "id": "9e5752a6",
   "metadata": {},
   "source": [
    "## Custom conversion\n",
    "\n",
    "The conversion system can also be made aware our new class by customizing\n",
    "the handling of S4 objects.\n",
    "\n",
    "A simple implementation is a factory function that will conditionally wrap\n",
    "the object in our Python class `ExpressionSet`:"
   ]
  },
  {
   "cell_type": "code",
   "execution_count": 9,
   "id": "de20b163",
   "metadata": {
    "execution": {
     "iopub.execute_input": "2023-06-26T02:19:17.409775Z",
     "iopub.status.busy": "2023-06-26T02:19:17.409435Z",
     "iopub.status.idle": "2023-06-26T02:19:17.415008Z",
     "shell.execute_reply": "2023-06-26T02:19:17.414374Z"
    }
   },
   "outputs": [
    {
     "data": {
      "text/plain": [
       "<__main__.ExpressionSet object at 0x7fabd8872740> [RTYPES.S4SXP]\n",
       "R classes: ('ExpressionSet',)"
      ]
     },
     "execution_count": 9,
     "metadata": {},
     "output_type": "execute_result"
    }
   ],
   "source": [
    "def rpy2py_s4(obj):\n",
    "    if 'ExpressionSet' in obj.rclass:\n",
    "        res = ExpressionSet(obj)\n",
    "    else:\n",
    "        res = robj\n",
    "    return res\n",
    "\n",
    "# try it\n",
    "rpy2py_s4(eset)"
   ]
  },
  {
   "cell_type": "markdown",
   "id": "438ad57e",
   "metadata": {},
   "source": [
    "That function can be be register to a `Converter`:"
   ]
  },
  {
   "cell_type": "code",
   "execution_count": 10,
   "id": "d88d567a",
   "metadata": {
    "execution": {
     "iopub.execute_input": "2023-06-26T02:19:17.417616Z",
     "iopub.status.busy": "2023-06-26T02:19:17.417274Z",
     "iopub.status.idle": "2023-06-26T02:19:17.422373Z",
     "shell.execute_reply": "2023-06-26T02:19:17.421760Z"
    }
   },
   "outputs": [
    {
     "data": {
      "text/plain": [
       "<function __main__.rpy2py_s4(obj)>"
      ]
     },
     "execution_count": 10,
     "metadata": {},
     "output_type": "execute_result"
    }
   ],
   "source": [
    "from rpy2.robjects import default_converter\n",
    "from rpy2.robjects.conversion import Converter\n",
    "\n",
    "my_converter = Converter('ExpressionSet-aware converter',\n",
    "                         template=default_converter)\n",
    "\n",
    "from rpy2.rinterface import SexpS4\n",
    "my_converter.rpy2py.register(SexpS4, rpy2py_s4)\n"
   ]
  },
  {
   "cell_type": "markdown",
   "id": "ba7b70bf",
   "metadata": {},
   "source": [
    "When using that converter, the matching R objects are returned as\n",
    "instances of our Python class `ExpressionSet`:"
   ]
  },
  {
   "cell_type": "code",
   "execution_count": 11,
   "id": "6c9510d7",
   "metadata": {
    "execution": {
     "iopub.execute_input": "2023-06-26T02:19:17.425531Z",
     "iopub.status.busy": "2023-06-26T02:19:17.425191Z",
     "iopub.status.idle": "2023-06-26T02:19:17.469581Z",
     "shell.execute_reply": "2023-06-26T02:19:17.468850Z"
    }
   },
   "outputs": [
    {
     "name": "stdout",
     "output_type": "stream",
     "text": [
      "<class '__main__.ExpressionSet'>\n"
     ]
    }
   ],
   "source": [
    "\n",
    "with my_converter.context() as cv:\n",
    "    eset = biobase.ExpressionSet()\n",
    "    print(type(eset))"
   ]
  },
  {
   "cell_type": "markdown",
   "id": "df7b905f",
   "metadata": {},
   "source": [
    "## Class attributes\n",
    "\n",
    "The R attribute `assayData` can be accessed\n",
    "through the accessor method `exprs()` in R.\n",
    "We can make it a property in our Python class:"
   ]
  },
  {
   "cell_type": "code",
   "execution_count": 12,
   "id": "28b87883",
   "metadata": {
    "execution": {
     "iopub.execute_input": "2023-06-26T02:19:17.472692Z",
     "iopub.status.busy": "2023-06-26T02:19:17.472153Z",
     "iopub.status.idle": "2023-06-26T02:19:17.478949Z",
     "shell.execute_reply": "2023-06-26T02:19:17.478299Z"
    }
   },
   "outputs": [
    {
     "data": {
      "text/plain": [
       "<rpy2.robjects.environments.Environment object at 0x7fabd858fc40> [RTYPES.ENVSXP]\n",
       "R classes: ('environment',)\n",
       "n items: 1"
      ]
     },
     "execution_count": 12,
     "metadata": {},
     "output_type": "execute_result"
    }
   ],
   "source": [
    "class ExpressionSet(RS4):\n",
    "    def _exprs_get(self):\n",
    "        return self.slots['assayData']\n",
    "    def _exprs_set(self, value):\n",
    "        self.slots['assayData'] = value\n",
    "    exprs = property(_exprs_get,\n",
    "                     _exprs_set,\n",
    "                     None,\n",
    "                     \"R attribute `exprs`\")\n",
    "eset_myclass = ExpressionSet(eset)\n",
    "\n",
    "eset_myclass.exprs"
   ]
  },
  {
   "cell_type": "markdown",
   "id": "75363a31",
   "metadata": {},
   "source": [
    "## Methods\n",
    "\n",
    "In R's S4 methods are generic functions served by a multiple dispatch system.\n",
    "\n",
    "A natural way to expose the S4 method to Python is to use the\n",
    "`multipledispatch` package:"
   ]
  },
  {
   "cell_type": "code",
   "execution_count": 13,
   "id": "2c2920b5",
   "metadata": {
    "execution": {
     "iopub.execute_input": "2023-06-26T02:19:17.482125Z",
     "iopub.status.busy": "2023-06-26T02:19:17.481760Z",
     "iopub.status.idle": "2023-06-26T02:19:17.488349Z",
     "shell.execute_reply": "2023-06-26T02:19:17.487771Z"
    }
   },
   "outputs": [],
   "source": [
    "from multipledispatch import dispatch\n",
    "from functools import partial\n",
    "\n",
    "my_namespace = dict()\n",
    "dispatch = partial(dispatch, namespace=my_namespace)\n",
    "\n",
    "@dispatch(ExpressionSet)\n",
    "def rowmedians(eset,\n",
    "               na_rm=False):\n",
    "    res = biobase.rowMedians(eset,\n",
    "                             na_rm=na_rm)\n",
    "    return res\n",
    "\n",
    "res = rowmedians(eset_myclass)"
   ]
  },
  {
   "cell_type": "markdown",
   "id": "cc8b0d43",
   "metadata": {},
   "source": [
    "The R method `rowMedians` is also defined for matrices, which we can expose\n",
    "on the Python end as well:"
   ]
  },
  {
   "cell_type": "code",
   "execution_count": 14,
   "id": "f13d1fd3",
   "metadata": {
    "execution": {
     "iopub.execute_input": "2023-06-26T02:19:17.491432Z",
     "iopub.status.busy": "2023-06-26T02:19:17.490856Z",
     "iopub.status.idle": "2023-06-26T02:19:17.494704Z",
     "shell.execute_reply": "2023-06-26T02:19:17.494073Z"
    }
   },
   "outputs": [],
   "source": [
    "from rpy2.robjects.vectors import Matrix\n",
    "@dispatch(Matrix)\n",
    "def rowmedians(m,\n",
    "               na_rm=False):\n",
    "    res = biobase.rowMedians(m,\n",
    "                             na_rm=na_rm)\n",
    "    return res"
   ]
  },
  {
   "cell_type": "markdown",
   "id": "88ed49b0",
   "metadata": {},
   "source": [
    "While this is working, one can note that we call the same R function\n",
    "`rowMedians()` in the package `Biobase` in both Python decorated\n",
    "functions. What is happening is that the dispatch is performed by R.\n",
    "\n",
    "If this is ever becoming a performance issue, the specific R function\n",
    "dispatched can be prefetched and explicitly called in the Python\n",
    "function. For example:"
   ]
  },
  {
   "cell_type": "code",
   "execution_count": 15,
   "id": "dd184273",
   "metadata": {
    "execution": {
     "iopub.execute_input": "2023-06-26T02:19:17.497570Z",
     "iopub.status.busy": "2023-06-26T02:19:17.496990Z",
     "iopub.status.idle": "2023-06-26T02:19:17.501932Z",
     "shell.execute_reply": "2023-06-26T02:19:17.501326Z"
    }
   },
   "outputs": [],
   "source": [
    "from rpy2.robjects.methods import getmethod\n",
    "from rpy2.robjects.vectors import StrVector\n",
    "_rowmedians_matrix = getmethod(StrVector([\"rowMedians\"]),\n",
    "                               signature=StrVector([\"matrix\"]))\n",
    "@dispatch(Matrix)\n",
    "def rowmedians(m,\n",
    "               na_rm=False):\n",
    "    res = _rowmedians_matrix(m,\n",
    "                             na_rm=na_rm)\n",
    "    return res"
   ]
  }
 ],
 "metadata": {
  "language_info": {
   "codemirror_mode": {
    "name": "ipython",
    "version": 3
   },
   "file_extension": ".py",
   "mimetype": "text/x-python",
   "name": "python",
   "nbconvert_exporter": "python",
   "pygments_lexer": "ipython3",
   "version": "3.9.17"
  }
 },
 "nbformat": 4,
 "nbformat_minor": 5
}

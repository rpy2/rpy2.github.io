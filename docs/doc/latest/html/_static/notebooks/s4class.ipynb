{
 "cells": [
  {
   "cell_type": "code",
   "execution_count": 1,
   "id": "a30bb914",
   "metadata": {
    "execution": {
     "iopub.execute_input": "2022-04-09T15:00:49.944033Z",
     "iopub.status.busy": "2022-04-09T15:00:49.943781Z",
     "iopub.status.idle": "2022-04-09T15:00:50.918386Z",
     "shell.execute_reply": "2022-04-09T15:00:50.917694Z"
    }
   },
   "outputs": [],
   "source": [
    "from functools import partial\n",
    "from rpy2.ipython import html\n",
    "html.html_rdataframe=partial(html.html_rdataframe, table_class=\"docutils\")"
   ]
  },
  {
   "cell_type": "markdown",
   "id": "78d1b7fd",
   "metadata": {},
   "source": [
    "# Basic handling\n",
    "\n",
    "The S4 system is one the OOP systems in R.\n",
    "Its largest use might in the Bioconductor collection of packages\n",
    "for bioinformatics and computational biology.\n",
    "\n",
    "We use the bioconductor `Biobase`:"
   ]
  },
  {
   "cell_type": "code",
   "execution_count": 2,
   "id": "c4caf7d0",
   "metadata": {
    "execution": {
     "iopub.execute_input": "2022-04-09T15:00:50.922773Z",
     "iopub.status.busy": "2022-04-09T15:00:50.922458Z",
     "iopub.status.idle": "2022-04-09T15:00:51.478573Z",
     "shell.execute_reply": "2022-04-09T15:00:51.477906Z"
    }
   },
   "outputs": [],
   "source": [
    "from rpy2.robjects.packages import importr\n",
    "biobase = importr('Biobase')"
   ]
  },
  {
   "cell_type": "markdown",
   "id": "10d8f6d6",
   "metadata": {},
   "source": [
    "The R package contains constructors for the S4 classes defined. They\n",
    "are simply functions, and can be used as such through `rpy2`:"
   ]
  },
  {
   "cell_type": "code",
   "execution_count": 3,
   "id": "86693b7b",
   "metadata": {
    "execution": {
     "iopub.execute_input": "2022-04-09T15:00:51.482641Z",
     "iopub.status.busy": "2022-04-09T15:00:51.482298Z",
     "iopub.status.idle": "2022-04-09T15:00:51.567664Z",
     "shell.execute_reply": "2022-04-09T15:00:51.566962Z"
    }
   },
   "outputs": [],
   "source": [
    "eset = biobase.ExpressionSet() "
   ]
  },
  {
   "cell_type": "markdown",
   "id": "7e2cf55e",
   "metadata": {},
   "source": [
    "The object `eset` is an R object of type `S4`:"
   ]
  },
  {
   "cell_type": "code",
   "execution_count": 4,
   "id": "95786060",
   "metadata": {
    "execution": {
     "iopub.execute_input": "2022-04-09T15:00:51.571647Z",
     "iopub.status.busy": "2022-04-09T15:00:51.571078Z",
     "iopub.status.idle": "2022-04-09T15:00:51.583420Z",
     "shell.execute_reply": "2022-04-09T15:00:51.582824Z"
    }
   },
   "outputs": [
    {
     "data": {
      "text/plain": [
       "rpy2.robjects.methods.RS4"
      ]
     },
     "execution_count": 4,
     "metadata": {},
     "output_type": "execute_result"
    }
   ],
   "source": [
    "type(eset)"
   ]
  },
  {
   "cell_type": "markdown",
   "id": "3dfa2f46",
   "metadata": {},
   "source": [
    "It has a class as well:"
   ]
  },
  {
   "cell_type": "code",
   "execution_count": 5,
   "id": "32d2c0ce",
   "metadata": {
    "execution": {
     "iopub.execute_input": "2022-04-09T15:00:51.586389Z",
     "iopub.status.busy": "2022-04-09T15:00:51.585997Z",
     "iopub.status.idle": "2022-04-09T15:00:51.592049Z",
     "shell.execute_reply": "2022-04-09T15:00:51.591565Z"
    }
   },
   "outputs": [
    {
     "data": {
      "text/plain": [
       "('ExpressionSet',)"
      ]
     },
     "execution_count": 5,
     "metadata": {},
     "output_type": "execute_result"
    }
   ],
   "source": [
    "tuple(eset.rclass)"
   ]
  },
  {
   "cell_type": "markdown",
   "id": "d3b1a930",
   "metadata": {},
   "source": [
    "In R, objects attributes are also known as slots. The attribute names\n",
    "can be listed with:"
   ]
  },
  {
   "cell_type": "code",
   "execution_count": 6,
   "id": "765befac",
   "metadata": {
    "execution": {
     "iopub.execute_input": "2022-04-09T15:00:51.594921Z",
     "iopub.status.busy": "2022-04-09T15:00:51.594639Z",
     "iopub.status.idle": "2022-04-09T15:00:51.599190Z",
     "shell.execute_reply": "2022-04-09T15:00:51.598648Z"
    }
   },
   "outputs": [
    {
     "data": {
      "text/plain": [
       "('experimentData',\n",
       " 'assayData',\n",
       " 'phenoData',\n",
       " 'featureData',\n",
       " 'annotation',\n",
       " 'protocolData',\n",
       " '.__classVersion__')"
      ]
     },
     "execution_count": 6,
     "metadata": {},
     "output_type": "execute_result"
    }
   ],
   "source": [
    "tuple(eset.slotnames())"
   ]
  },
  {
   "cell_type": "markdown",
   "id": "cc62fa95",
   "metadata": {},
   "source": [
    "The attributes can also be accessed through the `rpy2` property `slots`.\n",
    "`slots` is a mapping between attributes names (keys) and their associated\n",
    "R object (values). It can be used as Python `dict`:"
   ]
  },
  {
   "cell_type": "code",
   "execution_count": 7,
   "id": "e58bed97",
   "metadata": {
    "execution": {
     "iopub.execute_input": "2022-04-09T15:00:51.602109Z",
     "iopub.status.busy": "2022-04-09T15:00:51.601591Z",
     "iopub.status.idle": "2022-04-09T15:00:51.607975Z",
     "shell.execute_reply": "2022-04-09T15:00:51.607450Z"
    }
   },
   "outputs": [
    {
     "name": "stdout",
     "output_type": "stream",
     "text": [
      "('.__classVersion__', 'experimentData', 'assayData', 'phenoData', 'featureData', 'annotation', 'protocolData', 'class')\n"
     ]
    }
   ],
   "source": [
    "# print keys\n",
    "print(tuple(eset.slots.keys()))\n",
    "\n",
    "# fetch `phenoData`\n",
    "phdat = eset.slots['phenoData']\n",
    "\n",
    "# phdat is an S4 object itself\n",
    "pheno_dataf = phdat.slots['data']"
   ]
  },
  {
   "cell_type": "markdown",
   "id": "bd27bd5d",
   "metadata": {},
   "source": [
    "# Mapping S4 classes to Python classes\n",
    "\n",
    "Writing one's own Python class extending rpy2's `RS4` is straightforward.\n",
    "That class can be used wrap our `eset` object"
   ]
  },
  {
   "cell_type": "code",
   "execution_count": 8,
   "id": "d6e0fce3",
   "metadata": {
    "execution": {
     "iopub.execute_input": "2022-04-09T15:00:51.610801Z",
     "iopub.status.busy": "2022-04-09T15:00:51.610530Z",
     "iopub.status.idle": "2022-04-09T15:00:51.614878Z",
     "shell.execute_reply": "2022-04-09T15:00:51.614361Z"
    }
   },
   "outputs": [],
   "source": [
    "\n",
    "from rpy2.robjects.methods import RS4   \n",
    "class ExpressionSet(RS4):\n",
    "    pass\n",
    "\n",
    "eset_myclass = ExpressionSet(eset)"
   ]
  },
  {
   "cell_type": "markdown",
   "id": "1108834c",
   "metadata": {},
   "source": [
    "## Custom conversion\n",
    "\n",
    "The conversion system can also be made aware our new class by customizing\n",
    "the handling of S4 objects.\n",
    "\n",
    "A simple implementation is a factory function that will conditionally wrap\n",
    "the object in our Python class `ExpressionSet`:"
   ]
  },
  {
   "cell_type": "code",
   "execution_count": 9,
   "id": "712bf89b",
   "metadata": {
    "execution": {
     "iopub.execute_input": "2022-04-09T15:00:51.617653Z",
     "iopub.status.busy": "2022-04-09T15:00:51.617384Z",
     "iopub.status.idle": "2022-04-09T15:00:51.624318Z",
     "shell.execute_reply": "2022-04-09T15:00:51.623832Z"
    }
   },
   "outputs": [
    {
     "data": {
      "text/plain": [
       "<__main__.ExpressionSet object at 0x7fee34e06cc0> [RTYPES.S4SXP]\n",
       "R classes: ('ExpressionSet',)"
      ]
     },
     "execution_count": 9,
     "metadata": {},
     "output_type": "execute_result"
    }
   ],
   "source": [
    "def rpy2py_s4(obj):\n",
    "    if 'ExpressionSet' in obj.rclass:\n",
    "        res = ExpressionSet(obj)\n",
    "    else:\n",
    "        res = robj\n",
    "    return res\n",
    "\n",
    "# try it\n",
    "rpy2py_s4(eset)"
   ]
  },
  {
   "cell_type": "markdown",
   "id": "a6f0ded8",
   "metadata": {},
   "source": [
    "That function can be be register to a `Converter`:"
   ]
  },
  {
   "cell_type": "code",
   "execution_count": 10,
   "id": "04c2368c",
   "metadata": {
    "execution": {
     "iopub.execute_input": "2022-04-09T15:00:51.627128Z",
     "iopub.status.busy": "2022-04-09T15:00:51.626855Z",
     "iopub.status.idle": "2022-04-09T15:00:51.633715Z",
     "shell.execute_reply": "2022-04-09T15:00:51.633222Z"
    }
   },
   "outputs": [
    {
     "data": {
      "text/plain": [
       "<function __main__.rpy2py_s4(obj)>"
      ]
     },
     "execution_count": 10,
     "metadata": {},
     "output_type": "execute_result"
    }
   ],
   "source": [
    "from rpy2.robjects import default_converter\n",
    "from rpy2.robjects.conversion import Converter, localconverter\n",
    "\n",
    "my_converter = Converter('ExpressionSet-aware converter',\n",
    "                         template=default_converter)\n",
    "\n",
    "from rpy2.rinterface import SexpS4\n",
    "my_converter.rpy2py.register(SexpS4, rpy2py_s4)\n"
   ]
  },
  {
   "cell_type": "markdown",
   "id": "ab4db777",
   "metadata": {},
   "source": [
    "When using that converter, the matching R objects are returned as\n",
    "instances of our Python class `ExpressionSet`:"
   ]
  },
  {
   "cell_type": "code",
   "execution_count": 11,
   "id": "0c14a9f3",
   "metadata": {
    "execution": {
     "iopub.execute_input": "2022-04-09T15:00:51.636704Z",
     "iopub.status.busy": "2022-04-09T15:00:51.636288Z",
     "iopub.status.idle": "2022-04-09T15:00:51.689577Z",
     "shell.execute_reply": "2022-04-09T15:00:51.688802Z"
    }
   },
   "outputs": [
    {
     "name": "stdout",
     "output_type": "stream",
     "text": [
      "<class '__main__.ExpressionSet'>\n"
     ]
    }
   ],
   "source": [
    "\n",
    "with localconverter(my_converter) as cv:\n",
    "    eset = biobase.ExpressionSet()\n",
    "    print(type(eset))"
   ]
  },
  {
   "cell_type": "markdown",
   "id": "a88d60bf",
   "metadata": {},
   "source": [
    "## Class attributes\n",
    "\n",
    "The R attribute `assayData` can be accessed\n",
    "through the accessor method `exprs()` in R.\n",
    "We can make it a property in our Python class:"
   ]
  },
  {
   "cell_type": "code",
   "execution_count": 12,
   "id": "f9365fd6",
   "metadata": {
    "execution": {
     "iopub.execute_input": "2022-04-09T15:00:51.693198Z",
     "iopub.status.busy": "2022-04-09T15:00:51.692731Z",
     "iopub.status.idle": "2022-04-09T15:00:51.702049Z",
     "shell.execute_reply": "2022-04-09T15:00:51.701525Z"
    }
   },
   "outputs": [
    {
     "data": {
      "text/plain": [
       "<rpy2.robjects.environments.Environment object at 0x7fee34dc77c0> [RTYPES.ENVSXP]\n",
       "R classes: ('environment',)\n",
       "n items: 1"
      ]
     },
     "execution_count": 12,
     "metadata": {},
     "output_type": "execute_result"
    }
   ],
   "source": [
    "class ExpressionSet(RS4):\n",
    "    def _exprs_get(self):\n",
    "        return self.slots['assayData']\n",
    "    def _exprs_set(self, value):\n",
    "        self.slots['assayData'] = value\n",
    "    exprs = property(_exprs_get,\n",
    "                     _exprs_set,\n",
    "                     None,\n",
    "                     \"R attribute `exprs`\")\n",
    "eset_myclass = ExpressionSet(eset)\n",
    "\n",
    "eset_myclass.exprs"
   ]
  },
  {
   "cell_type": "markdown",
   "id": "a7709a62",
   "metadata": {},
   "source": [
    "## Methods\n",
    "\n",
    "In R's S4 methods are generic functions served by a multiple dispatch system.\n",
    "\n",
    "A natural way to expose the S4 method to Python is to use the\n",
    "`multipledispatch` package:"
   ]
  },
  {
   "cell_type": "code",
   "execution_count": 13,
   "id": "30c0229a",
   "metadata": {
    "execution": {
     "iopub.execute_input": "2022-04-09T15:00:51.705346Z",
     "iopub.status.busy": "2022-04-09T15:00:51.704851Z",
     "iopub.status.idle": "2022-04-09T15:00:51.712905Z",
     "shell.execute_reply": "2022-04-09T15:00:51.712393Z"
    }
   },
   "outputs": [],
   "source": [
    "from multipledispatch import dispatch\n",
    "from functools import partial\n",
    "\n",
    "my_namespace = dict()\n",
    "dispatch = partial(dispatch, namespace=my_namespace)\n",
    "\n",
    "@dispatch(ExpressionSet)\n",
    "def rowmedians(eset,\n",
    "               na_rm=False):\n",
    "    res = biobase.rowMedians(eset,\n",
    "                             na_rm=na_rm)\n",
    "    return res\n",
    "\n",
    "res = rowmedians(eset_myclass)"
   ]
  },
  {
   "cell_type": "markdown",
   "id": "b8a2eda9",
   "metadata": {},
   "source": [
    "The R method `rowMedians` is also defined for matrices, which we can expose\n",
    "on the Python end as well:"
   ]
  },
  {
   "cell_type": "code",
   "execution_count": 14,
   "id": "abf68dd6",
   "metadata": {
    "execution": {
     "iopub.execute_input": "2022-04-09T15:00:51.716251Z",
     "iopub.status.busy": "2022-04-09T15:00:51.715878Z",
     "iopub.status.idle": "2022-04-09T15:00:51.720528Z",
     "shell.execute_reply": "2022-04-09T15:00:51.720023Z"
    }
   },
   "outputs": [],
   "source": [
    "from rpy2.robjects.vectors import Matrix\n",
    "@dispatch(Matrix)\n",
    "def rowmedians(m,\n",
    "               na_rm=False):\n",
    "    res = biobase.rowMedians(m,\n",
    "                             na_rm=na_rm)\n",
    "    return res"
   ]
  },
  {
   "cell_type": "markdown",
   "id": "76fe94ad",
   "metadata": {},
   "source": [
    "While this is working, one can note that we call the same R function\n",
    "`rowMedians()` in the package `Biobase` in both Python decorated\n",
    "functions. What is happening is that the dispatch is performed by R.\n",
    "\n",
    "If this is ever becoming a performance issue, the specific R function\n",
    "dispatched can be prefetched and explicitly called in the Python\n",
    "function. For example:"
   ]
  },
  {
   "cell_type": "code",
   "execution_count": 15,
   "id": "b8973ed0",
   "metadata": {
    "execution": {
     "iopub.execute_input": "2022-04-09T15:00:51.724181Z",
     "iopub.status.busy": "2022-04-09T15:00:51.722999Z",
     "iopub.status.idle": "2022-04-09T15:00:51.729505Z",
     "shell.execute_reply": "2022-04-09T15:00:51.728994Z"
    }
   },
   "outputs": [],
   "source": [
    "from rpy2.robjects.methods import getmethod\n",
    "from rpy2.robjects.vectors import StrVector\n",
    "_rowmedians_matrix = getmethod(StrVector([\"rowMedians\"]),\n",
    "                               signature=StrVector([\"matrix\"]))\n",
    "@dispatch(Matrix)\n",
    "def rowmedians(m,\n",
    "               na_rm=False):\n",
    "    res = _rowmedians_matrix(m,\n",
    "                             na_rm=na_rm)\n",
    "    return res"
   ]
  }
 ],
 "metadata": {
  "language_info": {
   "codemirror_mode": {
    "name": "ipython",
    "version": 3
   },
   "file_extension": ".py",
   "mimetype": "text/x-python",
   "name": "python",
   "nbconvert_exporter": "python",
   "pygments_lexer": "ipython3",
   "version": "3.8.10"
  }
 },
 "nbformat": 4,
 "nbformat_minor": 5
}

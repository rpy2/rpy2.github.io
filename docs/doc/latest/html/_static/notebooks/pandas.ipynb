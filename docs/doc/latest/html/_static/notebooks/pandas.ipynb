{
 "cells": [
  {
   "cell_type": "code",
   "execution_count": 1,
   "id": "22849b76",
   "metadata": {
    "execution": {
     "iopub.execute_input": "2025-05-23T19:02:41.315780Z",
     "iopub.status.busy": "2025-05-23T19:02:41.315588Z",
     "iopub.status.idle": "2025-05-23T19:02:42.342816Z",
     "shell.execute_reply": "2025-05-23T19:02:42.342259Z"
    }
   },
   "outputs": [
    {
     "name": "stderr",
     "output_type": "stream",
     "text": [
      "/opt/hostedtoolcache/Python/3.10.17/x64/lib/python3.10/site-packages/rpy2/rinterface/__init__.py:1185: UserWarning: Environment variable \"LD_LIBRARY_PATH\" redefined by R and overriding existing variable. Current: \"/opt/R/4.5.0/lib/R/lib:/usr/local/lib:/usr/lib/x86_64-linux-gnu:/usr/lib/jvm/temurin-17-jdk-amd64/lib/server:/opt/hostedtoolcache/Python/3.10.17/x64/lib:/opt/hostedtoolcache/Python/3.10.17/x64/lib\", R: \"/opt/R/4.5.0/lib/R/lib:/usr/local/lib:/usr/lib/x86_64-linux-gnu:/usr/lib/jvm/temurin-17-jdk-amd64/lib/server:/opt/R/4.5.0/lib/R/lib:/usr/local/lib:/usr/lib/x86_64-linux-gnu:/usr/lib/jvm/temurin-17-jdk-amd64/lib/server:/opt/hostedtoolcache/Python/3.10.17/x64/lib:/opt/hostedtoolcache/Python/3.10.17/x64/lib\"\n",
      "  warnings.warn(\n",
      "/opt/hostedtoolcache/Python/3.10.17/x64/lib/python3.10/site-packages/rpy2/rinterface/__init__.py:1185: UserWarning: Environment variable \"PWD\" redefined by R and overriding existing variable. Current: \"/home/runner/work/rpy2/rpy2/doc\", R: \"/home/runner/work/rpy2/rpy2/doc/notebooks\"\n",
      "  warnings.warn(\n"
     ]
    },
    {
     "name": "stderr",
     "output_type": "stream",
     "text": [
      "/opt/hostedtoolcache/Python/3.10.17/x64/lib/python3.10/site-packages/rpy2/rinterface/__init__.py:1185: UserWarning: Environment variable \"LD_LIBRARY_PATH\" redefined by R and overriding existing variable. Current: \"/opt/R/4.5.0/lib/R/lib:/usr/local/lib:/usr/lib/x86_64-linux-gnu:/usr/lib/jvm/temurin-17-jdk-amd64/lib/server:/opt/R/4.5.0/lib/R/lib:/usr/local/lib:/usr/lib/x86_64-linux-gnu:/usr/lib/jvm/temurin-17-jdk-amd64/lib/server:/opt/hostedtoolcache/Python/3.10.17/x64/lib:/opt/hostedtoolcache/Python/3.10.17/x64/lib\", R: \"/opt/R/4.5.0/lib/R/lib:/usr/local/lib:/usr/lib/x86_64-linux-gnu:/usr/lib/jvm/temurin-17-jdk-amd64/lib/server:/opt/R/4.5.0/lib/R/lib:/usr/local/lib:/usr/lib/x86_64-linux-gnu:/usr/lib/jvm/temurin-17-jdk-amd64/lib/server:/opt/R/4.5.0/lib/R/lib:/usr/local/lib:/usr/lib/x86_64-linux-gnu:/usr/lib/jvm/temurin-17-jdk-amd64/lib/server:/opt/hostedtoolcache/Python/3.10.17/x64/lib:/opt/hostedtoolcache/Python/3.10.17/x64/lib\"\n",
      "  warnings.warn(\n",
      "/opt/hostedtoolcache/Python/3.10.17/x64/lib/python3.10/site-packages/rpy2/rinterface/__init__.py:1185: UserWarning: Environment variable \"R_SESSION_TMPDIR\" redefined by R and overriding existing variable. Current: \"/tmp/RtmpbSAW2e\", R: \"/tmp/RtmpUkzsmo\"\n",
      "  warnings.warn(\n"
     ]
    }
   ],
   "source": [
    "from functools import partial\n",
    "from rpy2.ipython import html\n",
    "html.html_rdataframe=partial(html.html_rdataframe, table_class=\"docutils\")"
   ]
  },
  {
   "cell_type": "markdown",
   "id": "a4ef19fd",
   "metadata": {},
   "source": [
    "# `R` and `pandas` data frames\n",
    "\n",
    "R `data.frame` and :class:`pandas.DataFrame` objects share a lot of\n",
    "conceptual similarities, and :mod:`pandas` chose to use the class name\n",
    "`DataFrame` after R objects.\n",
    "\n",
    "In a nutshell, both are sequences of vectors (or arrays) of consistent\n",
    "length or size for the first dimension (the \"number of rows\").\n",
    "if coming from the database world, an other way to look at them is\n",
    "column-oriented data tables, or data table API.\n",
    "\n",
    "rpy2 is providing an interface between Python and R, and a convenience\n",
    "conversion layer between :class:`rpy2.robjects.vectors.DataFrame` and\n",
    ":class:`pandas.DataFrame` objects, implemented in\n",
    ":mod:`rpy2.robjects.pandas2ri`."
   ]
  },
  {
   "cell_type": "code",
   "execution_count": 2,
   "id": "fe6f8645",
   "metadata": {
    "execution": {
     "iopub.execute_input": "2025-05-23T19:02:42.345158Z",
     "iopub.status.busy": "2025-05-23T19:02:42.344726Z",
     "iopub.status.idle": "2025-05-23T19:02:42.347963Z",
     "shell.execute_reply": "2025-05-23T19:02:42.347439Z"
    }
   },
   "outputs": [],
   "source": [
    "import pandas as pd\n",
    "import rpy2.robjects as ro\n",
    "from rpy2.robjects.packages import importr \n",
    "from rpy2.robjects import pandas2ri"
   ]
  },
  {
   "cell_type": "markdown",
   "id": "9920397f",
   "metadata": {},
   "source": [
    "## From `pandas` to `R`\n",
    "\n",
    "Pandas data frame:"
   ]
  },
  {
   "cell_type": "code",
   "execution_count": 3,
   "id": "1dfe85d0",
   "metadata": {
    "execution": {
     "iopub.execute_input": "2025-05-23T19:02:42.349726Z",
     "iopub.status.busy": "2025-05-23T19:02:42.349551Z",
     "iopub.status.idle": "2025-05-23T19:02:42.359482Z",
     "shell.execute_reply": "2025-05-23T19:02:42.358818Z"
    }
   },
   "outputs": [
    {
     "data": {
      "text/html": [
       "<div>\n",
       "<style scoped>\n",
       "    .dataframe tbody tr th:only-of-type {\n",
       "        vertical-align: middle;\n",
       "    }\n",
       "\n",
       "    .dataframe tbody tr th {\n",
       "        vertical-align: top;\n",
       "    }\n",
       "\n",
       "    .dataframe thead th {\n",
       "        text-align: right;\n",
       "    }\n",
       "</style>\n",
       "<table border=\"1\" class=\"dataframe\">\n",
       "  <thead>\n",
       "    <tr style=\"text-align: right;\">\n",
       "      <th></th>\n",
       "      <th>int_values</th>\n",
       "      <th>str_values</th>\n",
       "    </tr>\n",
       "  </thead>\n",
       "  <tbody>\n",
       "    <tr>\n",
       "      <th>0</th>\n",
       "      <td>1</td>\n",
       "      <td>abc</td>\n",
       "    </tr>\n",
       "    <tr>\n",
       "      <th>1</th>\n",
       "      <td>2</td>\n",
       "      <td>def</td>\n",
       "    </tr>\n",
       "    <tr>\n",
       "      <th>2</th>\n",
       "      <td>3</td>\n",
       "      <td>ghi</td>\n",
       "    </tr>\n",
       "  </tbody>\n",
       "</table>\n",
       "</div>"
      ],
      "text/plain": [
       "   int_values str_values\n",
       "0           1        abc\n",
       "1           2        def\n",
       "2           3        ghi"
      ]
     },
     "execution_count": 3,
     "metadata": {},
     "output_type": "execute_result"
    }
   ],
   "source": [
    "pd_df = pd.DataFrame({'int_values': [1,2,3],\n",
    "                      'str_values': ['abc', 'def', 'ghi']})\n",
    "\n",
    "pd_df"
   ]
  },
  {
   "cell_type": "markdown",
   "id": "5430c8ed",
   "metadata": {},
   "source": [
    "R data frame converted from a `pandas` data frame:"
   ]
  },
  {
   "cell_type": "code",
   "execution_count": 4,
   "id": "aca9be13",
   "metadata": {
    "execution": {
     "iopub.execute_input": "2025-05-23T19:02:42.361558Z",
     "iopub.status.busy": "2025-05-23T19:02:42.361197Z",
     "iopub.status.idle": "2025-05-23T19:02:42.369832Z",
     "shell.execute_reply": "2025-05-23T19:02:42.369217Z"
    }
   },
   "outputs": [
    {
     "data": {
      "text/html": [
       "\n",
       "        <span>R/rpy2 DataFrame (3 x 2)</span>\n",
       "        <table>\n",
       "          <thead>\n",
       "            <tr>\n",
       "              \n",
       "              <th>int_values</th>\n",
       "              \n",
       "              <th>str_values</th>\n",
       "              \n",
       "            </tr>\n",
       "          </thead>\n",
       "          <tbody>\n",
       "          \n",
       "          <tr>\n",
       "            \n",
       "            <td>\n",
       "              ...\n",
       "            </td>\n",
       "            \n",
       "            <td>\n",
       "              ...\n",
       "            </td>\n",
       "            \n",
       "          </tr>\n",
       "          \n",
       "          </tbody>\n",
       "        </table>\n",
       "    "
      ],
      "text/plain": [
       "<rpy2.robjects.vectors.DataFrame object at 0x7fb0ca587480> [RTYPES.VECSXP]\n",
       "R classes: ('data.frame',)\n",
       "[IntSexpVector, StrSexpVector]\n",
       "  int_values: <class 'rpy2.rinterface.IntSexpVector'>\n",
       "  <rpy2.rinterface.IntSexpVector object at 0x7fb0ca745600> [RTYPES.INTSXP]\n",
       "  str_values: <class 'rpy2.rinterface_lib.sexp.StrSexpVector'>\n",
       "  <rpy2.rinterface_lib.sexp.StrSexpVector object at 0x7fb0cb288e80> [RTYPES.STRSXP]"
      ]
     },
     "execution_count": 4,
     "metadata": {},
     "output_type": "execute_result"
    }
   ],
   "source": [
    "with (ro.default_converter + pandas2ri.converter).context():\n",
    "  r_from_pd_df = ro.conversion.get_conversion().py2rpy(pd_df)\n",
    "\n",
    "r_from_pd_df"
   ]
  },
  {
   "cell_type": "markdown",
   "id": "9387f3bf",
   "metadata": {},
   "source": [
    "The conversion is automatically happening when calling R functions.\n",
    "For example, when calling the R function `base::summary`:"
   ]
  },
  {
   "cell_type": "code",
   "execution_count": 5,
   "id": "c5f46c73",
   "metadata": {
    "execution": {
     "iopub.execute_input": "2025-05-23T19:02:42.371968Z",
     "iopub.status.busy": "2025-05-23T19:02:42.371591Z",
     "iopub.status.idle": "2025-05-23T19:02:42.983824Z",
     "shell.execute_reply": "2025-05-23T19:02:42.983215Z"
    }
   },
   "outputs": [
    {
     "name": "stdout",
     "output_type": "stream",
     "text": [
      "   int_values   str_values       \n",
      " Min.   :1.0   Length:3          \n",
      " 1st Qu.:1.5   Class :character  \n",
      " Median :2.0   Mode  :character  \n",
      " Mean   :2.0                     \n",
      " 3rd Qu.:2.5                     \n",
      " Max.   :3.0                     \n",
      "\n"
     ]
    }
   ],
   "source": [
    "base = importr('base')\n",
    "\n",
    "with (ro.default_converter + pandas2ri.converter).context():\n",
    "  df_summary = base.summary(pd_df)\n",
    "print(df_summary)"
   ]
  },
  {
   "cell_type": "markdown",
   "id": "4fc36863",
   "metadata": {},
   "source": [
    "Note that a `ContextManager` is used to limit the scope of the\n",
    "conversion. Without it, rpy2 will not know how to convert a pandas\n",
    "data frame:"
   ]
  },
  {
   "cell_type": "code",
   "execution_count": 6,
   "id": "58efd764",
   "metadata": {
    "execution": {
     "iopub.execute_input": "2025-05-23T19:02:42.986033Z",
     "iopub.status.busy": "2025-05-23T19:02:42.985631Z",
     "iopub.status.idle": "2025-05-23T19:02:42.989251Z",
     "shell.execute_reply": "2025-05-23T19:02:42.988668Z"
    }
   },
   "outputs": [
    {
     "name": "stdout",
     "output_type": "stream",
     "text": [
      "NotImplementedError:\n",
      "Conversion 'py2rpy' not defined for objects of type '<class 'pandas.core.frame.DataFrame'>'\n"
     ]
    }
   ],
   "source": [
    "try:\n",
    "  df_summary = base.summary(pd_df)\n",
    "except NotImplementedError as nie:\n",
    "  print('NotImplementedError:')\n",
    "  print(nie)"
   ]
  },
  {
   "cell_type": "markdown",
   "id": "d83035b7",
   "metadata": {},
   "source": [
    "## From `R` to `pandas`\n",
    "\n",
    "Starting from an R data frame this time:"
   ]
  },
  {
   "cell_type": "code",
   "execution_count": 7,
   "id": "b4f81ad0",
   "metadata": {
    "execution": {
     "iopub.execute_input": "2025-05-23T19:02:42.991162Z",
     "iopub.status.busy": "2025-05-23T19:02:42.990799Z",
     "iopub.status.idle": "2025-05-23T19:02:42.997033Z",
     "shell.execute_reply": "2025-05-23T19:02:42.996428Z"
    }
   },
   "outputs": [
    {
     "data": {
      "text/html": [
       "\n",
       "        <span>R/rpy2 DataFrame (3 x 2)</span>\n",
       "        <table>\n",
       "          <thead>\n",
       "            <tr>\n",
       "              \n",
       "              <th>int_values</th>\n",
       "              \n",
       "              <th>str_values</th>\n",
       "              \n",
       "            </tr>\n",
       "          </thead>\n",
       "          <tbody>\n",
       "          \n",
       "          <tr>\n",
       "            \n",
       "            <td>\n",
       "              ...\n",
       "            </td>\n",
       "            \n",
       "            <td>\n",
       "              ...\n",
       "            </td>\n",
       "            \n",
       "          </tr>\n",
       "          \n",
       "          </tbody>\n",
       "        </table>\n",
       "    "
      ],
      "text/plain": [
       "<rpy2.robjects.vectors.DataFrame object at 0x7fb0cb361640> [RTYPES.VECSXP]\n",
       "R classes: ('data.frame',)\n",
       "[IntSexpVector, StrSexpVector]\n",
       "  int_values: <class 'rpy2.rinterface.IntSexpVector'>\n",
       "  <rpy2.rinterface.IntSexpVector object at 0x7fb0ca584640> [RTYPES.INTSXP]\n",
       "  str_values: <class 'rpy2.rinterface_lib.sexp.StrSexpVector'>\n",
       "  <rpy2.rinterface_lib.sexp.StrSexpVector object at 0x7fb0ca584dc0> [RTYPES.STRSXP]"
      ]
     },
     "execution_count": 7,
     "metadata": {},
     "output_type": "execute_result"
    }
   ],
   "source": [
    "r_df = ro.DataFrame({'int_values': ro.IntVector([1,2,3]),\n",
    "                     'str_values': ro.StrVector(['abc', 'def', 'ghi'])})\n",
    "\n",
    "r_df"
   ]
  },
  {
   "cell_type": "markdown",
   "id": "d4a84cbf",
   "metadata": {},
   "source": [
    "It can be converted to a pandas data frame using the same converter:"
   ]
  },
  {
   "cell_type": "code",
   "execution_count": 8,
   "id": "b97fd77c",
   "metadata": {
    "execution": {
     "iopub.execute_input": "2025-05-23T19:02:42.998906Z",
     "iopub.status.busy": "2025-05-23T19:02:42.998558Z",
     "iopub.status.idle": "2025-05-23T19:02:43.006716Z",
     "shell.execute_reply": "2025-05-23T19:02:43.006066Z"
    }
   },
   "outputs": [
    {
     "data": {
      "text/html": [
       "<div>\n",
       "<style scoped>\n",
       "    .dataframe tbody tr th:only-of-type {\n",
       "        vertical-align: middle;\n",
       "    }\n",
       "\n",
       "    .dataframe tbody tr th {\n",
       "        vertical-align: top;\n",
       "    }\n",
       "\n",
       "    .dataframe thead th {\n",
       "        text-align: right;\n",
       "    }\n",
       "</style>\n",
       "<table border=\"1\" class=\"dataframe\">\n",
       "  <thead>\n",
       "    <tr style=\"text-align: right;\">\n",
       "      <th></th>\n",
       "      <th>int_values</th>\n",
       "      <th>str_values</th>\n",
       "    </tr>\n",
       "  </thead>\n",
       "  <tbody>\n",
       "    <tr>\n",
       "      <th>1</th>\n",
       "      <td>1</td>\n",
       "      <td>abc</td>\n",
       "    </tr>\n",
       "    <tr>\n",
       "      <th>2</th>\n",
       "      <td>2</td>\n",
       "      <td>def</td>\n",
       "    </tr>\n",
       "    <tr>\n",
       "      <th>3</th>\n",
       "      <td>3</td>\n",
       "      <td>ghi</td>\n",
       "    </tr>\n",
       "  </tbody>\n",
       "</table>\n",
       "</div>"
      ],
      "text/plain": [
       "   int_values str_values\n",
       "1           1        abc\n",
       "2           2        def\n",
       "3           3        ghi"
      ]
     },
     "execution_count": 8,
     "metadata": {},
     "output_type": "execute_result"
    }
   ],
   "source": [
    "with (ro.default_converter + pandas2ri.converter).context():\n",
    "  pd_from_r_df = ro.conversion.get_conversion().rpy2py(r_df)\n",
    "\n",
    "pd_from_r_df"
   ]
  },
  {
   "cell_type": "markdown",
   "id": "fe56314b",
   "metadata": {},
   "source": [
    "## Date and time objects"
   ]
  },
  {
   "cell_type": "code",
   "execution_count": 9,
   "id": "2a2174e1",
   "metadata": {
    "execution": {
     "iopub.execute_input": "2025-05-23T19:02:43.008463Z",
     "iopub.status.busy": "2025-05-23T19:02:43.008273Z",
     "iopub.status.idle": "2025-05-23T19:02:43.015193Z",
     "shell.execute_reply": "2025-05-23T19:02:43.014549Z"
    }
   },
   "outputs": [
    {
     "data": {
      "text/html": [
       "<div>\n",
       "<style scoped>\n",
       "    .dataframe tbody tr th:only-of-type {\n",
       "        vertical-align: middle;\n",
       "    }\n",
       "\n",
       "    .dataframe tbody tr th {\n",
       "        vertical-align: top;\n",
       "    }\n",
       "\n",
       "    .dataframe thead th {\n",
       "        text-align: right;\n",
       "    }\n",
       "</style>\n",
       "<table border=\"1\" class=\"dataframe\">\n",
       "  <thead>\n",
       "    <tr style=\"text-align: right;\">\n",
       "      <th></th>\n",
       "      <th>Timestamp</th>\n",
       "    </tr>\n",
       "  </thead>\n",
       "  <tbody>\n",
       "    <tr>\n",
       "      <th>0</th>\n",
       "      <td>2017-01-01 00:00:00</td>\n",
       "    </tr>\n",
       "    <tr>\n",
       "      <th>1</th>\n",
       "      <td>2017-01-01 00:00:01</td>\n",
       "    </tr>\n",
       "    <tr>\n",
       "      <th>2</th>\n",
       "      <td>2017-01-01 00:00:02</td>\n",
       "    </tr>\n",
       "    <tr>\n",
       "      <th>3</th>\n",
       "      <td>2017-01-01 00:00:03</td>\n",
       "    </tr>\n",
       "    <tr>\n",
       "      <th>4</th>\n",
       "      <td>2017-01-01 00:00:04</td>\n",
       "    </tr>\n",
       "    <tr>\n",
       "      <th>5</th>\n",
       "      <td>2017-01-01 00:00:05</td>\n",
       "    </tr>\n",
       "    <tr>\n",
       "      <th>6</th>\n",
       "      <td>2017-01-01 00:00:06</td>\n",
       "    </tr>\n",
       "    <tr>\n",
       "      <th>7</th>\n",
       "      <td>2017-01-01 00:00:07</td>\n",
       "    </tr>\n",
       "    <tr>\n",
       "      <th>8</th>\n",
       "      <td>2017-01-01 00:00:08</td>\n",
       "    </tr>\n",
       "    <tr>\n",
       "      <th>9</th>\n",
       "      <td>2017-01-01 00:00:09</td>\n",
       "    </tr>\n",
       "  </tbody>\n",
       "</table>\n",
       "</div>"
      ],
      "text/plain": [
       "            Timestamp\n",
       "0 2017-01-01 00:00:00\n",
       "1 2017-01-01 00:00:01\n",
       "2 2017-01-01 00:00:02\n",
       "3 2017-01-01 00:00:03\n",
       "4 2017-01-01 00:00:04\n",
       "5 2017-01-01 00:00:05\n",
       "6 2017-01-01 00:00:06\n",
       "7 2017-01-01 00:00:07\n",
       "8 2017-01-01 00:00:08\n",
       "9 2017-01-01 00:00:09"
      ]
     },
     "execution_count": 9,
     "metadata": {},
     "output_type": "execute_result"
    }
   ],
   "source": [
    "pd_df = pd.DataFrame({\n",
    "    'Timestamp': pd.date_range('2017-01-01 00:00:00', periods=10, freq='s')\n",
    "    })\n",
    "    \n",
    "pd_df"
   ]
  },
  {
   "cell_type": "code",
   "execution_count": 10,
   "id": "cda6a7bd",
   "metadata": {
    "execution": {
     "iopub.execute_input": "2025-05-23T19:02:43.017009Z",
     "iopub.status.busy": "2025-05-23T19:02:43.016818Z",
     "iopub.status.idle": "2025-05-23T19:02:43.023916Z",
     "shell.execute_reply": "2025-05-23T19:02:43.023300Z"
    }
   },
   "outputs": [
    {
     "data": {
      "text/html": [
       "\n",
       "        <span>R/rpy2 DataFrame (10 x 1)</span>\n",
       "        <table>\n",
       "          <thead>\n",
       "            <tr>\n",
       "              \n",
       "              <th>Timestamp</th>\n",
       "              \n",
       "            </tr>\n",
       "          </thead>\n",
       "          <tbody>\n",
       "          \n",
       "          <tr>\n",
       "            \n",
       "            <td>\n",
       "              ...\n",
       "            </td>\n",
       "            \n",
       "          </tr>\n",
       "          \n",
       "          </tbody>\n",
       "        </table>\n",
       "    "
      ],
      "text/plain": [
       "<rpy2.robjects.vectors.DataFrame object at 0x7fb0ca39fa40> [RTYPES.VECSXP]\n",
       "R classes: ('data.frame',)\n",
       "[FloatSexpVector]\n",
       "  Timestamp: <class 'rpy2.rinterface.FloatSexpVector'>\n",
       "  <rpy2.rinterface.FloatSexpVector object at 0x7fb0ca756380> [RTYPES.REALSXP]"
      ]
     },
     "execution_count": 10,
     "metadata": {},
     "output_type": "execute_result"
    }
   ],
   "source": [
    "with (ro.default_converter + pandas2ri.converter).context():\n",
    "  r_from_pd_df = ro.conversion.py2rpy(pd_df)\n",
    "\n",
    "r_from_pd_df"
   ]
  },
  {
   "cell_type": "markdown",
   "id": "5c222f16",
   "metadata": {},
   "source": [
    "The timezone used for conversion is the system's default timezone unless\n",
    "`rpy2.robjects.vectors.default_timezone` is specified...\n",
    "or unless the time zone is specified in the original time object:"
   ]
  },
  {
   "cell_type": "code",
   "execution_count": 11,
   "id": "017de94c",
   "metadata": {
    "execution": {
     "iopub.execute_input": "2025-05-23T19:02:43.025829Z",
     "iopub.status.busy": "2025-05-23T19:02:43.025461Z",
     "iopub.status.idle": "2025-05-23T19:02:43.032779Z",
     "shell.execute_reply": "2025-05-23T19:02:43.032246Z"
    }
   },
   "outputs": [
    {
     "data": {
      "text/html": [
       "\n",
       "        <span>R/rpy2 DataFrame (10 x 1)</span>\n",
       "        <table>\n",
       "          <thead>\n",
       "            <tr>\n",
       "              \n",
       "              <th>Timestamp</th>\n",
       "              \n",
       "            </tr>\n",
       "          </thead>\n",
       "          <tbody>\n",
       "          \n",
       "          <tr>\n",
       "            \n",
       "            <td>\n",
       "              ...\n",
       "            </td>\n",
       "            \n",
       "          </tr>\n",
       "          \n",
       "          </tbody>\n",
       "        </table>\n",
       "    "
      ],
      "text/plain": [
       "<rpy2.robjects.vectors.DataFrame object at 0x7fb0ca39a800> [RTYPES.VECSXP]\n",
       "R classes: ('data.frame',)\n",
       "[FloatSexpVector]\n",
       "  Timestamp: <class 'rpy2.rinterface.FloatSexpVector'>\n",
       "  <rpy2.rinterface.FloatSexpVector object at 0x7fb0ca3784c0> [RTYPES.REALSXP]"
      ]
     },
     "execution_count": 11,
     "metadata": {},
     "output_type": "execute_result"
    }
   ],
   "source": [
    "pd_tz_df = pd.DataFrame({\n",
    "    'Timestamp': pd.date_range('2017-01-01 00:00:00', periods=10, freq='s',\n",
    "                               tz='UTC')\n",
    "    })\n",
    "    \n",
    "with (ro.default_converter + pandas2ri.converter).context():\n",
    "  r_from_pd_tz_df = ro.conversion.py2rpy(pd_tz_df)\n",
    "\n",
    "r_from_pd_tz_df"
   ]
  }
 ],
 "metadata": {
  "jupytext": {
   "cell_metadata_filter": "-all"
  },
  "kernelspec": {
   "display_name": "Python 3 (ipykernel)",
   "language": "python",
   "name": "python3"
  },
  "language_info": {
   "codemirror_mode": {
    "name": "ipython",
    "version": 3
   },
   "file_extension": ".py",
   "mimetype": "text/x-python",
   "name": "python",
   "nbconvert_exporter": "python",
   "pygments_lexer": "ipython3",
   "version": "3.10.17"
  }
 },
 "nbformat": 4,
 "nbformat_minor": 5
}

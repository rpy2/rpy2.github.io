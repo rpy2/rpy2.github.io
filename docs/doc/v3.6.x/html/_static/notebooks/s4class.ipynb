{
 "cells": [
  {
   "cell_type": "code",
   "execution_count": 1,
   "id": "d1b1bfb5",
   "metadata": {
    "execution": {
     "iopub.execute_input": "2025-08-02T22:48:14.657652Z",
     "iopub.status.busy": "2025-08-02T22:48:14.657450Z",
     "iopub.status.idle": "2025-08-02T22:48:15.517126Z",
     "shell.execute_reply": "2025-08-02T22:48:15.516347Z"
    }
   },
   "outputs": [],
   "source": [
    "from functools import partial\n",
    "from rpy2.ipython import html\n",
    "html.html_rdataframe=partial(html.html_rdataframe, table_class=\"docutils\")"
   ]
  },
  {
   "cell_type": "markdown",
   "id": "26885530",
   "metadata": {},
   "source": [
    "# Basic handling\n",
    "\n",
    "The S4 system is one the OOP systems in R.\n",
    "Its largest use might be in the Bioconductor collection of packages\n",
    "for bioinformatics and computational biology.\n",
    "\n",
    "We use the bioconductor `Biobase`:"
   ]
  },
  {
   "cell_type": "code",
   "execution_count": 2,
   "id": "e10de685",
   "metadata": {
    "execution": {
     "iopub.execute_input": "2025-08-02T22:48:15.519518Z",
     "iopub.status.busy": "2025-08-02T22:48:15.519241Z",
     "iopub.status.idle": "2025-08-02T22:48:15.885836Z",
     "shell.execute_reply": "2025-08-02T22:48:15.885039Z"
    }
   },
   "outputs": [],
   "source": [
    "from rpy2.robjects.packages import importr\n",
    "biobase = importr('Biobase')"
   ]
  },
  {
   "cell_type": "markdown",
   "id": "41dd4e09",
   "metadata": {},
   "source": [
    "The R package contains constructors for the S4 classes defined. They\n",
    "are simply functions, and can be used as such through `rpy2`:"
   ]
  },
  {
   "cell_type": "code",
   "execution_count": 3,
   "id": "d5a656f2",
   "metadata": {
    "execution": {
     "iopub.execute_input": "2025-08-02T22:48:15.888175Z",
     "iopub.status.busy": "2025-08-02T22:48:15.887966Z",
     "iopub.status.idle": "2025-08-02T22:48:15.976221Z",
     "shell.execute_reply": "2025-08-02T22:48:15.975546Z"
    }
   },
   "outputs": [],
   "source": [
    "eset = biobase.ExpressionSet() "
   ]
  },
  {
   "cell_type": "markdown",
   "id": "929aeae9",
   "metadata": {
    "lines_to_next_cell": 0
   },
   "source": [
    "The object `eset` is an R object of type `S4`:"
   ]
  },
  {
   "cell_type": "code",
   "execution_count": 4,
   "id": "5fadf3c4",
   "metadata": {
    "execution": {
     "iopub.execute_input": "2025-08-02T22:48:15.978443Z",
     "iopub.status.busy": "2025-08-02T22:48:15.978203Z",
     "iopub.status.idle": "2025-08-02T22:48:15.984882Z",
     "shell.execute_reply": "2025-08-02T22:48:15.984277Z"
    }
   },
   "outputs": [
    {
     "data": {
      "text/plain": [
       "rpy2.robjects.methods.RS4"
      ]
     },
     "execution_count": 4,
     "metadata": {},
     "output_type": "execute_result"
    }
   ],
   "source": [
    "type(eset)"
   ]
  },
  {
   "cell_type": "markdown",
   "id": "4c38ab3a",
   "metadata": {},
   "source": [
    "It has a class as well:"
   ]
  },
  {
   "cell_type": "code",
   "execution_count": 5,
   "id": "8a39fa65",
   "metadata": {
    "execution": {
     "iopub.execute_input": "2025-08-02T22:48:15.986698Z",
     "iopub.status.busy": "2025-08-02T22:48:15.986504Z",
     "iopub.status.idle": "2025-08-02T22:48:15.990708Z",
     "shell.execute_reply": "2025-08-02T22:48:15.990029Z"
    }
   },
   "outputs": [
    {
     "data": {
      "text/plain": [
       "('ExpressionSet',)"
      ]
     },
     "execution_count": 5,
     "metadata": {},
     "output_type": "execute_result"
    }
   ],
   "source": [
    "tuple(eset.rclass)"
   ]
  },
  {
   "cell_type": "markdown",
   "id": "956ef8ba",
   "metadata": {},
   "source": [
    "In R, objects attributes are also known as slots. The attribute names\n",
    "can be listed with:"
   ]
  },
  {
   "cell_type": "code",
   "execution_count": 6,
   "id": "e0504a48",
   "metadata": {
    "execution": {
     "iopub.execute_input": "2025-08-02T22:48:15.992589Z",
     "iopub.status.busy": "2025-08-02T22:48:15.992369Z",
     "iopub.status.idle": "2025-08-02T22:48:15.996640Z",
     "shell.execute_reply": "2025-08-02T22:48:15.995971Z"
    }
   },
   "outputs": [
    {
     "data": {
      "text/plain": [
       "('experimentData',\n",
       " 'assayData',\n",
       " 'phenoData',\n",
       " 'featureData',\n",
       " 'annotation',\n",
       " 'protocolData',\n",
       " '.__classVersion__')"
      ]
     },
     "execution_count": 6,
     "metadata": {},
     "output_type": "execute_result"
    }
   ],
   "source": [
    "tuple(eset.slotnames())"
   ]
  },
  {
   "cell_type": "markdown",
   "id": "864e2566",
   "metadata": {},
   "source": [
    "The attributes can also be accessed through the `rpy2` property `slots`.\n",
    "`slots` is a mapping between attributes names (keys) and their associated\n",
    "R object (values). It can be used as Python `dict`:"
   ]
  },
  {
   "cell_type": "code",
   "execution_count": 7,
   "id": "b9033e62",
   "metadata": {
    "execution": {
     "iopub.execute_input": "2025-08-02T22:48:15.998580Z",
     "iopub.status.busy": "2025-08-02T22:48:15.998350Z",
     "iopub.status.idle": "2025-08-02T22:48:16.003508Z",
     "shell.execute_reply": "2025-08-02T22:48:16.002840Z"
    }
   },
   "outputs": [
    {
     "name": "stdout",
     "output_type": "stream",
     "text": [
      "('.__classVersion__', 'experimentData', 'assayData', 'phenoData', 'featureData', 'annotation', 'protocolData', 'class')\n"
     ]
    }
   ],
   "source": [
    "# print keys\n",
    "print(tuple(eset.slots.keys()))\n",
    "\n",
    "# fetch `phenoData`\n",
    "phdat = eset.slots['phenoData']\n",
    "\n",
    "# phdat is an S4 object itself\n",
    "pheno_dataf = phdat.slots['data']"
   ]
  },
  {
   "cell_type": "markdown",
   "id": "15e046d3",
   "metadata": {},
   "source": [
    "# Mapping S4 classes to Python classes\n",
    "\n",
    "Writing one's own Python class extending rpy2's `RS4` is straightforward.\n",
    "That class can be used wrap our `eset` object"
   ]
  },
  {
   "cell_type": "code",
   "execution_count": 8,
   "id": "a6590cd3",
   "metadata": {
    "execution": {
     "iopub.execute_input": "2025-08-02T22:48:16.005236Z",
     "iopub.status.busy": "2025-08-02T22:48:16.005042Z",
     "iopub.status.idle": "2025-08-02T22:48:16.008236Z",
     "shell.execute_reply": "2025-08-02T22:48:16.007587Z"
    }
   },
   "outputs": [],
   "source": [
    "\n",
    "from rpy2.robjects.methods import RS4   \n",
    "class ExpressionSet(RS4):\n",
    "    pass\n",
    "\n",
    "eset_myclass = ExpressionSet(eset)"
   ]
  },
  {
   "cell_type": "markdown",
   "id": "7959ef98",
   "metadata": {},
   "source": [
    "## Custom conversion\n",
    "\n",
    "The conversion system can also be made aware our new class by customizing\n",
    "the handling of S4 objects.\n",
    "\n",
    "A simple implementation is a factory function that will conditionally wrap\n",
    "the object in our Python class `ExpressionSet`:"
   ]
  },
  {
   "cell_type": "code",
   "execution_count": 9,
   "id": "e065555f",
   "metadata": {
    "execution": {
     "iopub.execute_input": "2025-08-02T22:48:16.010084Z",
     "iopub.status.busy": "2025-08-02T22:48:16.009898Z",
     "iopub.status.idle": "2025-08-02T22:48:16.014756Z",
     "shell.execute_reply": "2025-08-02T22:48:16.014177Z"
    }
   },
   "outputs": [
    {
     "data": {
      "text/plain": [
       "<__main__.ExpressionSet object at 0x7ff750d3a540> [RTYPES.S4SXP]\n",
       "R classes: ('ExpressionSet',)"
      ]
     },
     "execution_count": 9,
     "metadata": {},
     "output_type": "execute_result"
    }
   ],
   "source": [
    "def rpy2py_s4(obj):\n",
    "    if 'ExpressionSet' in obj.rclass:\n",
    "        res = ExpressionSet(obj)\n",
    "    else:\n",
    "        res = robj\n",
    "    return res\n",
    "\n",
    "# try it\n",
    "rpy2py_s4(eset)"
   ]
  },
  {
   "cell_type": "markdown",
   "id": "69cd9ad7",
   "metadata": {},
   "source": [
    "That function can be be register to a `Converter`:"
   ]
  },
  {
   "cell_type": "code",
   "execution_count": 10,
   "id": "f54b2846",
   "metadata": {
    "execution": {
     "iopub.execute_input": "2025-08-02T22:48:16.016486Z",
     "iopub.status.busy": "2025-08-02T22:48:16.016284Z",
     "iopub.status.idle": "2025-08-02T22:48:16.020987Z",
     "shell.execute_reply": "2025-08-02T22:48:16.020341Z"
    }
   },
   "outputs": [
    {
     "data": {
      "text/plain": [
       "<function __main__.rpy2py_s4(obj)>"
      ]
     },
     "execution_count": 10,
     "metadata": {},
     "output_type": "execute_result"
    }
   ],
   "source": [
    "from rpy2.robjects import default_converter\n",
    "from rpy2.robjects.conversion import Converter\n",
    "\n",
    "my_converter = Converter('ExpressionSet-aware converter',\n",
    "                         template=default_converter)\n",
    "\n",
    "from rpy2.rinterface import SexpS4\n",
    "my_converter.rpy2py.register(SexpS4, rpy2py_s4)\n"
   ]
  },
  {
   "cell_type": "markdown",
   "id": "bc741111",
   "metadata": {},
   "source": [
    "When using that converter, the matching R objects are returned as\n",
    "instances of our Python class `ExpressionSet`:"
   ]
  },
  {
   "cell_type": "code",
   "execution_count": 11,
   "id": "659d271e",
   "metadata": {
    "execution": {
     "iopub.execute_input": "2025-08-02T22:48:16.022725Z",
     "iopub.status.busy": "2025-08-02T22:48:16.022544Z",
     "iopub.status.idle": "2025-08-02T22:48:16.064267Z",
     "shell.execute_reply": "2025-08-02T22:48:16.063638Z"
    }
   },
   "outputs": [
    {
     "name": "stdout",
     "output_type": "stream",
     "text": [
      "<class '__main__.ExpressionSet'>\n"
     ]
    }
   ],
   "source": [
    "\n",
    "with my_converter.context() as cv:\n",
    "    eset = biobase.ExpressionSet()\n",
    "    print(type(eset))"
   ]
  },
  {
   "cell_type": "markdown",
   "id": "dd9f91bf",
   "metadata": {},
   "source": [
    "## Class attributes\n",
    "\n",
    "The R attribute `assayData` can be accessed\n",
    "through the accessor method `exprs()` in R.\n",
    "We can make it a property in our Python class:"
   ]
  },
  {
   "cell_type": "code",
   "execution_count": 12,
   "id": "81905b91",
   "metadata": {
    "execution": {
     "iopub.execute_input": "2025-08-02T22:48:16.066307Z",
     "iopub.status.busy": "2025-08-02T22:48:16.066096Z",
     "iopub.status.idle": "2025-08-02T22:48:16.072091Z",
     "shell.execute_reply": "2025-08-02T22:48:16.071550Z"
    }
   },
   "outputs": [
    {
     "data": {
      "text/plain": [
       "<rpy2.robjects.environments.Environment object at 0x7ff70866c7c0> [RTYPES.ENVSXP]\n",
       "R classes: ('environment',)\n",
       "n items: 1"
      ]
     },
     "execution_count": 12,
     "metadata": {},
     "output_type": "execute_result"
    }
   ],
   "source": [
    "class ExpressionSet(RS4):\n",
    "    def _exprs_get(self):\n",
    "        return self.slots['assayData']\n",
    "    def _exprs_set(self, value):\n",
    "        self.slots['assayData'] = value\n",
    "    exprs = property(_exprs_get,\n",
    "                     _exprs_set,\n",
    "                     None,\n",
    "                     \"R attribute `exprs`\")\n",
    "eset_myclass = ExpressionSet(eset)\n",
    "\n",
    "eset_myclass.exprs"
   ]
  },
  {
   "cell_type": "markdown",
   "id": "39f643ab",
   "metadata": {},
   "source": [
    "## Methods\n",
    "\n",
    "In R's S4 methods are generic functions served by a multiple dispatch system.\n",
    "\n",
    "A natural way to expose the S4 method to Python is to use the\n",
    "`multipledispatch` package:"
   ]
  },
  {
   "cell_type": "code",
   "execution_count": 13,
   "id": "1e4f96a6",
   "metadata": {
    "execution": {
     "iopub.execute_input": "2025-08-02T22:48:16.073960Z",
     "iopub.status.busy": "2025-08-02T22:48:16.073767Z",
     "iopub.status.idle": "2025-08-02T22:48:16.079418Z",
     "shell.execute_reply": "2025-08-02T22:48:16.078858Z"
    }
   },
   "outputs": [],
   "source": [
    "from multipledispatch import dispatch\n",
    "from functools import partial\n",
    "\n",
    "my_namespace = dict()\n",
    "dispatch = partial(dispatch, namespace=my_namespace)\n",
    "\n",
    "@dispatch(ExpressionSet)\n",
    "def rowmedians(eset,\n",
    "               na_rm=False):\n",
    "    res = biobase.rowMedians(eset,\n",
    "                             na_rm=na_rm)\n",
    "    return res\n",
    "\n",
    "res = rowmedians(eset_myclass)"
   ]
  },
  {
   "cell_type": "markdown",
   "id": "b8b88163",
   "metadata": {},
   "source": [
    "The R method `rowMedians` is also defined for matrices, which we can expose\n",
    "on the Python end as well:"
   ]
  },
  {
   "cell_type": "code",
   "execution_count": 14,
   "id": "b60f2d2d",
   "metadata": {
    "execution": {
     "iopub.execute_input": "2025-08-02T22:48:16.081170Z",
     "iopub.status.busy": "2025-08-02T22:48:16.080986Z",
     "iopub.status.idle": "2025-08-02T22:48:16.084266Z",
     "shell.execute_reply": "2025-08-02T22:48:16.083721Z"
    }
   },
   "outputs": [],
   "source": [
    "from rpy2.robjects.vectors import Matrix\n",
    "@dispatch(Matrix)\n",
    "def rowmedians(m,\n",
    "               na_rm=False):\n",
    "    res = biobase.rowMedians(m,\n",
    "                             na_rm=na_rm)\n",
    "    return res"
   ]
  },
  {
   "cell_type": "markdown",
   "id": "b13c4d6d",
   "metadata": {},
   "source": [
    "While this is working, one can note that we call the same R function\n",
    "`rowMedians()` in the package `Biobase` in both Python decorated\n",
    "functions. What is happening is that the dispatch is performed by R.\n",
    "\n",
    "If this is ever becoming a performance issue, the specific R function\n",
    "dispatched can be prefetched and explicitly called in the Python\n",
    "function. For example:"
   ]
  },
  {
   "cell_type": "code",
   "execution_count": 15,
   "id": "743e84b2",
   "metadata": {
    "execution": {
     "iopub.execute_input": "2025-08-02T22:48:16.086128Z",
     "iopub.status.busy": "2025-08-02T22:48:16.085943Z",
     "iopub.status.idle": "2025-08-02T22:48:16.089982Z",
     "shell.execute_reply": "2025-08-02T22:48:16.089479Z"
    }
   },
   "outputs": [],
   "source": [
    "from rpy2.robjects.methods import getmethod\n",
    "from rpy2.robjects.vectors import StrVector\n",
    "_rowmedians_matrix = getmethod(StrVector([\"rowMedians\"]),\n",
    "                               signature=StrVector([\"matrix\"]))\n",
    "@dispatch(Matrix)\n",
    "def rowmedians(m,\n",
    "               na_rm=False):\n",
    "    res = _rowmedians_matrix(m,\n",
    "                             na_rm=na_rm)\n",
    "    return res"
   ]
  }
 ],
 "metadata": {
  "jupytext": {
   "cell_metadata_filter": "-all"
  },
  "kernelspec": {
   "display_name": "Python 3 (ipykernel)",
   "language": "python",
   "name": "python3"
  },
  "language_info": {
   "codemirror_mode": {
    "name": "ipython",
    "version": 3
   },
   "file_extension": ".py",
   "mimetype": "text/x-python",
   "name": "python",
   "nbconvert_exporter": "python",
   "pygments_lexer": "ipython3",
   "version": "3.10.18"
  }
 },
 "nbformat": 4,
 "nbformat_minor": 5
}

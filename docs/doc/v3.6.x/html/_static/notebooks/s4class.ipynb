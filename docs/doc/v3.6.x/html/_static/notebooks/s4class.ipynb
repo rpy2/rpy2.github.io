{
 "cells": [
  {
   "cell_type": "code",
   "execution_count": 1,
   "id": "e5b683f8",
   "metadata": {
    "execution": {
     "iopub.execute_input": "2025-06-08T03:30:16.507442Z",
     "iopub.status.busy": "2025-06-08T03:30:16.507245Z",
     "iopub.status.idle": "2025-06-08T03:30:17.552117Z",
     "shell.execute_reply": "2025-06-08T03:30:17.551509Z"
    }
   },
   "outputs": [
    {
     "name": "stderr",
     "output_type": "stream",
     "text": [
      "/opt/hostedtoolcache/Python/3.10.17/x64/lib/python3.10/site-packages/rpy2/rinterface/__init__.py:1211: UserWarning: Environment variable \"LD_LIBRARY_PATH\" redefined by R and overriding existing variable. Current: \"/opt/R/4.5.0/lib/R/lib:/usr/local/lib:/usr/lib/x86_64-linux-gnu:/usr/lib/jvm/temurin-17-jdk-amd64/lib/server:/opt/hostedtoolcache/Python/3.10.17/x64/lib:/opt/hostedtoolcache/Python/3.10.17/x64/lib\", R: \"/opt/R/4.5.0/lib/R/lib:/usr/local/lib:/usr/lib/x86_64-linux-gnu:/usr/lib/jvm/temurin-17-jdk-amd64/lib/server:/opt/R/4.5.0/lib/R/lib:/usr/local/lib:/usr/lib/x86_64-linux-gnu:/usr/lib/jvm/temurin-17-jdk-amd64/lib/server:/opt/hostedtoolcache/Python/3.10.17/x64/lib:/opt/hostedtoolcache/Python/3.10.17/x64/lib\"\n",
      "  warnings.warn(\n",
      "/opt/hostedtoolcache/Python/3.10.17/x64/lib/python3.10/site-packages/rpy2/rinterface/__init__.py:1211: UserWarning: Environment variable \"PWD\" redefined by R and overriding existing variable. Current: \"/home/runner/work/rpy2/rpy2/doc\", R: \"/home/runner/work/rpy2/rpy2/doc/notebooks\"\n",
      "  warnings.warn(\n"
     ]
    },
    {
     "name": "stderr",
     "output_type": "stream",
     "text": [
      "/opt/hostedtoolcache/Python/3.10.17/x64/lib/python3.10/site-packages/rpy2/rinterface/__init__.py:1211: UserWarning: Environment variable \"LD_LIBRARY_PATH\" redefined by R and overriding existing variable. Current: \"/opt/R/4.5.0/lib/R/lib:/usr/local/lib:/usr/lib/x86_64-linux-gnu:/usr/lib/jvm/temurin-17-jdk-amd64/lib/server:/opt/R/4.5.0/lib/R/lib:/usr/local/lib:/usr/lib/x86_64-linux-gnu:/usr/lib/jvm/temurin-17-jdk-amd64/lib/server:/opt/hostedtoolcache/Python/3.10.17/x64/lib:/opt/hostedtoolcache/Python/3.10.17/x64/lib\", R: \"/opt/R/4.5.0/lib/R/lib:/usr/local/lib:/usr/lib/x86_64-linux-gnu:/usr/lib/jvm/temurin-17-jdk-amd64/lib/server:/opt/R/4.5.0/lib/R/lib:/usr/local/lib:/usr/lib/x86_64-linux-gnu:/usr/lib/jvm/temurin-17-jdk-amd64/lib/server:/opt/R/4.5.0/lib/R/lib:/usr/local/lib:/usr/lib/x86_64-linux-gnu:/usr/lib/jvm/temurin-17-jdk-amd64/lib/server:/opt/hostedtoolcache/Python/3.10.17/x64/lib:/opt/hostedtoolcache/Python/3.10.17/x64/lib\"\n",
      "  warnings.warn(\n",
      "/opt/hostedtoolcache/Python/3.10.17/x64/lib/python3.10/site-packages/rpy2/rinterface/__init__.py:1211: UserWarning: Environment variable \"R_SESSION_TMPDIR\" redefined by R and overriding existing variable. Current: \"/tmp/Rtmpg69boH\", R: \"/tmp/RtmpRYMdPV\"\n",
      "  warnings.warn(\n"
     ]
    }
   ],
   "source": [
    "from functools import partial\n",
    "from rpy2.ipython import html\n",
    "html.html_rdataframe=partial(html.html_rdataframe, table_class=\"docutils\")"
   ]
  },
  {
   "cell_type": "markdown",
   "id": "a51b4044",
   "metadata": {},
   "source": [
    "# Basic handling\n",
    "\n",
    "The S4 system is one the OOP systems in R.\n",
    "Its largest use might be in the Bioconductor collection of packages\n",
    "for bioinformatics and computational biology.\n",
    "\n",
    "We use the bioconductor `Biobase`:"
   ]
  },
  {
   "cell_type": "code",
   "execution_count": 2,
   "id": "a10631b6",
   "metadata": {
    "execution": {
     "iopub.execute_input": "2025-06-08T03:30:17.554403Z",
     "iopub.status.busy": "2025-06-08T03:30:17.554146Z",
     "iopub.status.idle": "2025-06-08T03:30:17.926461Z",
     "shell.execute_reply": "2025-06-08T03:30:17.925805Z"
    }
   },
   "outputs": [],
   "source": [
    "from rpy2.robjects.packages import importr\n",
    "biobase = importr('Biobase')"
   ]
  },
  {
   "cell_type": "markdown",
   "id": "78af9f24",
   "metadata": {},
   "source": [
    "The R package contains constructors for the S4 classes defined. They\n",
    "are simply functions, and can be used as such through `rpy2`:"
   ]
  },
  {
   "cell_type": "code",
   "execution_count": 3,
   "id": "93798b4f",
   "metadata": {
    "execution": {
     "iopub.execute_input": "2025-06-08T03:30:17.928873Z",
     "iopub.status.busy": "2025-06-08T03:30:17.928662Z",
     "iopub.status.idle": "2025-06-08T03:30:18.020801Z",
     "shell.execute_reply": "2025-06-08T03:30:18.020092Z"
    }
   },
   "outputs": [],
   "source": [
    "eset = biobase.ExpressionSet() "
   ]
  },
  {
   "cell_type": "markdown",
   "id": "4d6ad5d7",
   "metadata": {
    "lines_to_next_cell": 0
   },
   "source": [
    "The object `eset` is an R object of type `S4`:"
   ]
  },
  {
   "cell_type": "code",
   "execution_count": 4,
   "id": "54191721",
   "metadata": {
    "execution": {
     "iopub.execute_input": "2025-06-08T03:30:18.023455Z",
     "iopub.status.busy": "2025-06-08T03:30:18.023017Z",
     "iopub.status.idle": "2025-06-08T03:30:18.030069Z",
     "shell.execute_reply": "2025-06-08T03:30:18.029378Z"
    }
   },
   "outputs": [
    {
     "data": {
      "text/plain": [
       "rpy2.robjects.methods.RS4"
      ]
     },
     "execution_count": 4,
     "metadata": {},
     "output_type": "execute_result"
    }
   ],
   "source": [
    "type(eset)"
   ]
  },
  {
   "cell_type": "markdown",
   "id": "a48abec6",
   "metadata": {},
   "source": [
    "It has a class as well:"
   ]
  },
  {
   "cell_type": "code",
   "execution_count": 5,
   "id": "5815377c",
   "metadata": {
    "execution": {
     "iopub.execute_input": "2025-06-08T03:30:18.032097Z",
     "iopub.status.busy": "2025-06-08T03:30:18.031733Z",
     "iopub.status.idle": "2025-06-08T03:30:18.036104Z",
     "shell.execute_reply": "2025-06-08T03:30:18.035448Z"
    }
   },
   "outputs": [
    {
     "data": {
      "text/plain": [
       "('ExpressionSet',)"
      ]
     },
     "execution_count": 5,
     "metadata": {},
     "output_type": "execute_result"
    }
   ],
   "source": [
    "tuple(eset.rclass)"
   ]
  },
  {
   "cell_type": "markdown",
   "id": "4af9acc2",
   "metadata": {},
   "source": [
    "In R, objects attributes are also known as slots. The attribute names\n",
    "can be listed with:"
   ]
  },
  {
   "cell_type": "code",
   "execution_count": 6,
   "id": "6958622e",
   "metadata": {
    "execution": {
     "iopub.execute_input": "2025-06-08T03:30:18.037898Z",
     "iopub.status.busy": "2025-06-08T03:30:18.037719Z",
     "iopub.status.idle": "2025-06-08T03:30:18.042145Z",
     "shell.execute_reply": "2025-06-08T03:30:18.041472Z"
    }
   },
   "outputs": [
    {
     "data": {
      "text/plain": [
       "('experimentData',\n",
       " 'assayData',\n",
       " 'phenoData',\n",
       " 'featureData',\n",
       " 'annotation',\n",
       " 'protocolData',\n",
       " '.__classVersion__')"
      ]
     },
     "execution_count": 6,
     "metadata": {},
     "output_type": "execute_result"
    }
   ],
   "source": [
    "tuple(eset.slotnames())"
   ]
  },
  {
   "cell_type": "markdown",
   "id": "090ed19a",
   "metadata": {},
   "source": [
    "The attributes can also be accessed through the `rpy2` property `slots`.\n",
    "`slots` is a mapping between attributes names (keys) and their associated\n",
    "R object (values). It can be used as Python `dict`:"
   ]
  },
  {
   "cell_type": "code",
   "execution_count": 7,
   "id": "e69cf1d4",
   "metadata": {
    "execution": {
     "iopub.execute_input": "2025-06-08T03:30:18.044140Z",
     "iopub.status.busy": "2025-06-08T03:30:18.043774Z",
     "iopub.status.idle": "2025-06-08T03:30:18.048767Z",
     "shell.execute_reply": "2025-06-08T03:30:18.048213Z"
    }
   },
   "outputs": [
    {
     "name": "stdout",
     "output_type": "stream",
     "text": [
      "('.__classVersion__', 'experimentData', 'assayData', 'phenoData', 'featureData', 'annotation', 'protocolData', 'class')\n"
     ]
    }
   ],
   "source": [
    "# print keys\n",
    "print(tuple(eset.slots.keys()))\n",
    "\n",
    "# fetch `phenoData`\n",
    "phdat = eset.slots['phenoData']\n",
    "\n",
    "# phdat is an S4 object itself\n",
    "pheno_dataf = phdat.slots['data']"
   ]
  },
  {
   "cell_type": "markdown",
   "id": "bd7a44e1",
   "metadata": {},
   "source": [
    "# Mapping S4 classes to Python classes\n",
    "\n",
    "Writing one's own Python class extending rpy2's `RS4` is straightforward.\n",
    "That class can be used wrap our `eset` object"
   ]
  },
  {
   "cell_type": "code",
   "execution_count": 8,
   "id": "173d529b",
   "metadata": {
    "execution": {
     "iopub.execute_input": "2025-06-08T03:30:18.050832Z",
     "iopub.status.busy": "2025-06-08T03:30:18.050416Z",
     "iopub.status.idle": "2025-06-08T03:30:18.053739Z",
     "shell.execute_reply": "2025-06-08T03:30:18.053173Z"
    }
   },
   "outputs": [],
   "source": [
    "\n",
    "from rpy2.robjects.methods import RS4   \n",
    "class ExpressionSet(RS4):\n",
    "    pass\n",
    "\n",
    "eset_myclass = ExpressionSet(eset)"
   ]
  },
  {
   "cell_type": "markdown",
   "id": "093325f4",
   "metadata": {},
   "source": [
    "## Custom conversion\n",
    "\n",
    "The conversion system can also be made aware our new class by customizing\n",
    "the handling of S4 objects.\n",
    "\n",
    "A simple implementation is a factory function that will conditionally wrap\n",
    "the object in our Python class `ExpressionSet`:"
   ]
  },
  {
   "cell_type": "code",
   "execution_count": 9,
   "id": "0c06618d",
   "metadata": {
    "execution": {
     "iopub.execute_input": "2025-06-08T03:30:18.055468Z",
     "iopub.status.busy": "2025-06-08T03:30:18.055285Z",
     "iopub.status.idle": "2025-06-08T03:30:18.060297Z",
     "shell.execute_reply": "2025-06-08T03:30:18.059757Z"
    }
   },
   "outputs": [
    {
     "data": {
      "text/plain": [
       "<__main__.ExpressionSet object at 0x7f0fa833c480> [RTYPES.S4SXP]\n",
       "R classes: ('ExpressionSet',)"
      ]
     },
     "execution_count": 9,
     "metadata": {},
     "output_type": "execute_result"
    }
   ],
   "source": [
    "def rpy2py_s4(obj):\n",
    "    if 'ExpressionSet' in obj.rclass:\n",
    "        res = ExpressionSet(obj)\n",
    "    else:\n",
    "        res = robj\n",
    "    return res\n",
    "\n",
    "# try it\n",
    "rpy2py_s4(eset)"
   ]
  },
  {
   "cell_type": "markdown",
   "id": "9e74fd97",
   "metadata": {},
   "source": [
    "That function can be be register to a `Converter`:"
   ]
  },
  {
   "cell_type": "code",
   "execution_count": 10,
   "id": "e892113d",
   "metadata": {
    "execution": {
     "iopub.execute_input": "2025-06-08T03:30:18.062132Z",
     "iopub.status.busy": "2025-06-08T03:30:18.061935Z",
     "iopub.status.idle": "2025-06-08T03:30:18.066881Z",
     "shell.execute_reply": "2025-06-08T03:30:18.066209Z"
    }
   },
   "outputs": [
    {
     "data": {
      "text/plain": [
       "<function __main__.rpy2py_s4(obj)>"
      ]
     },
     "execution_count": 10,
     "metadata": {},
     "output_type": "execute_result"
    }
   ],
   "source": [
    "from rpy2.robjects import default_converter\n",
    "from rpy2.robjects.conversion import Converter\n",
    "\n",
    "my_converter = Converter('ExpressionSet-aware converter',\n",
    "                         template=default_converter)\n",
    "\n",
    "from rpy2.rinterface import SexpS4\n",
    "my_converter.rpy2py.register(SexpS4, rpy2py_s4)\n"
   ]
  },
  {
   "cell_type": "markdown",
   "id": "43cdf250",
   "metadata": {},
   "source": [
    "When using that converter, the matching R objects are returned as\n",
    "instances of our Python class `ExpressionSet`:"
   ]
  },
  {
   "cell_type": "code",
   "execution_count": 11,
   "id": "674891ca",
   "metadata": {
    "execution": {
     "iopub.execute_input": "2025-06-08T03:30:18.068725Z",
     "iopub.status.busy": "2025-06-08T03:30:18.068498Z",
     "iopub.status.idle": "2025-06-08T03:30:18.110014Z",
     "shell.execute_reply": "2025-06-08T03:30:18.109388Z"
    }
   },
   "outputs": [
    {
     "name": "stdout",
     "output_type": "stream",
     "text": [
      "<class '__main__.ExpressionSet'>\n"
     ]
    }
   ],
   "source": [
    "\n",
    "with my_converter.context() as cv:\n",
    "    eset = biobase.ExpressionSet()\n",
    "    print(type(eset))"
   ]
  },
  {
   "cell_type": "markdown",
   "id": "b6a952af",
   "metadata": {},
   "source": [
    "## Class attributes\n",
    "\n",
    "The R attribute `assayData` can be accessed\n",
    "through the accessor method `exprs()` in R.\n",
    "We can make it a property in our Python class:"
   ]
  },
  {
   "cell_type": "code",
   "execution_count": 12,
   "id": "ed53080e",
   "metadata": {
    "execution": {
     "iopub.execute_input": "2025-06-08T03:30:18.112253Z",
     "iopub.status.busy": "2025-06-08T03:30:18.111762Z",
     "iopub.status.idle": "2025-06-08T03:30:18.117963Z",
     "shell.execute_reply": "2025-06-08T03:30:18.117418Z"
    }
   },
   "outputs": [
    {
     "data": {
      "text/plain": [
       "<rpy2.robjects.environments.Environment object at 0x7f0fa837f740> [RTYPES.ENVSXP]\n",
       "R classes: ('environment',)\n",
       "n items: 1"
      ]
     },
     "execution_count": 12,
     "metadata": {},
     "output_type": "execute_result"
    }
   ],
   "source": [
    "class ExpressionSet(RS4):\n",
    "    def _exprs_get(self):\n",
    "        return self.slots['assayData']\n",
    "    def _exprs_set(self, value):\n",
    "        self.slots['assayData'] = value\n",
    "    exprs = property(_exprs_get,\n",
    "                     _exprs_set,\n",
    "                     None,\n",
    "                     \"R attribute `exprs`\")\n",
    "eset_myclass = ExpressionSet(eset)\n",
    "\n",
    "eset_myclass.exprs"
   ]
  },
  {
   "cell_type": "markdown",
   "id": "ba3b44d9",
   "metadata": {},
   "source": [
    "## Methods\n",
    "\n",
    "In R's S4 methods are generic functions served by a multiple dispatch system.\n",
    "\n",
    "A natural way to expose the S4 method to Python is to use the\n",
    "`multipledispatch` package:"
   ]
  },
  {
   "cell_type": "code",
   "execution_count": 13,
   "id": "8aa95a80",
   "metadata": {
    "execution": {
     "iopub.execute_input": "2025-06-08T03:30:18.119973Z",
     "iopub.status.busy": "2025-06-08T03:30:18.119609Z",
     "iopub.status.idle": "2025-06-08T03:30:18.125568Z",
     "shell.execute_reply": "2025-06-08T03:30:18.125049Z"
    }
   },
   "outputs": [],
   "source": [
    "from multipledispatch import dispatch\n",
    "from functools import partial\n",
    "\n",
    "my_namespace = dict()\n",
    "dispatch = partial(dispatch, namespace=my_namespace)\n",
    "\n",
    "@dispatch(ExpressionSet)\n",
    "def rowmedians(eset,\n",
    "               na_rm=False):\n",
    "    res = biobase.rowMedians(eset,\n",
    "                             na_rm=na_rm)\n",
    "    return res\n",
    "\n",
    "res = rowmedians(eset_myclass)"
   ]
  },
  {
   "cell_type": "markdown",
   "id": "c70f08e5",
   "metadata": {},
   "source": [
    "The R method `rowMedians` is also defined for matrices, which we can expose\n",
    "on the Python end as well:"
   ]
  },
  {
   "cell_type": "code",
   "execution_count": 14,
   "id": "1245272e",
   "metadata": {
    "execution": {
     "iopub.execute_input": "2025-06-08T03:30:18.127349Z",
     "iopub.status.busy": "2025-06-08T03:30:18.127153Z",
     "iopub.status.idle": "2025-06-08T03:30:18.130556Z",
     "shell.execute_reply": "2025-06-08T03:30:18.129991Z"
    }
   },
   "outputs": [],
   "source": [
    "from rpy2.robjects.vectors import Matrix\n",
    "@dispatch(Matrix)\n",
    "def rowmedians(m,\n",
    "               na_rm=False):\n",
    "    res = biobase.rowMedians(m,\n",
    "                             na_rm=na_rm)\n",
    "    return res"
   ]
  },
  {
   "cell_type": "markdown",
   "id": "28b8701e",
   "metadata": {},
   "source": [
    "While this is working, one can note that we call the same R function\n",
    "`rowMedians()` in the package `Biobase` in both Python decorated\n",
    "functions. What is happening is that the dispatch is performed by R.\n",
    "\n",
    "If this is ever becoming a performance issue, the specific R function\n",
    "dispatched can be prefetched and explicitly called in the Python\n",
    "function. For example:"
   ]
  },
  {
   "cell_type": "code",
   "execution_count": 15,
   "id": "cb2240bf",
   "metadata": {
    "execution": {
     "iopub.execute_input": "2025-06-08T03:30:18.132321Z",
     "iopub.status.busy": "2025-06-08T03:30:18.132127Z",
     "iopub.status.idle": "2025-06-08T03:30:18.136367Z",
     "shell.execute_reply": "2025-06-08T03:30:18.135869Z"
    }
   },
   "outputs": [],
   "source": [
    "from rpy2.robjects.methods import getmethod\n",
    "from rpy2.robjects.vectors import StrVector\n",
    "_rowmedians_matrix = getmethod(StrVector([\"rowMedians\"]),\n",
    "                               signature=StrVector([\"matrix\"]))\n",
    "@dispatch(Matrix)\n",
    "def rowmedians(m,\n",
    "               na_rm=False):\n",
    "    res = _rowmedians_matrix(m,\n",
    "                             na_rm=na_rm)\n",
    "    return res"
   ]
  }
 ],
 "metadata": {
  "jupytext": {
   "cell_metadata_filter": "-all"
  },
  "kernelspec": {
   "display_name": "Python 3 (ipykernel)",
   "language": "python",
   "name": "python3"
  },
  "language_info": {
   "codemirror_mode": {
    "name": "ipython",
    "version": 3
   },
   "file_extension": ".py",
   "mimetype": "text/x-python",
   "name": "python",
   "nbconvert_exporter": "python",
   "pygments_lexer": "ipython3",
   "version": "3.10.17"
  }
 },
 "nbformat": 4,
 "nbformat_minor": 5
}

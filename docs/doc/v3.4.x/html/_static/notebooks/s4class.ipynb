{
 "cells": [
  {
   "cell_type": "code",
   "execution_count": 1,
   "id": "9efa130f",
   "metadata": {
    "execution": {
     "iopub.execute_input": "2021-06-04T02:32:38.802258Z",
     "iopub.status.busy": "2021-06-04T02:32:38.801699Z",
     "iopub.status.idle": "2021-06-04T02:32:39.533650Z",
     "shell.execute_reply": "2021-06-04T02:32:39.532943Z"
    }
   },
   "outputs": [],
   "source": [
    "from functools import partial\n",
    "from rpy2.ipython import html\n",
    "html.html_rdataframe=partial(html.html_rdataframe, table_class=\"docutils\")"
   ]
  },
  {
   "cell_type": "markdown",
   "id": "5d68bbc6",
   "metadata": {},
   "source": [
    "# Basic handling\n",
    "\n",
    "The S4 system is one the OOP systems in R.\n",
    "Its largest use might in the Bioconductor collection of packages\n",
    "for bioinformatics and computational biology.\n",
    "\n",
    "We use the bioconductor `Biobase`:"
   ]
  },
  {
   "cell_type": "code",
   "execution_count": 2,
   "id": "cd2da8f8",
   "metadata": {
    "execution": {
     "iopub.execute_input": "2021-06-04T02:32:39.537441Z",
     "iopub.status.busy": "2021-06-04T02:32:39.536789Z",
     "iopub.status.idle": "2021-06-04T02:32:40.013141Z",
     "shell.execute_reply": "2021-06-04T02:32:40.012143Z"
    }
   },
   "outputs": [],
   "source": [
    "from rpy2.robjects.packages import importr\n",
    "biobase = importr('Biobase')"
   ]
  },
  {
   "cell_type": "markdown",
   "id": "5b3ca76a",
   "metadata": {},
   "source": [
    "The R package contains constructors for the S4 classes defined. They\n",
    "are simply functions, and can be used as such through `rpy2`:"
   ]
  },
  {
   "cell_type": "code",
   "execution_count": 3,
   "id": "90b86472",
   "metadata": {
    "execution": {
     "iopub.execute_input": "2021-06-04T02:32:40.016837Z",
     "iopub.status.busy": "2021-06-04T02:32:40.016302Z",
     "iopub.status.idle": "2021-06-04T02:32:40.096876Z",
     "shell.execute_reply": "2021-06-04T02:32:40.096352Z"
    }
   },
   "outputs": [],
   "source": [
    "eset = biobase.ExpressionSet() "
   ]
  },
  {
   "cell_type": "markdown",
   "id": "b5b9bd5c",
   "metadata": {},
   "source": [
    "The object `eset` is an R object of type `S4`:"
   ]
  },
  {
   "cell_type": "code",
   "execution_count": 4,
   "id": "8711b798",
   "metadata": {
    "execution": {
     "iopub.execute_input": "2021-06-04T02:32:40.106713Z",
     "iopub.status.busy": "2021-06-04T02:32:40.105894Z",
     "iopub.status.idle": "2021-06-04T02:32:40.108789Z",
     "shell.execute_reply": "2021-06-04T02:32:40.109093Z"
    }
   },
   "outputs": [
    {
     "data": {
      "text/plain": [
       "rpy2.robjects.methods.RS4"
      ]
     },
     "execution_count": 1,
     "metadata": {},
     "output_type": "execute_result"
    }
   ],
   "source": [
    "type(eset)"
   ]
  },
  {
   "cell_type": "markdown",
   "id": "6b465a54",
   "metadata": {},
   "source": [
    "It has a class as well:"
   ]
  },
  {
   "cell_type": "code",
   "execution_count": 5,
   "id": "6ad55c57",
   "metadata": {
    "execution": {
     "iopub.execute_input": "2021-06-04T02:32:40.113552Z",
     "iopub.status.busy": "2021-06-04T02:32:40.112535Z",
     "iopub.status.idle": "2021-06-04T02:32:40.115509Z",
     "shell.execute_reply": "2021-06-04T02:32:40.115026Z"
    }
   },
   "outputs": [
    {
     "data": {
      "text/plain": [
       "('ExpressionSet',)"
      ]
     },
     "execution_count": 1,
     "metadata": {},
     "output_type": "execute_result"
    }
   ],
   "source": [
    "tuple(eset.rclass)"
   ]
  },
  {
   "cell_type": "markdown",
   "id": "863b69a8",
   "metadata": {},
   "source": [
    "In R, objects attributes are also known as slots. The attribute names\n",
    "can be listed with:"
   ]
  },
  {
   "cell_type": "code",
   "execution_count": 6,
   "id": "6ce664bc",
   "metadata": {
    "execution": {
     "iopub.execute_input": "2021-06-04T02:32:40.119064Z",
     "iopub.status.busy": "2021-06-04T02:32:40.117947Z",
     "iopub.status.idle": "2021-06-04T02:32:40.121229Z",
     "shell.execute_reply": "2021-06-04T02:32:40.120765Z"
    }
   },
   "outputs": [
    {
     "data": {
      "text/plain": [
       "('experimentData',\n",
       " 'assayData',\n",
       " 'phenoData',\n",
       " 'featureData',\n",
       " 'annotation',\n",
       " 'protocolData',\n",
       " '.__classVersion__')"
      ]
     },
     "execution_count": 1,
     "metadata": {},
     "output_type": "execute_result"
    }
   ],
   "source": [
    "tuple(eset.slotnames())"
   ]
  },
  {
   "cell_type": "markdown",
   "id": "180d2dca",
   "metadata": {},
   "source": [
    "The attributes can also be accessed through the `rpy2` property `slots`.\n",
    "`slots` is a mapping between attributes names (keys) and their associated\n",
    "R object (values). It can be used as Python `dict`:"
   ]
  },
  {
   "cell_type": "code",
   "execution_count": 7,
   "id": "de18f107",
   "metadata": {
    "execution": {
     "iopub.execute_input": "2021-06-04T02:32:40.124208Z",
     "iopub.status.busy": "2021-06-04T02:32:40.123820Z",
     "iopub.status.idle": "2021-06-04T02:32:40.128974Z",
     "shell.execute_reply": "2021-06-04T02:32:40.128537Z"
    }
   },
   "outputs": [
    {
     "name": "stdout",
     "output_type": "stream",
     "text": [
      "('.__classVersion__', 'experimentData', 'assayData', 'phenoData', 'featureData', 'annotation', 'protocolData', 'class')\n"
     ]
    }
   ],
   "source": [
    "# print keys\n",
    "print(tuple(eset.slots.keys()))\n",
    "\n",
    "# fetch `phenoData`\n",
    "phdat = eset.slots['phenoData']\n",
    "\n",
    "# phdat is an S4 object itself\n",
    "pheno_dataf = phdat.slots['data']"
   ]
  },
  {
   "cell_type": "markdown",
   "id": "20e01ffb",
   "metadata": {},
   "source": [
    "# Mapping S4 classes to Python classes\n",
    "\n",
    "Writing one's own Python class extending rpy2's `RS4` is straightforward.\n",
    "That class can be used wrap our `eset` object"
   ]
  },
  {
   "cell_type": "code",
   "execution_count": 8,
   "id": "e54325c2",
   "metadata": {
    "execution": {
     "iopub.execute_input": "2021-06-04T02:32:40.132503Z",
     "iopub.status.busy": "2021-06-04T02:32:40.132023Z",
     "iopub.status.idle": "2021-06-04T02:32:40.135413Z",
     "shell.execute_reply": "2021-06-04T02:32:40.134959Z"
    }
   },
   "outputs": [],
   "source": [
    "\n",
    "from rpy2.robjects.methods import RS4   \n",
    "class ExpressionSet(RS4):\n",
    "    pass\n",
    "\n",
    "eset_myclass = ExpressionSet(eset)"
   ]
  },
  {
   "cell_type": "markdown",
   "id": "e8143d24",
   "metadata": {},
   "source": [
    "## Custom conversion\n",
    "\n",
    "The conversion system can also be made aware our new class by customizing\n",
    "the handling of S4 objects.\n",
    "\n",
    "A simple implementation is a factory function that will conditionally wrap\n",
    "the object in our Python class `ExpressionSet`:"
   ]
  },
  {
   "cell_type": "code",
   "execution_count": 9,
   "id": "bf4168e0",
   "metadata": {
    "execution": {
     "iopub.execute_input": "2021-06-04T02:32:40.139647Z",
     "iopub.status.busy": "2021-06-04T02:32:40.139264Z",
     "iopub.status.idle": "2021-06-04T02:32:40.143450Z",
     "shell.execute_reply": "2021-06-04T02:32:40.143011Z"
    }
   },
   "outputs": [
    {
     "data": {
      "text/plain": [
       "<__main__.ExpressionSet object at 0x7f0b210a9540> [RTYPES.S4SXP]\n",
       "R classes: ('ExpressionSet',)"
      ]
     },
     "execution_count": 1,
     "metadata": {},
     "output_type": "execute_result"
    }
   ],
   "source": [
    "def rpy2py_s4(obj):\n",
    "    if 'ExpressionSet' in obj.rclass:\n",
    "        res = ExpressionSet(obj)\n",
    "    else:\n",
    "        res = robj\n",
    "    return res\n",
    "\n",
    "# try it\n",
    "rpy2py_s4(eset)"
   ]
  },
  {
   "cell_type": "markdown",
   "id": "d5160f5b",
   "metadata": {},
   "source": [
    "That function can be be register to a `Converter`:"
   ]
  },
  {
   "cell_type": "code",
   "execution_count": 10,
   "id": "5639672c",
   "metadata": {
    "execution": {
     "iopub.execute_input": "2021-06-04T02:32:40.147666Z",
     "iopub.status.busy": "2021-06-04T02:32:40.147257Z",
     "iopub.status.idle": "2021-06-04T02:32:40.152079Z",
     "shell.execute_reply": "2021-06-04T02:32:40.151567Z"
    }
   },
   "outputs": [
    {
     "data": {
      "text/plain": [
       "<function __main__.rpy2py_s4(obj)>"
      ]
     },
     "execution_count": 1,
     "metadata": {},
     "output_type": "execute_result"
    }
   ],
   "source": [
    "from rpy2.robjects import default_converter\n",
    "from rpy2.robjects.conversion import Converter, localconverter\n",
    "\n",
    "my_converter = Converter('ExpressionSet-aware converter',\n",
    "                         template=default_converter)\n",
    "\n",
    "from rpy2.rinterface import SexpS4\n",
    "my_converter.rpy2py.register(SexpS4, rpy2py_s4)\n"
   ]
  },
  {
   "cell_type": "markdown",
   "id": "40a85003",
   "metadata": {},
   "source": [
    "When using that converter, the matching R objects are returned as\n",
    "instances of our Python class `ExpressionSet`:"
   ]
  },
  {
   "cell_type": "code",
   "execution_count": 11,
   "id": "70a1eba3",
   "metadata": {
    "execution": {
     "iopub.execute_input": "2021-06-04T02:32:40.157719Z",
     "iopub.status.busy": "2021-06-04T02:32:40.157283Z",
     "iopub.status.idle": "2021-06-04T02:32:40.200577Z",
     "shell.execute_reply": "2021-06-04T02:32:40.200098Z"
    }
   },
   "outputs": [
    {
     "name": "stdout",
     "output_type": "stream",
     "text": [
      "<class '__main__.ExpressionSet'>\n"
     ]
    }
   ],
   "source": [
    "\n",
    "with localconverter(my_converter) as cv:\n",
    "    eset = biobase.ExpressionSet()\n",
    "    print(type(eset))"
   ]
  },
  {
   "cell_type": "markdown",
   "id": "10f1f9d3",
   "metadata": {},
   "source": [
    "## Class attributes\n",
    "\n",
    "The R attribute `assayData` can be accessed\n",
    "through the accessor method `exprs()` in R.\n",
    "We can make it a property in our Python class:"
   ]
  },
  {
   "cell_type": "code",
   "execution_count": 12,
   "id": "0ff4c858",
   "metadata": {
    "execution": {
     "iopub.execute_input": "2021-06-04T02:32:40.206297Z",
     "iopub.status.busy": "2021-06-04T02:32:40.205731Z",
     "iopub.status.idle": "2021-06-04T02:32:40.210582Z",
     "shell.execute_reply": "2021-06-04T02:32:40.209966Z"
    }
   },
   "outputs": [
    {
     "data": {
      "text/plain": [
       "<rpy2.robjects.environments.Environment object at 0x7f0b20e2b380> [RTYPES.ENVSXP]\n",
       "R classes: ('environment',)\n",
       "n items: 1"
      ]
     },
     "execution_count": 1,
     "metadata": {},
     "output_type": "execute_result"
    }
   ],
   "source": [
    "class ExpressionSet(RS4):\n",
    "    def _exprs_get(self):\n",
    "        return self.slots['assayData']\n",
    "    def _exprs_set(self, value):\n",
    "        self.slots['assayData'] = value\n",
    "    exprs = property(_exprs_get,\n",
    "                     _exprs_set,\n",
    "                     None,\n",
    "                     \"R attribute `exprs`\")\n",
    "eset_myclass = ExpressionSet(eset)\n",
    "\n",
    "eset_myclass.exprs"
   ]
  },
  {
   "cell_type": "markdown",
   "id": "84f8fccb",
   "metadata": {},
   "source": [
    "## Methods\n",
    "\n",
    "In R's S4 methods are generic functions served by a multiple dispatch system.\n",
    "\n",
    "A natural way to expose the S4 method to Python is to use the\n",
    "`multipledispatch` package:"
   ]
  },
  {
   "cell_type": "code",
   "execution_count": 13,
   "id": "a0662cd0",
   "metadata": {
    "execution": {
     "iopub.execute_input": "2021-06-04T02:32:40.214335Z",
     "iopub.status.busy": "2021-06-04T02:32:40.213890Z",
     "iopub.status.idle": "2021-06-04T02:32:40.218450Z",
     "shell.execute_reply": "2021-06-04T02:32:40.218029Z"
    }
   },
   "outputs": [],
   "source": [
    "from multipledispatch import dispatch\n",
    "from functools import partial\n",
    "\n",
    "my_namespace = dict()\n",
    "dispatch = partial(dispatch, namespace=my_namespace)\n",
    "\n",
    "@dispatch(ExpressionSet)\n",
    "def rowmedians(eset,\n",
    "               na_rm=False):\n",
    "    res = biobase.rowMedians(eset,\n",
    "                             na_rm=na_rm)\n",
    "    return res\n",
    "\n",
    "res = rowmedians(eset_myclass)"
   ]
  },
  {
   "cell_type": "markdown",
   "id": "2c9dcbb4",
   "metadata": {},
   "source": [
    "The R method `rowMedians` is also defined for matrices, which we can expose\n",
    "on the Python end as well:"
   ]
  },
  {
   "cell_type": "code",
   "execution_count": 14,
   "id": "d4371073",
   "metadata": {
    "execution": {
     "iopub.execute_input": "2021-06-04T02:32:40.221718Z",
     "iopub.status.busy": "2021-06-04T02:32:40.220401Z",
     "iopub.status.idle": "2021-06-04T02:32:40.224919Z",
     "shell.execute_reply": "2021-06-04T02:32:40.224507Z"
    }
   },
   "outputs": [],
   "source": [
    "from rpy2.robjects.vectors import Matrix\n",
    "@dispatch(Matrix)\n",
    "def rowmedians(m,\n",
    "               na_rm=False):\n",
    "    res = biobase.rowMedians(m,\n",
    "                             na_rm=na_rm)\n",
    "    return res"
   ]
  },
  {
   "cell_type": "markdown",
   "id": "59fc251f",
   "metadata": {},
   "source": [
    "While this is working, one can note that we call the same R function\n",
    "`rowMedians()` in the package `Biobase` in both Python decorated\n",
    "functions. What is happening is that the dispatch is performed by R.\n",
    "\n",
    "If this is ever becoming a performance issue, the specific R function\n",
    "dispatched can be prefetched and explicitly called in the Python\n",
    "function. For example:"
   ]
  },
  {
   "cell_type": "code",
   "execution_count": 15,
   "id": "803ff99b",
   "metadata": {
    "execution": {
     "iopub.execute_input": "2021-06-04T02:32:40.228941Z",
     "iopub.status.busy": "2021-06-04T02:32:40.228494Z",
     "iopub.status.idle": "2021-06-04T02:32:40.231990Z",
     "shell.execute_reply": "2021-06-04T02:32:40.231651Z"
    }
   },
   "outputs": [],
   "source": [
    "from rpy2.robjects.methods import getmethod\n",
    "from rpy2.robjects.vectors import StrVector\n",
    "_rowmedians_matrix = getmethod(StrVector([\"rowMedians\"]),\n",
    "                               signature=StrVector([\"matrix\"]))\n",
    "@dispatch(Matrix)\n",
    "def rowmedians(m,\n",
    "               na_rm=False):\n",
    "    res = _rowmedians_matrix(m,\n",
    "                             na_rm=na_rm)\n",
    "    return res"
   ]
  }
 ],
 "metadata": {
  "language_info": {
   "codemirror_mode": {
    "name": "ipython",
    "version": 3
   },
   "file_extension": ".py",
   "mimetype": "text/x-python",
   "name": "python",
   "nbconvert_exporter": "python",
   "pygments_lexer": "ipython3",
   "version": "3.8.5"
  }
 },
 "nbformat": 4,
 "nbformat_minor": 5
}

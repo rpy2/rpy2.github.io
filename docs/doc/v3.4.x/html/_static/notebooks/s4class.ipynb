{
 "cells": [
  {
   "cell_type": "code",
   "execution_count": 1,
   "id": "included-viking",
   "metadata": {
    "execution": {
     "iopub.execute_input": "2021-03-20T22:37:27.956142Z",
     "iopub.status.busy": "2021-03-20T22:37:27.955523Z",
     "iopub.status.idle": "2021-03-20T22:37:28.763030Z",
     "shell.execute_reply": "2021-03-20T22:37:28.761978Z"
    }
   },
   "outputs": [],
   "source": [
    "from functools import partial\n",
    "from rpy2.ipython import html\n",
    "html.html_rdataframe=partial(html.html_rdataframe, table_class=\"docutils\")"
   ]
  },
  {
   "cell_type": "markdown",
   "id": "reliable-timing",
   "metadata": {},
   "source": [
    "# Basic handling\n",
    "\n",
    "The S4 system is one the OOP systems in R.\n",
    "Its largest use might in the Bioconductor collection of packages\n",
    "for bioinformatics and computational biology.\n",
    "\n",
    "We use the bioconductor `Biobase`:"
   ]
  },
  {
   "cell_type": "code",
   "execution_count": 2,
   "id": "eligible-technique",
   "metadata": {
    "execution": {
     "iopub.execute_input": "2021-03-20T22:37:28.767160Z",
     "iopub.status.busy": "2021-03-20T22:37:28.766622Z",
     "iopub.status.idle": "2021-03-20T22:37:29.325675Z",
     "shell.execute_reply": "2021-03-20T22:37:29.324525Z"
    }
   },
   "outputs": [],
   "source": [
    "from rpy2.robjects.packages import importr\n",
    "biobase = importr('Biobase')"
   ]
  },
  {
   "cell_type": "markdown",
   "id": "offensive-spider",
   "metadata": {},
   "source": [
    "The R package contains constructors for the S4 classes defined. They\n",
    "are simply functions, and can be used as such through `rpy2`:"
   ]
  },
  {
   "cell_type": "code",
   "execution_count": 3,
   "id": "increased-lithuania",
   "metadata": {
    "execution": {
     "iopub.execute_input": "2021-03-20T22:37:29.330704Z",
     "iopub.status.busy": "2021-03-20T22:37:29.329712Z",
     "iopub.status.idle": "2021-03-20T22:37:29.413231Z",
     "shell.execute_reply": "2021-03-20T22:37:29.412729Z"
    }
   },
   "outputs": [],
   "source": [
    "eset = biobase.ExpressionSet() "
   ]
  },
  {
   "cell_type": "markdown",
   "id": "convinced-dancing",
   "metadata": {},
   "source": [
    "The object `eset` is an R object of type `S4`:"
   ]
  },
  {
   "cell_type": "code",
   "execution_count": 4,
   "id": "cognitive-alabama",
   "metadata": {
    "execution": {
     "iopub.execute_input": "2021-03-20T22:37:29.423017Z",
     "iopub.status.busy": "2021-03-20T22:37:29.422089Z",
     "iopub.status.idle": "2021-03-20T22:37:29.425442Z",
     "shell.execute_reply": "2021-03-20T22:37:29.425834Z"
    }
   },
   "outputs": [
    {
     "data": {
      "text/plain": [
       "rpy2.robjects.methods.RS4"
      ]
     },
     "execution_count": 1,
     "metadata": {},
     "output_type": "execute_result"
    }
   ],
   "source": [
    "type(eset)"
   ]
  },
  {
   "cell_type": "markdown",
   "id": "decimal-cylinder",
   "metadata": {},
   "source": [
    "It has a class as well:"
   ]
  },
  {
   "cell_type": "code",
   "execution_count": 5,
   "id": "fancy-finance",
   "metadata": {
    "execution": {
     "iopub.execute_input": "2021-03-20T22:37:29.430433Z",
     "iopub.status.busy": "2021-03-20T22:37:29.429642Z",
     "iopub.status.idle": "2021-03-20T22:37:29.432212Z",
     "shell.execute_reply": "2021-03-20T22:37:29.432661Z"
    }
   },
   "outputs": [
    {
     "data": {
      "text/plain": [
       "('ExpressionSet',)"
      ]
     },
     "execution_count": 1,
     "metadata": {},
     "output_type": "execute_result"
    }
   ],
   "source": [
    "tuple(eset.rclass)"
   ]
  },
  {
   "cell_type": "markdown",
   "id": "linear-footage",
   "metadata": {},
   "source": [
    "In R, objects attributes are also known as slots. The attribute names\n",
    "can be listed with:"
   ]
  },
  {
   "cell_type": "code",
   "execution_count": 6,
   "id": "urban-supervision",
   "metadata": {
    "execution": {
     "iopub.execute_input": "2021-03-20T22:37:29.436812Z",
     "iopub.status.busy": "2021-03-20T22:37:29.435813Z",
     "iopub.status.idle": "2021-03-20T22:37:29.438915Z",
     "shell.execute_reply": "2021-03-20T22:37:29.439331Z"
    }
   },
   "outputs": [
    {
     "data": {
      "text/plain": [
       "('experimentData',\n",
       " 'assayData',\n",
       " 'phenoData',\n",
       " 'featureData',\n",
       " 'annotation',\n",
       " 'protocolData',\n",
       " '.__classVersion__')"
      ]
     },
     "execution_count": 1,
     "metadata": {},
     "output_type": "execute_result"
    }
   ],
   "source": [
    "tuple(eset.slotnames())"
   ]
  },
  {
   "cell_type": "markdown",
   "id": "treated-consequence",
   "metadata": {},
   "source": [
    "The attributes can also be accessed through the `rpy2` property `slots`.\n",
    "`slots` is a mapping between attributes names (keys) and their associated\n",
    "R object (values). It can be used as Python `dict`:"
   ]
  },
  {
   "cell_type": "code",
   "execution_count": 7,
   "id": "moral-formula",
   "metadata": {
    "execution": {
     "iopub.execute_input": "2021-03-20T22:37:29.443261Z",
     "iopub.status.busy": "2021-03-20T22:37:29.442708Z",
     "iopub.status.idle": "2021-03-20T22:37:29.446515Z",
     "shell.execute_reply": "2021-03-20T22:37:29.446950Z"
    }
   },
   "outputs": [
    {
     "name": "stdout",
     "output_type": "stream",
     "text": [
      "('.__classVersion__', 'experimentData', 'assayData', 'phenoData', 'featureData', 'annotation', 'protocolData', 'class')\n"
     ]
    }
   ],
   "source": [
    "# print keys\n",
    "print(tuple(eset.slots.keys()))\n",
    "\n",
    "# fetch `phenoData`\n",
    "phdat = eset.slots['phenoData']\n",
    "\n",
    "# phdat is an S4 object itself\n",
    "pheno_dataf = phdat.slots['data']"
   ]
  },
  {
   "cell_type": "markdown",
   "id": "supported-albany",
   "metadata": {},
   "source": [
    "# Mapping S4 classes to Python classes\n",
    "\n",
    "Writing one's own Python class extending rpy2's `RS4` is straightforward.\n",
    "That class can be used wrap our `eset` object"
   ]
  },
  {
   "cell_type": "code",
   "execution_count": 8,
   "id": "economic-halifax",
   "metadata": {
    "execution": {
     "iopub.execute_input": "2021-03-20T22:37:29.451713Z",
     "iopub.status.busy": "2021-03-20T22:37:29.450413Z",
     "iopub.status.idle": "2021-03-20T22:37:29.452336Z",
     "shell.execute_reply": "2021-03-20T22:37:29.452791Z"
    }
   },
   "outputs": [],
   "source": [
    "\n",
    "from rpy2.robjects.methods import RS4   \n",
    "class ExpressionSet(RS4):\n",
    "    pass\n",
    "\n",
    "eset_myclass = ExpressionSet(eset)"
   ]
  },
  {
   "cell_type": "markdown",
   "id": "dramatic-money",
   "metadata": {},
   "source": [
    "## Custom conversion\n",
    "\n",
    "The conversion system can also be made aware our new class by customizing\n",
    "the handling of S4 objects.\n",
    "\n",
    "A simple implementation is a factory function that will conditionally wrap\n",
    "the object in our Python class `ExpressionSet`:"
   ]
  },
  {
   "cell_type": "code",
   "execution_count": 9,
   "id": "defined-logging",
   "metadata": {
    "execution": {
     "iopub.execute_input": "2021-03-20T22:37:29.457937Z",
     "iopub.status.busy": "2021-03-20T22:37:29.456904Z",
     "iopub.status.idle": "2021-03-20T22:37:29.460067Z",
     "shell.execute_reply": "2021-03-20T22:37:29.460528Z"
    }
   },
   "outputs": [
    {
     "data": {
      "text/plain": [
       "<__main__.ExpressionSet object at 0x7f0fc9b4d0c0> [RTYPES.S4SXP]\n",
       "R classes: ('ExpressionSet',)"
      ]
     },
     "execution_count": 1,
     "metadata": {},
     "output_type": "execute_result"
    }
   ],
   "source": [
    "def rpy2py_s4(obj):\n",
    "    if 'ExpressionSet' in obj.rclass:\n",
    "        res = ExpressionSet(obj)\n",
    "    else:\n",
    "        res = robj\n",
    "    return res\n",
    "\n",
    "# try it\n",
    "rpy2py_s4(eset)"
   ]
  },
  {
   "cell_type": "markdown",
   "id": "streaming-asian",
   "metadata": {},
   "source": [
    "That function can be be register to a `Converter`:"
   ]
  },
  {
   "cell_type": "code",
   "execution_count": 10,
   "id": "talented-ticket",
   "metadata": {
    "execution": {
     "iopub.execute_input": "2021-03-20T22:37:29.465831Z",
     "iopub.status.busy": "2021-03-20T22:37:29.465252Z",
     "iopub.status.idle": "2021-03-20T22:37:29.467998Z",
     "shell.execute_reply": "2021-03-20T22:37:29.468453Z"
    }
   },
   "outputs": [
    {
     "data": {
      "text/plain": [
       "<function __main__.rpy2py_s4(obj)>"
      ]
     },
     "execution_count": 1,
     "metadata": {},
     "output_type": "execute_result"
    }
   ],
   "source": [
    "from rpy2.robjects import default_converter\n",
    "from rpy2.robjects.conversion import Converter, localconverter\n",
    "\n",
    "my_converter = Converter('ExpressionSet-aware converter',\n",
    "                         template=default_converter)\n",
    "\n",
    "from rpy2.rinterface import SexpS4\n",
    "my_converter.rpy2py.register(SexpS4, rpy2py_s4)\n"
   ]
  },
  {
   "cell_type": "markdown",
   "id": "future-strap",
   "metadata": {},
   "source": [
    "When using that converter, the matching R objects are returned as\n",
    "instances of our Python class `ExpressionSet`:"
   ]
  },
  {
   "cell_type": "code",
   "execution_count": 11,
   "id": "statutory-glass",
   "metadata": {
    "execution": {
     "iopub.execute_input": "2021-03-20T22:37:29.472288Z",
     "iopub.status.busy": "2021-03-20T22:37:29.471742Z",
     "iopub.status.idle": "2021-03-20T22:37:29.522910Z",
     "shell.execute_reply": "2021-03-20T22:37:29.523728Z"
    }
   },
   "outputs": [
    {
     "name": "stdout",
     "output_type": "stream",
     "text": [
      "<class '__main__.ExpressionSet'>\n"
     ]
    }
   ],
   "source": [
    "\n",
    "with localconverter(my_converter) as cv:\n",
    "    eset = biobase.ExpressionSet()\n",
    "    print(type(eset))"
   ]
  },
  {
   "cell_type": "markdown",
   "id": "rubber-semiconductor",
   "metadata": {},
   "source": [
    "## Class attributes\n",
    "\n",
    "The R attribute `assayData` can be accessed\n",
    "through the accessor method `exprs()` in R.\n",
    "We can make it a property in our Python class:"
   ]
  },
  {
   "cell_type": "code",
   "execution_count": 12,
   "id": "tight-despite",
   "metadata": {
    "execution": {
     "iopub.execute_input": "2021-03-20T22:37:29.529532Z",
     "iopub.status.busy": "2021-03-20T22:37:29.528157Z",
     "iopub.status.idle": "2021-03-20T22:37:29.532059Z",
     "shell.execute_reply": "2021-03-20T22:37:29.531629Z"
    }
   },
   "outputs": [
    {
     "data": {
      "text/plain": [
       "<rpy2.robjects.environments.Environment object at 0x7f0ff0672dc0> [RTYPES.ENVSXP]\n",
       "R classes: ('environment',)\n",
       "n items: 1"
      ]
     },
     "execution_count": 1,
     "metadata": {},
     "output_type": "execute_result"
    }
   ],
   "source": [
    "class ExpressionSet(RS4):\n",
    "    def _exprs_get(self):\n",
    "        return self.slots['assayData']\n",
    "    def _exprs_set(self, value):\n",
    "        self.slots['assayData'] = value\n",
    "    exprs = property(_exprs_get,\n",
    "                     _exprs_set,\n",
    "                     None,\n",
    "                     \"R attribute `exprs`\")\n",
    "eset_myclass = ExpressionSet(eset)\n",
    "\n",
    "eset_myclass.exprs"
   ]
  },
  {
   "cell_type": "markdown",
   "id": "promotional-diving",
   "metadata": {},
   "source": [
    "## Methods\n",
    "\n",
    "In R's S4 methods are generic functions served by a multiple dispatch system.\n",
    "\n",
    "A natural way to expose the S4 method to Python is to use the\n",
    "`multipledispatch` package:"
   ]
  },
  {
   "cell_type": "code",
   "execution_count": 13,
   "id": "focal-daniel",
   "metadata": {
    "execution": {
     "iopub.execute_input": "2021-03-20T22:37:29.536325Z",
     "iopub.status.busy": "2021-03-20T22:37:29.535806Z",
     "iopub.status.idle": "2021-03-20T22:37:29.540194Z",
     "shell.execute_reply": "2021-03-20T22:37:29.540601Z"
    }
   },
   "outputs": [],
   "source": [
    "from multipledispatch import dispatch\n",
    "from functools import partial\n",
    "\n",
    "my_namespace = dict()\n",
    "dispatch = partial(dispatch, namespace=my_namespace)\n",
    "\n",
    "@dispatch(ExpressionSet)\n",
    "def rowmedians(eset,\n",
    "               na_rm=False):\n",
    "    res = biobase.rowMedians(eset,\n",
    "                             na_rm=na_rm)\n",
    "    return res\n",
    "\n",
    "res = rowmedians(eset_myclass)"
   ]
  },
  {
   "cell_type": "markdown",
   "id": "lovely-organizer",
   "metadata": {},
   "source": [
    "The R method `rowMedians` is also defined for matrices, which we can expose\n",
    "on the Python end as well:"
   ]
  },
  {
   "cell_type": "code",
   "execution_count": 14,
   "id": "radical-helena",
   "metadata": {
    "execution": {
     "iopub.execute_input": "2021-03-20T22:37:29.545540Z",
     "iopub.status.busy": "2021-03-20T22:37:29.544379Z",
     "iopub.status.idle": "2021-03-20T22:37:29.546121Z",
     "shell.execute_reply": "2021-03-20T22:37:29.546564Z"
    }
   },
   "outputs": [],
   "source": [
    "from rpy2.robjects.vectors import Matrix\n",
    "@dispatch(Matrix)\n",
    "def rowmedians(m,\n",
    "               na_rm=False):\n",
    "    res = biobase.rowMedians(m,\n",
    "                             na_rm=na_rm)\n",
    "    return res"
   ]
  },
  {
   "cell_type": "markdown",
   "id": "loved-anchor",
   "metadata": {},
   "source": [
    "While this is working, one can note that we call the same R function\n",
    "`rowMedians()` in the package `Biobase` in both Python decorated\n",
    "functions. What is happening is that the dispatch is performed by R.\n",
    "\n",
    "If this is ever becoming a performance issue, the specific R function\n",
    "dispatched can be prefetched and explicitly called in the Python\n",
    "function. For example:"
   ]
  },
  {
   "cell_type": "code",
   "execution_count": 15,
   "id": "wired-sewing",
   "metadata": {
    "execution": {
     "iopub.execute_input": "2021-03-20T22:37:29.551302Z",
     "iopub.status.busy": "2021-03-20T22:37:29.550747Z",
     "iopub.status.idle": "2021-03-20T22:37:29.553207Z",
     "shell.execute_reply": "2021-03-20T22:37:29.552758Z"
    }
   },
   "outputs": [],
   "source": [
    "from rpy2.robjects.methods import getmethod\n",
    "from rpy2.robjects.vectors import StrVector\n",
    "_rowmedians_matrix = getmethod(StrVector([\"rowMedians\"]),\n",
    "                               signature=StrVector([\"matrix\"]))\n",
    "@dispatch(Matrix)\n",
    "def rowmedians(m,\n",
    "               na_rm=False):\n",
    "    res = _rowmedians_matrix(m,\n",
    "                             na_rm=na_rm)\n",
    "    return res"
   ]
  }
 ],
 "metadata": {
  "language_info": {
   "codemirror_mode": {
    "name": "ipython",
    "version": 3
   },
   "file_extension": ".py",
   "mimetype": "text/x-python",
   "name": "python",
   "nbconvert_exporter": "python",
   "pygments_lexer": "ipython3",
   "version": "3.8.5"
  }
 },
 "nbformat": 4,
 "nbformat_minor": 5
}
